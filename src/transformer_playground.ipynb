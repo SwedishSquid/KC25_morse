{
 "cells": [
  {
   "cell_type": "code",
   "execution_count": 1,
   "metadata": {},
   "outputs": [],
   "source": [
    "import torch\n",
    "from torch import nn\n",
    "import torch.nn.functional as F\n",
    "import numpy as np\n",
    "import matplotlib.pyplot as plt\n",
    "import pandas as pd\n",
    "from pathlib import Path\n",
    "from sklearn.model_selection import train_test_split\n",
    "from tqdm import tqdm\n",
    "import Levenshtein\n",
    "import time\n",
    "\n",
    "from morse.models import CNNResidualBlock, TransformerResidualBlock, PoolingTransition, CNNTransformer, CTCHead\n",
    "from morse.my_datasets import ListDataset, load_tensors, filenames_to_torch\n",
    "from morse.samplers import LongCTCSampler\n",
    "from morse.augmentations import rotation_transform\n",
    "from morse.text_helpers import Vectorizer"
   ]
  },
  {
   "cell_type": "code",
   "execution_count": 2,
   "metadata": {},
   "outputs": [],
   "source": [
    "d_input = 65\n",
    "d_model = 64\n",
    "d_inner = 128\n",
    "d_output = 63\n",
    "\n",
    "batch_size = 16\n",
    "\n",
    "seq_len = 501"
   ]
  },
  {
   "cell_type": "code",
   "execution_count": 3,
   "metadata": {},
   "outputs": [
    {
     "name": "stdout",
     "output_type": "stream",
     "text": [
      "torch.Size([16, 64, 501])\n",
      "mean tensor(-0.0019, grad_fn=<MeanBackward0>)\n",
      "var tensor(1.3651, grad_fn=<VarBackward0>)\n"
     ]
    }
   ],
   "source": [
    "output = CNNResidualBlock(d_model=d_model, d_inner=d_inner, \n",
    "    apply_post_norm=False)(torch.randn((batch_size, d_model, seq_len)))\n",
    "print(output.shape)\n",
    "print('mean', torch.mean(output))\n",
    "print('var', torch.var(output))"
   ]
  },
  {
   "cell_type": "code",
   "execution_count": 4,
   "metadata": {},
   "outputs": [],
   "source": [
    "# output = TransformerResidualBlock(d_model, d_inner, apply_post_norm=False)(torch.randn((seq_len, batch_size, d_model)))\n",
    "# print(output.shape)\n",
    "# print('mean', torch.mean(output))\n",
    "# print('var', torch.var(output))"
   ]
  },
  {
   "cell_type": "code",
   "execution_count": 5,
   "metadata": {},
   "outputs": [],
   "source": [
    "# TransformerResidualBlock(d_model, d_inner, apply_post_norm=False).calculate_attention_entropy(torch.randn((seq_len, batch_size, d_model)))"
   ]
  },
  {
   "cell_type": "code",
   "execution_count": 6,
   "metadata": {},
   "outputs": [
    {
     "data": {
      "text/plain": [
       "torch.Size([16, 64, 251])"
      ]
     },
     "execution_count": 6,
     "metadata": {},
     "output_type": "execute_result"
    }
   ],
   "source": [
    "PoolingTransition(overlap=True)(torch.randn((batch_size, d_model, seq_len + 1))).shape"
   ]
  },
  {
   "cell_type": "code",
   "execution_count": 7,
   "metadata": {},
   "outputs": [
    {
     "name": "stdout",
     "output_type": "stream",
     "text": [
      "torch.Size([16, 63, 62])\n",
      "mean tensor(0.0356, grad_fn=<MeanBackward0>)\n",
      "var tensor(0.7015, grad_fn=<VarBackward0>)\n"
     ]
    }
   ],
   "source": [
    "out = CNNTransformer(d_input, d_model, n_pools=3, n_blocks_before_pool=2, n_transformer_blocks=2,\n",
    "               head_block=CTCHead(d_model, d_output),\n",
    "               make_cnn_block=lambda: CNNResidualBlock(d_model, d_inner),\n",
    "               make_transformer_block=lambda: TransformerResidualBlock(d_model, d_ffn=d_inner))(torch.randn((batch_size, d_input, seq_len)))\n",
    "\n",
    "print(out.shape)\n",
    "print('mean', torch.mean(out))\n",
    "print('var', torch.var(out))"
   ]
  },
  {
   "cell_type": "code",
   "execution_count": null,
   "metadata": {},
   "outputs": [],
   "source": []
  }
 ],
 "metadata": {
  "kernelspec": {
   "display_name": ".venv",
   "language": "python",
   "name": "python3"
  },
  "language_info": {
   "codemirror_mode": {
    "name": "ipython",
    "version": 3
   },
   "file_extension": ".py",
   "mimetype": "text/x-python",
   "name": "python",
   "nbconvert_exporter": "python",
   "pygments_lexer": "ipython3",
   "version": "3.11.3"
  }
 },
 "nbformat": 4,
 "nbformat_minor": 2
}
