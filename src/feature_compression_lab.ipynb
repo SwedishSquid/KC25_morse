{
 "cells": [
  {
   "cell_type": "code",
   "execution_count": 1,
   "metadata": {},
   "outputs": [],
   "source": [
    "import torch\n",
    "from torch import nn\n",
    "import torch.nn.functional as F\n",
    "import numpy as np\n",
    "import matplotlib.pyplot as plt\n",
    "import pandas as pd\n",
    "from pathlib import Path\n",
    "from sklearn.model_selection import train_test_split\n",
    "from tqdm import tqdm\n",
    "import Levenshtein\n",
    "import time\n",
    "import torchaudio\n",
    "import librosa\n",
    "\n",
    "\n",
    "from morse.my_datasets import read_dataset_from_files, generate_dataset\n",
    "from morse.augmentations import make_mel_feature_extraction_transform, normalize_mel_spec, make_compose_transform, make_noise_signal_transform, make_runtime_mel_bounded_noise_transform, make_volume_signal_transform, make_runtime_rotation_transform, make_mel_tail_zeroing_transform"
   ]
  },
  {
   "cell_type": "code",
   "execution_count": 2,
   "metadata": {},
   "outputs": [
    {
     "data": {
      "text/html": [
       "<div>\n",
       "<style scoped>\n",
       "    .dataframe tbody tr th:only-of-type {\n",
       "        vertical-align: middle;\n",
       "    }\n",
       "\n",
       "    .dataframe tbody tr th {\n",
       "        vertical-align: top;\n",
       "    }\n",
       "\n",
       "    .dataframe thead th {\n",
       "        text-align: right;\n",
       "    }\n",
       "</style>\n",
       "<table border=\"1\" class=\"dataframe\">\n",
       "  <thead>\n",
       "    <tr style=\"text-align: right;\">\n",
       "      <th></th>\n",
       "      <th>id</th>\n",
       "      <th>message</th>\n",
       "    </tr>\n",
       "  </thead>\n",
       "  <tbody>\n",
       "    <tr>\n",
       "      <th>0</th>\n",
       "      <td>1.opus</td>\n",
       "      <td>03ЩУЫЛПИГХ</td>\n",
       "    </tr>\n",
       "    <tr>\n",
       "      <th>1</th>\n",
       "      <td>2.opus</td>\n",
       "      <td>ЪЛТ0ДС6А3Г</td>\n",
       "    </tr>\n",
       "    <tr>\n",
       "      <th>2</th>\n",
       "      <td>3.opus</td>\n",
       "      <td>5ЭКЫБЗХЯН</td>\n",
       "    </tr>\n",
       "    <tr>\n",
       "      <th>3</th>\n",
       "      <td>4.opus</td>\n",
       "      <td>ЖЫЦОИ68КФ</td>\n",
       "    </tr>\n",
       "    <tr>\n",
       "      <th>4</th>\n",
       "      <td>5.opus</td>\n",
       "      <td>32Ю7МЫ ЗЛ</td>\n",
       "    </tr>\n",
       "  </tbody>\n",
       "</table>\n",
       "</div>"
      ],
      "text/plain": [
       "       id     message\n",
       "0  1.opus  03ЩУЫЛПИГХ\n",
       "1  2.opus  ЪЛТ0ДС6А3Г\n",
       "2  3.opus   5ЭКЫБЗХЯН\n",
       "3  4.opus   ЖЫЦОИ68КФ\n",
       "4  5.opus   32Ю7МЫ ЗЛ"
      ]
     },
     "execution_count": 2,
     "metadata": {},
     "output_type": "execute_result"
    }
   ],
   "source": [
    "labels_dir = '../'\n",
    "audio_dir = '../morse_dataset'\n",
    "\n",
    "\n",
    "# dev_flag = True\n",
    "\n",
    "\n",
    "full_train_df = pd.read_csv(Path(labels_dir, 'train.csv'))\n",
    "test_df = pd.read_csv(Path(labels_dir, 'test.csv'))\n",
    "full_train_df.head()"
   ]
  },
  {
   "cell_type": "code",
   "execution_count": 3,
   "metadata": {},
   "outputs": [
    {
     "name": "stderr",
     "output_type": "stream",
     "text": [
      "100%|██████████| 100/100 [00:03<00:00, 28.71it/s]\n"
     ]
    },
    {
     "name": "stdout",
     "output_type": "stream",
     "text": [
      "100\n"
     ]
    },
    {
     "name": "stderr",
     "output_type": "stream",
     "text": [
      "100%|██████████| 100/100 [00:01<00:00, 80.58it/s]"
     ]
    },
    {
     "name": "stdout",
     "output_type": "stream",
     "text": [
      "100\n"
     ]
    },
    {
     "name": "stderr",
     "output_type": "stream",
     "text": [
      "\n"
     ]
    }
   ],
   "source": [
    "from sklearn.model_selection import train_test_split\n",
    "\n",
    "train_index, val_index = train_test_split(np.arange(full_train_df.shape[0]), test_size=1/6, shuffle=True, \n",
    "                                           random_state=42)\n",
    "\n",
    "val_index = val_index[:100]\n",
    "train_index = train_index[:100]\n",
    "\n",
    "real_val_set = read_dataset_from_files(audio_dir, \n",
    "                                       filenames = full_train_df.iloc[val_index]['id'], \n",
    "                                       labels=list(full_train_df.iloc[val_index]['message']), \n",
    "                                    #    mel_spec_transform=make_mel_feature_extraction_transform(4)\n",
    "                                       )\n",
    "print(len(real_val_set))\n",
    "\n",
    "real_train_set = read_dataset_from_files(audio_dir, \n",
    "                                       filenames = full_train_df.iloc[train_index]['id'], \n",
    "                                       labels=list(full_train_df.iloc[train_index]['message']),\n",
    "                                    #    mel_spec_transform=make_mel_feature_extraction_transform(4)\n",
    "                                       )\n",
    "print(len(real_train_set))"
   ]
  },
  {
   "cell_type": "code",
   "execution_count": 4,
   "metadata": {},
   "outputs": [
    {
     "name": "stderr",
     "output_type": "stream",
     "text": [
      "100%|██████████| 100/100 [00:01<00:00, 70.64it/s]"
     ]
    },
    {
     "name": "stdout",
     "output_type": "stream",
     "text": [
      "100\n"
     ]
    },
    {
     "name": "stderr",
     "output_type": "stream",
     "text": [
      "\n"
     ]
    }
   ],
   "source": [
    "test_set = read_dataset_from_files(audio_dir, \n",
    "                                       filenames = list(test_df['id'])[:100], \n",
    "                                       labels=['' for i in range(5000)][:100], \n",
    "                                    #    mel_spec_transform=make_mel_feature_extraction_transform(4)\n",
    "                                       )\n",
    "print(len(test_set))"
   ]
  },
  {
   "cell_type": "code",
   "execution_count": 5,
   "metadata": {},
   "outputs": [
    {
     "name": "stderr",
     "output_type": "stream",
     "text": [
      "100%|██████████| 100/100 [00:00<00:00, 139.01it/s]\n"
     ]
    }
   ],
   "source": [
    "volume_tr_min_res=0.2\n",
    "volume_tr_max_freq=0.5\n",
    "noise_signal_tr__max_volume = 1.83\n",
    "# noise_signal_tr__prob = 0.6\n",
    "\n",
    "# bounded_noise_tr__prob = 0.96\n",
    "bounded_noise_tr__max_volume = 0.6\n",
    "bounded_noise_tr__std_frac_max_bound = 0.12\n",
    "\n",
    "inner_dot_duration_multiplier_deviation = 0.1\n",
    "\n",
    "runtime_rotation_transform__prob = 0.1\n",
    "\n",
    "signal_tr = make_compose_transform([\n",
    "    make_volume_signal_transform(min_res=volume_tr_min_res, max_freq=volume_tr_max_freq),\n",
    "    make_noise_signal_transform(max_volume=noise_signal_tr__max_volume, p=42),\n",
    "])\n",
    "\n",
    "inner_dot_duration_multiplier_range=(1 - inner_dot_duration_multiplier_deviation, 1 + inner_dot_duration_multiplier_deviation)\n",
    "\n",
    "\n",
    "\n",
    "fake_set = generate_dataset(100, signal_transform=signal_tr, mel_spec_transform=make_compose_transform([make_mel_tail_zeroing_transform(),\n",
    "                                                                                                    #    make_mel_feature_extraction_transform(4),\n",
    "                                                                                                       normalize_mel_spec]),\n",
    "                                  inner_dot_duration_multiplier_range=inner_dot_duration_multiplier_range, show_pbar=True)\n",
    "# fake_val_set = generate_dataset(fake_val_set_size, signal_transform=signal_tr, mel_spec_transform=bounded_noise_tr,\n",
    "#                                  inner_dot_duration_multiplier_range=inner_dot_duration_multiplier_range, show_pbar=False)"
   ]
  },
  {
   "cell_type": "code",
   "execution_count": 18,
   "metadata": {},
   "outputs": [],
   "source": [
    "# for i in range(100):\n",
    "#     train_mel = real_train_set[i][0]\n",
    "#     val_mel = real_val_set[i][0]\n",
    "#     test_mel = test_set[i][0]\n",
    "#     fake_mel = fake_set[i][0]\n",
    "#     fig, (ax1, ax2, ax3, ax4) = plt.subplots(4)\n",
    "#     ax1.imshow(train_mel, aspect=2)\n",
    "#     ax2.imshow(val_mel, aspect=2)\n",
    "#     ax3.imshow(test_mel, aspect=2)\n",
    "#     ax4.imshow(fake_mel, aspect=2)\n",
    "#     plt.show()"
   ]
  },
  {
   "cell_type": "code",
   "execution_count": null,
   "metadata": {},
   "outputs": [],
   "source": []
  }
 ],
 "metadata": {
  "kernelspec": {
   "display_name": ".venv",
   "language": "python",
   "name": "python3"
  },
  "language_info": {
   "codemirror_mode": {
    "name": "ipython",
    "version": 3
   },
   "file_extension": ".py",
   "mimetype": "text/x-python",
   "name": "python",
   "nbconvert_exporter": "python",
   "pygments_lexer": "ipython3",
   "version": "3.11.3"
  }
 },
 "nbformat": 4,
 "nbformat_minor": 2
}
