{
 "cells": [
  {
   "cell_type": "code",
   "execution_count": 7,
   "metadata": {},
   "outputs": [],
   "source": [
    "import torch\n",
    "from torch import nn\n",
    "import torch.nn.functional as F\n",
    "import numpy as np\n",
    "import matplotlib.pyplot as plt\n",
    "import pandas as pd\n",
    "from pathlib import Path\n",
    "from sklearn.model_selection import train_test_split\n",
    "from tqdm import tqdm\n",
    "import Levenshtein\n",
    "import time\n",
    "import torchaudio\n",
    "import librosa\n",
    "\n",
    "from morse.models import CNNResidualBlock, TransformerResidualBlock, PoolingTransition, CNNTransformer, CTCHead\n",
    "from morse.models import MySomething\n",
    "from morse.models import SimpleCNN\n",
    "from morse.my_datasets import ListDataset, load_tensors, filenames_to_torch\n",
    "from morse.samplers import LongCTCSampler\n",
    "# from morse.augmentations import rotation_transform, volume_signal_transform\n",
    "from morse.augmentations import make_mel_feature_extraction_transform\n",
    "from morse.text_helpers import Vectorizer, encode_to_morse, decode_from_morse\n",
    "\n",
    "from morse.my_datasets import generate_dataset, read_dataset_from_files"
   ]
  },
  {
   "cell_type": "code",
   "execution_count": 2,
   "metadata": {},
   "outputs": [
    {
     "data": {
      "text/html": [
       "<div>\n",
       "<style scoped>\n",
       "    .dataframe tbody tr th:only-of-type {\n",
       "        vertical-align: middle;\n",
       "    }\n",
       "\n",
       "    .dataframe tbody tr th {\n",
       "        vertical-align: top;\n",
       "    }\n",
       "\n",
       "    .dataframe thead th {\n",
       "        text-align: right;\n",
       "    }\n",
       "</style>\n",
       "<table border=\"1\" class=\"dataframe\">\n",
       "  <thead>\n",
       "    <tr style=\"text-align: right;\">\n",
       "      <th></th>\n",
       "      <th>id</th>\n",
       "      <th>message</th>\n",
       "    </tr>\n",
       "  </thead>\n",
       "  <tbody>\n",
       "    <tr>\n",
       "      <th>0</th>\n",
       "      <td>1.opus</td>\n",
       "      <td>03ЩУЫЛПИГХ</td>\n",
       "    </tr>\n",
       "    <tr>\n",
       "      <th>1</th>\n",
       "      <td>2.opus</td>\n",
       "      <td>ЪЛТ0ДС6А3Г</td>\n",
       "    </tr>\n",
       "    <tr>\n",
       "      <th>2</th>\n",
       "      <td>3.opus</td>\n",
       "      <td>5ЭКЫБЗХЯН</td>\n",
       "    </tr>\n",
       "    <tr>\n",
       "      <th>3</th>\n",
       "      <td>4.opus</td>\n",
       "      <td>ЖЫЦОИ68КФ</td>\n",
       "    </tr>\n",
       "    <tr>\n",
       "      <th>4</th>\n",
       "      <td>5.opus</td>\n",
       "      <td>32Ю7МЫ ЗЛ</td>\n",
       "    </tr>\n",
       "  </tbody>\n",
       "</table>\n",
       "</div>"
      ],
      "text/plain": [
       "       id     message\n",
       "0  1.opus  03ЩУЫЛПИГХ\n",
       "1  2.opus  ЪЛТ0ДС6А3Г\n",
       "2  3.opus   5ЭКЫБЗХЯН\n",
       "3  4.opus   ЖЫЦОИ68КФ\n",
       "4  5.opus   32Ю7МЫ ЗЛ"
      ]
     },
     "execution_count": 2,
     "metadata": {},
     "output_type": "execute_result"
    }
   ],
   "source": [
    "labels_dir = '../'\n",
    "# data_dir = '../data/melspec_nfft512_nc64'\n",
    "audio_dir = '../morse_dataset'\n",
    "\n",
    "full_train_df = pd.read_csv(Path(labels_dir, 'train.csv'))\n",
    "test_df = pd.read_csv(Path(labels_dir, 'test.csv'))\n",
    "full_train_df.head()"
   ]
  },
  {
   "cell_type": "code",
   "execution_count": 3,
   "metadata": {},
   "outputs": [
    {
     "name": "stdout",
     "output_type": "stream",
     "text": [
      "[' ', '#', '0', '1', '2', '3', '4', '5', '6', '7', '8', '9', 'А', 'Б', 'В', 'Г', 'Д', 'Е', 'Ж', 'З', 'И', 'Й', 'К', 'Л', 'М', 'Н', 'О', 'П', 'Р', 'С', 'Т', 'У', 'Ф', 'Х', 'Ц', 'Ч', 'Ш', 'Щ', 'Ъ', 'Ы', 'Ь', 'Э', 'Ю', 'Я']\n",
      "44\n",
      "{' ': 0, '#': 1, '0': 2, '1': 3, '2': 4, '3': 5, '4': 6, '5': 7, '6': 8, '7': 9, '8': 10, '9': 11, 'А': 12, 'Б': 13, 'В': 14, 'Г': 15, 'Д': 16, 'Е': 17, 'Ж': 18, 'З': 19, 'И': 20, 'Й': 21, 'К': 22, 'Л': 23, 'М': 24, 'Н': 25, 'О': 26, 'П': 27, 'Р': 28, 'С': 29, 'Т': 30, 'У': 31, 'Ф': 32, 'Х': 33, 'Ц': 34, 'Ч': 35, 'Ш': 36, 'Щ': 37, 'Ъ': 38, 'Ы': 39, 'Ь': 40, 'Э': 41, 'Ю': 42, 'Я': 43}\n",
      "tensor([27, 28, 20, 14, 17, 30,  0,  1])\n"
     ]
    }
   ],
   "source": [
    "index_to_letter = sorted(set(''.join(full_train_df['message'])))\n",
    "pad_value = 0\n",
    "print(index_to_letter)\n",
    "letter_to_index = dict([(letter, i) for i, letter in enumerate(index_to_letter)])\n",
    "dictionary_size = len(index_to_letter)\n",
    "print(dictionary_size)\n",
    "print(letter_to_index)\n",
    "\n",
    "vectorizer = Vectorizer(letter_to_index, index_to_letter)\n",
    "print(vectorizer.text_transform('ПРИВЕТ #'))"
   ]
  },
  {
   "cell_type": "code",
   "execution_count": 4,
   "metadata": {},
   "outputs": [],
   "source": [
    "device = 'cpu'"
   ]
  },
  {
   "cell_type": "code",
   "execution_count": null,
   "metadata": {},
   "outputs": [],
   "source": [
    "def load_cnnT_model(path):\n",
    "    dropout = 0.0838\n",
    "\n",
    "    d_input = 4\n",
    "    d_model = 128\n",
    "    d_inner = 128\n",
    "    d_output = dictionary_size + 1\n",
    "\n",
    "    n_pools = 4\n",
    "    n_blocks_before_pool = 3\n",
    "    n_transformer_blocks = 5\n",
    "    num_heads = 4       # might be important\n",
    "\n",
    "\n",
    "    model = CNNTransformer(d_input = d_input, d_model=d_model,\n",
    "        n_pools=n_pools, n_blocks_before_pool=n_blocks_before_pool,\n",
    "        n_transformer_blocks=n_transformer_blocks,\n",
    "        dropout=dropout,\n",
    "        head_block=CTCHead(d_model, d_output),\n",
    "        make_cnn_block=lambda: CNNResidualBlock(d_model, d_inner, dropout=dropout),\n",
    "        make_transformer_block=lambda: TransformerResidualBlock(d_model, d_ffn=d_inner, dropout=dropout, num_heads=num_heads), \n",
    "        pooling_overlap=True).to(device)\n",
    "\n",
    "    model.load_state_dict(torch.load(path, \n",
    "                                    weights_only=True, map_location=torch.device('cpu')))\n",
    "    return model"
   ]
  },
  {
   "cell_type": "code",
   "execution_count": 8,
   "metadata": {},
   "outputs": [
    {
     "name": "stderr",
     "output_type": "stream",
     "text": [
      "100%|██████████| 5000/5000 [01:00<00:00, 82.66it/s]"
     ]
    },
    {
     "name": "stdout",
     "output_type": "stream",
     "text": [
      "5000\n"
     ]
    },
    {
     "name": "stderr",
     "output_type": "stream",
     "text": [
      "\n"
     ]
    }
   ],
   "source": [
    "from sklearn.model_selection import train_test_split\n",
    "\n",
    "train_index, val_index = train_test_split(np.arange(full_train_df.shape[0]), test_size=1/6, shuffle=True, \n",
    "                                           random_state=42)\n",
    "real_val_set = read_dataset_from_files(audio_dir, \n",
    "                                       filenames = full_train_df.iloc[val_index]['id'], \n",
    "                                       labels=list(full_train_df.iloc[val_index]['message']), \n",
    "                                       mel_spec_transform=make_mel_feature_extraction_transform(4))\n",
    "print(len(real_val_set))"
   ]
  },
  {
   "cell_type": "code",
   "execution_count": 9,
   "metadata": {},
   "outputs": [],
   "source": [
    "def generate_probs(model, features_):\n",
    "    ctc_probs = []\n",
    "    model.eval()\n",
    "    with torch.no_grad():\n",
    "        for f in tqdm(features_):\n",
    "            outs = model(f[None]).squeeze()\n",
    "            probs = F.softmax(outs, dim=0)\n",
    "            ctc_probs.append(probs)\n",
    "    return ctc_probs"
   ]
  },
  {
   "cell_type": "code",
   "execution_count": 14,
   "metadata": {},
   "outputs": [],
   "source": [
    "def decode_probs_to_messages(probs, beam_size=10):\n",
    "    decoded = []\n",
    "    for prob in tqdm(probs):\n",
    "        seqs, likelihood = LongCTCSampler.sample(prob, beam_size=beam_size)\n",
    "        text = vectorizer.from_tensor(torch.tensor(seqs) - 1)\n",
    "        decoded.append(text)\n",
    "    return decoded"
   ]
  },
  {
   "cell_type": "code",
   "execution_count": 15,
   "metadata": {},
   "outputs": [],
   "source": [
    "def calculate_mean_distance(decoded_messages, target_messages):\n",
    "    assert len(decoded_messages) == len(target_messages)\n",
    "    dist_buffer = []\n",
    "    for dec, tar in zip(tqdm(decoded_messages), target_messages):\n",
    "        dist = Levenshtein.distance(dec, tar)\n",
    "        dist_buffer.append(dist)\n",
    "    return np.mean(dist_buffer)"
   ]
  },
  {
   "cell_type": "code",
   "execution_count": null,
   "metadata": {},
   "outputs": [
    {
     "name": "stderr",
     "output_type": "stream",
     "text": [
      "100%|██████████| 5000/5000 [00:56<00:00, 88.96it/s] "
     ]
    },
    {
     "name": "stdout",
     "output_type": "stream",
     "text": [
      "5000\n",
      "torch.Size([45, 32])\n"
     ]
    },
    {
     "name": "stderr",
     "output_type": "stream",
     "text": [
      "\n"
     ]
    }
   ],
   "source": [
    "# model = load_cnnT_model('../models/ignored/cnnT_pre30ep_FE_x4_30ep.pt')\n",
    "# probs = generate_probs(model, [f for f, m in real_val_set])\n",
    "# print(len(probs))\n",
    "# print(probs[0].shape)"
   ]
  },
  {
   "cell_type": "code",
   "execution_count": null,
   "metadata": {},
   "outputs": [
    {
     "name": "stderr",
     "output_type": "stream",
     "text": [
      "100%|██████████| 5000/5000 [05:34<00:00, 14.95it/s]\n"
     ]
    }
   ],
   "source": [
    "# decoded_messages = decode_probs_to_messages(probs, beam_size=10)"
   ]
  },
  {
   "cell_type": "code",
   "execution_count": null,
   "metadata": {},
   "outputs": [
    {
     "name": "stderr",
     "output_type": "stream",
     "text": [
      "100%|██████████| 5000/5000 [00:00<00:00, 714653.94it/s]\n"
     ]
    },
    {
     "data": {
      "text/plain": [
       "np.float64(0.2712)"
      ]
     },
     "execution_count": 17,
     "metadata": {},
     "output_type": "execute_result"
    }
   ],
   "source": [
    "# mean_dist = calculate_mean_distance(decoded_messages, [m for f, m in real_val_set])\n",
    "# mean_dist"
   ]
  },
  {
   "cell_type": "code",
   "execution_count": 18,
   "metadata": {},
   "outputs": [],
   "source": [
    "def predict_decode_and_measure(model_path):\n",
    "    model = load_cnnT_model(model_path)\n",
    "    probs = generate_probs(model, [f for f, m in real_val_set])\n",
    "    decoded_messages = decode_probs_to_messages(probs, beam_size=10)\n",
    "    mean_dist = calculate_mean_distance(decoded_messages, [m for f, m in real_val_set])\n",
    "    return probs, mean_dist"
   ]
  },
  {
   "cell_type": "code",
   "execution_count": 20,
   "metadata": {},
   "outputs": [
    {
     "name": "stderr",
     "output_type": "stream",
     "text": [
      "100%|██████████| 5000/5000 [00:56<00:00, 87.89it/s]\n",
      "100%|██████████| 5000/5000 [05:52<00:00, 14.17it/s]\n",
      "100%|██████████| 5000/5000 [00:00<?, ?it/s]"
     ]
    },
    {
     "name": "stdout",
     "output_type": "stream",
     "text": [
      "5000\n",
      "0.2712\n"
     ]
    },
    {
     "name": "stderr",
     "output_type": "stream",
     "text": [
      "\n"
     ]
    }
   ],
   "source": [
    "stat_fe4_30ep_probs, stat_fe4_30ep_mean_dist = predict_decode_and_measure('../models/ignored/cnnT_pre30ep_FE_x4_30ep.pt')\n",
    "print(len(stat_fe4_30ep_probs))\n",
    "print(stat_fe4_30ep_mean_dist)"
   ]
  },
  {
   "cell_type": "code",
   "execution_count": 21,
   "metadata": {},
   "outputs": [
    {
     "name": "stderr",
     "output_type": "stream",
     "text": [
      "100%|██████████| 5000/5000 [00:56<00:00, 88.70it/s] \n",
      "100%|██████████| 5000/5000 [05:09<00:00, 16.14it/s]\n",
      "100%|██████████| 5000/5000 [00:00<00:00, 657290.79it/s]"
     ]
    },
    {
     "name": "stdout",
     "output_type": "stream",
     "text": [
      "5000\n",
      "0.2716\n"
     ]
    },
    {
     "name": "stderr",
     "output_type": "stream",
     "text": [
      "\n"
     ]
    }
   ],
   "source": [
    "stat_fe4_20ep_probs, stat_fe4_20ep_mean_dist = predict_decode_and_measure('../models/ignored/cnnT_pre30ep_FE_x4_20ep.pt')\n",
    "print(len(stat_fe4_20ep_probs))\n",
    "print(stat_fe4_20ep_mean_dist)"
   ]
  },
  {
   "cell_type": "code",
   "execution_count": 34,
   "metadata": {},
   "outputs": [
    {
     "name": "stderr",
     "output_type": "stream",
     "text": [
      "100%|██████████| 5000/5000 [00:56<00:00, 88.38it/s] \n",
      "100%|██████████| 5000/5000 [05:19<00:00, 15.63it/s]\n",
      "100%|██████████| 5000/5000 [00:00<?, ?it/s]"
     ]
    },
    {
     "name": "stdout",
     "output_type": "stream",
     "text": [
      "5000\n",
      "0.2748\n"
     ]
    },
    {
     "name": "stderr",
     "output_type": "stream",
     "text": [
      "\n"
     ]
    }
   ],
   "source": [
    "stat_fe4_10ep_probs, stat_fe4_10ep_mean_dist = predict_decode_and_measure('../models/ignored/cnnT_pre30ep_FE_x4_10ep.pt')\n",
    "print(len(stat_fe4_10ep_probs))\n",
    "print(stat_fe4_10ep_mean_dist)"
   ]
  },
  {
   "cell_type": "code",
   "execution_count": 39,
   "metadata": {},
   "outputs": [
    {
     "name": "stderr",
     "output_type": "stream",
     "text": [
      "100%|██████████| 5000/5000 [06:30<00:00, 12.81it/s]\n",
      "100%|██████████| 5000/5000 [00:00<00:00, 4953122.34it/s]\n"
     ]
    }
   ],
   "source": [
    "stat_fe4_probs_averaged_by_checkpoints = torch.mean(torch.stack([\n",
    "    torch.stack(stat_fe4_10ep_probs),\n",
    "    torch.stack(stat_fe4_20ep_probs), \n",
    "    torch.stack(stat_fe4_30ep_probs)]), dim=0)\n",
    "_decoded_messages_from_stat_fe4_checkpoint_average_probs = decode_probs_to_messages(stat_fe4_probs_averaged_by_checkpoints, beam_size=10)\n",
    "mean_dist = calculate_mean_distance(_decoded_messages_from_stat_fe4_checkpoint_average_probs, [m for f, m in real_val_set])"
   ]
  },
  {
   "cell_type": "code",
   "execution_count": 40,
   "metadata": {},
   "outputs": [
    {
     "data": {
      "text/plain": [
       "np.float64(0.2698)"
      ]
     },
     "execution_count": 40,
     "metadata": {},
     "output_type": "execute_result"
    }
   ],
   "source": [
    "mean_dist"
   ]
  },
  {
   "cell_type": "markdown",
   "metadata": {},
   "source": [
    "### FEx4 rotated"
   ]
  },
  {
   "cell_type": "code",
   "execution_count": 62,
   "metadata": {},
   "outputs": [
    {
     "name": "stderr",
     "output_type": "stream",
     "text": [
      "100%|██████████| 5000/5000 [00:54<00:00, 91.13it/s] \n",
      "100%|██████████| 5000/5000 [06:46<00:00, 12.30it/s]\n",
      "100%|██████████| 5000/5000 [00:00<?, ?it/s]"
     ]
    },
    {
     "name": "stdout",
     "output_type": "stream",
     "text": [
      "5000\n",
      "0.2844\n"
     ]
    },
    {
     "name": "stderr",
     "output_type": "stream",
     "text": [
      "\n"
     ]
    }
   ],
   "source": [
    "rotated_fe4_probs_r0, rotated_fe4_mean_dist_r0 = predict_decode_and_measure('../models/ignored/cnnT_pre30ep_FE_x4_rotated_30ep.pt')\n",
    "print(len(rotated_fe4_probs_r0))\n",
    "print(rotated_fe4_mean_dist_r0)"
   ]
  },
  {
   "cell_type": "code",
   "execution_count": 64,
   "metadata": {},
   "outputs": [],
   "source": [
    "def make_const_runtime_rotation_transform(shift):\n",
    "    def tr(mel: torch.Tensor):\n",
    "        threshold = shift\n",
    "        result = torch.concat([mel[threshold:], mel[:threshold]], dim=0)\n",
    "        return result\n",
    "    return tr"
   ]
  },
  {
   "cell_type": "code",
   "execution_count": 65,
   "metadata": {},
   "outputs": [
    {
     "name": "stderr",
     "output_type": "stream",
     "text": [
      "100%|██████████| 5000/5000 [00:58<00:00, 85.80it/s]\n",
      "100%|██████████| 5000/5000 [05:34<00:00, 14.95it/s]\n",
      "100%|██████████| 5000/5000 [00:00<00:00, 999167.18it/s]"
     ]
    },
    {
     "name": "stdout",
     "output_type": "stream",
     "text": [
      "5000\n",
      "0.287\n"
     ]
    },
    {
     "name": "stderr",
     "output_type": "stream",
     "text": [
      "\n"
     ]
    }
   ],
   "source": [
    "real_val_set.transform = make_const_runtime_rotation_transform(shift=1)\n",
    "rotated_fe4_probs_r1, rotated_fe4_mean_dist_r1 = predict_decode_and_measure('../models/ignored/cnnT_pre30ep_FE_x4_rotated_30ep.pt')\n",
    "print(len(rotated_fe4_probs_r1))\n",
    "print(rotated_fe4_mean_dist_r1)\n",
    "real_val_set.transform = lambda x: x"
   ]
  },
  {
   "cell_type": "code",
   "execution_count": 74,
   "metadata": {},
   "outputs": [
    {
     "data": {
      "image/png": "[encoded data removed]",
      "text/plain": [
       "<Figure size 640x480 with 1 Axes>"
      ]
     },
     "metadata": {},
     "output_type": "display_data"
    },
    {
     "data": {
      "image/png": "[encoded data removed]",
      "text/plain": [
       "<Figure size 640x480 with 1 Axes>"
      ]
     },
     "metadata": {},
     "output_type": "display_data"
    }
   ],
   "source": [
    "plt.imshow(real_val_set[0][0], aspect=16)\n",
    "plt.show()\n",
    "\n",
    "real_val_set.transform = make_const_runtime_rotation_transform(shift=3)\n",
    "\n",
    "plt.imshow(real_val_set[0][0], aspect=16)\n",
    "plt.show()\n",
    "\n",
    "real_val_set.transform = lambda x: x"
   ]
  },
  {
   "cell_type": "code",
   "execution_count": 71,
   "metadata": {},
   "outputs": [
    {
     "name": "stderr",
     "output_type": "stream",
     "text": [
      "100%|██████████| 5000/5000 [00:52<00:00, 96.04it/s] \n",
      "100%|██████████| 5000/5000 [04:55<00:00, 16.93it/s]\n",
      "100%|██████████| 5000/5000 [00:00<?, ?it/s]"
     ]
    },
    {
     "name": "stdout",
     "output_type": "stream",
     "text": [
      "5000\n",
      "0.2874\n"
     ]
    },
    {
     "name": "stderr",
     "output_type": "stream",
     "text": [
      "\n"
     ]
    }
   ],
   "source": [
    "real_val_set.transform = make_const_runtime_rotation_transform(shift=2)\n",
    "rotated_fe4_probs_r2, rotated_fe4_mean_dist_r2 = predict_decode_and_measure('../models/ignored/cnnT_pre30ep_FE_x4_rotated_30ep.pt')\n",
    "print(len(rotated_fe4_probs_r2))\n",
    "print(rotated_fe4_mean_dist_r2)\n",
    "real_val_set.transform = lambda x: x"
   ]
  },
  {
   "cell_type": "code",
   "execution_count": 72,
   "metadata": {},
   "outputs": [
    {
     "name": "stderr",
     "output_type": "stream",
     "text": [
      "100%|██████████| 5000/5000 [00:52<00:00, 95.32it/s] \n",
      "100%|██████████| 5000/5000 [05:00<00:00, 16.63it/s]\n",
      "100%|██████████| 5000/5000 [00:00<00:00, 1650131.40it/s]"
     ]
    },
    {
     "name": "stdout",
     "output_type": "stream",
     "text": [
      "5000\n",
      "0.2812\n"
     ]
    },
    {
     "name": "stderr",
     "output_type": "stream",
     "text": [
      "\n"
     ]
    }
   ],
   "source": [
    "real_val_set.transform = make_const_runtime_rotation_transform(shift=3)\n",
    "rotated_fe4_probs_r3, rotated_fe4_mean_dist_r3 = predict_decode_and_measure('../models/ignored/cnnT_pre30ep_FE_x4_rotated_30ep.pt')\n",
    "print(len(rotated_fe4_probs_r3))\n",
    "print(rotated_fe4_mean_dist_r3)\n",
    "real_val_set.transform = lambda x: x"
   ]
  },
  {
   "cell_type": "code",
   "execution_count": null,
   "metadata": {},
   "outputs": [
    {
     "name": "stderr",
     "output_type": "stream",
     "text": [
      "100%|██████████| 5000/5000 [04:59<00:00, 16.67it/s]\n",
      "100%|██████████| 5000/5000 [00:00<00:00, 1609356.15it/s]"
     ]
    },
    {
     "name": "stdout",
     "output_type": "stream",
     "text": [
      "0.2802\n"
     ]
    },
    {
     "name": "stderr",
     "output_type": "stream",
     "text": [
      "\n"
     ]
    }
   ],
   "source": [
    "rotated_fe4_probs_averaged_by_rotation = torch.mean(torch.stack([\n",
    "    torch.stack(rotated_fe4_probs_r0),\n",
    "    torch.stack(rotated_fe4_probs_r1),\n",
    "    torch.stack(rotated_fe4_probs_r2), \n",
    "    torch.stack(rotated_fe4_probs_r3)]), dim=0)\n",
    "_decoded_messages_from_rotated_fe4_averaged_probs = decode_probs_to_messages(rotated_fe4_probs_averaged_by_rotation, beam_size=10)\n",
    "_mean_dist = calculate_mean_distance(_decoded_messages_from_rotated_fe4_averaged_probs, [m for f, m in real_val_set])\n",
    "print(_mean_dist)"
   ]
  },
  {
   "cell_type": "code",
   "execution_count": 75,
   "metadata": {},
   "outputs": [
    {
     "name": "stderr",
     "output_type": "stream",
     "text": [
      "100%|██████████| 5000/5000 [05:48<00:00, 14.35it/s]\n",
      "100%|██████████| 5000/5000 [00:00<00:00, 1188188.10it/s]"
     ]
    },
    {
     "name": "stdout",
     "output_type": "stream",
     "text": [
      "0.2662\n"
     ]
    },
    {
     "name": "stderr",
     "output_type": "stream",
     "text": [
      "\n"
     ]
    }
   ],
   "source": [
    "super_average = (stat_fe4_probs_averaged_by_checkpoints + rotated_fe4_probs_averaged_by_rotation) / 2\n",
    "\n",
    "_decoded_super_average = decode_probs_to_messages(super_average, beam_size=10)\n",
    "_mean_dist_super_average = calculate_mean_distance(_decoded_super_average, [m for f, m in real_val_set])\n",
    "print(_mean_dist_super_average)"
   ]
  },
  {
   "cell_type": "code",
   "execution_count": 76,
   "metadata": {},
   "outputs": [
    {
     "name": "stderr",
     "output_type": "stream",
     "text": [
      "100%|██████████| 5000/5000 [10:21<00:00,  8.04it/s]\n",
      "100%|██████████| 5000/5000 [00:00<00:00, 1714199.77it/s]"
     ]
    },
    {
     "name": "stdout",
     "output_type": "stream",
     "text": [
      "0.266\n"
     ]
    },
    {
     "name": "stderr",
     "output_type": "stream",
     "text": [
      "\n"
     ]
    }
   ],
   "source": [
    "_decoded_super_average = decode_probs_to_messages(super_average, beam_size=19)\n",
    "_mean_dist_super_average = calculate_mean_distance(_decoded_super_average, [m for f, m in real_val_set])\n",
    "print(_mean_dist_super_average)"
   ]
  },
  {
   "cell_type": "markdown",
   "metadata": {},
   "source": [
    "#### model learned on x12 data"
   ]
  },
  {
   "cell_type": "code",
   "execution_count": 87,
   "metadata": {},
   "outputs": [
    {
     "name": "stderr",
     "output_type": "stream",
     "text": [
      "100%|██████████| 5000/5000 [00:53<00:00, 93.76it/s] \n",
      "100%|██████████| 5000/5000 [05:25<00:00, 15.34it/s]\n",
      "100%|██████████| 5000/5000 [00:00<00:00, 1244600.59it/s]"
     ]
    },
    {
     "name": "stdout",
     "output_type": "stream",
     "text": [
      "5000\n",
      "0.2688\n"
     ]
    },
    {
     "name": "stderr",
     "output_type": "stream",
     "text": [
      "\n"
     ]
    }
   ],
   "source": [
    "real_val_set.transform = make_const_runtime_rotation_transform(shift=0)\n",
    "rotated_fe12_probs_r0, rotated_fe12_mean_dist_r0 = predict_decode_and_measure('../models/ignored/cnnT_pre30ep_FE_x12_rotated_30ep.pt')\n",
    "print(len(rotated_fe12_probs_r0))\n",
    "print(rotated_fe12_mean_dist_r0)\n",
    "real_val_set.transform = lambda x: x"
   ]
  },
  {
   "cell_type": "code",
   "execution_count": 88,
   "metadata": {},
   "outputs": [
    {
     "name": "stderr",
     "output_type": "stream",
     "text": [
      "100%|██████████| 5000/5000 [00:55<00:00, 89.66it/s] \n",
      "100%|██████████| 5000/5000 [05:37<00:00, 14.84it/s]\n",
      "100%|██████████| 5000/5000 [00:00<?, ?it/s]"
     ]
    },
    {
     "name": "stdout",
     "output_type": "stream",
     "text": [
      "5000\n",
      "0.2682\n"
     ]
    },
    {
     "name": "stderr",
     "output_type": "stream",
     "text": [
      "\n"
     ]
    }
   ],
   "source": [
    "real_val_set.transform = make_const_runtime_rotation_transform(shift=3)\n",
    "rotated_fe12_probs_r3, rotated_fe12_mean_dist_r3 = predict_decode_and_measure('../models/ignored/cnnT_pre30ep_FE_x12_rotated_30ep.pt')\n",
    "print(len(rotated_fe12_probs_r3))\n",
    "print(rotated_fe12_mean_dist_r3)\n",
    "real_val_set.transform = lambda x: x"
   ]
  },
  {
   "cell_type": "code",
   "execution_count": 91,
   "metadata": {},
   "outputs": [
    {
     "name": "stderr",
     "output_type": "stream",
     "text": [
      "100%|██████████| 5000/5000 [00:51<00:00, 97.26it/s] \n",
      "100%|██████████| 5000/5000 [04:54<00:00, 16.98it/s]\n",
      "100%|██████████| 5000/5000 [00:00<00:00, 1987068.41it/s]"
     ]
    },
    {
     "name": "stdout",
     "output_type": "stream",
     "text": [
      "5000\n",
      "0.2722\n"
     ]
    },
    {
     "name": "stderr",
     "output_type": "stream",
     "text": [
      "\n"
     ]
    }
   ],
   "source": [
    "real_val_set.transform = make_const_runtime_rotation_transform(shift=1)\n",
    "rotated_fe12_probs_r1, rotated_fe12_mean_dist_r1 = predict_decode_and_measure('../models/ignored/cnnT_pre30ep_FE_x12_rotated_30ep.pt')\n",
    "print(len(rotated_fe12_probs_r1))\n",
    "print(rotated_fe12_mean_dist_r1)\n",
    "real_val_set.transform = lambda x: x"
   ]
  },
  {
   "cell_type": "code",
   "execution_count": 92,
   "metadata": {},
   "outputs": [
    {
     "name": "stderr",
     "output_type": "stream",
     "text": [
      "100%|██████████| 5000/5000 [00:51<00:00, 97.32it/s] \n",
      "100%|██████████| 5000/5000 [07:42<00:00, 10.81it/s]\n",
      "100%|██████████| 5000/5000 [00:00<00:00, 851220.52it/s]"
     ]
    },
    {
     "name": "stdout",
     "output_type": "stream",
     "text": [
      "5000\n",
      "0.2712\n"
     ]
    },
    {
     "name": "stderr",
     "output_type": "stream",
     "text": [
      "\n"
     ]
    }
   ],
   "source": [
    "real_val_set.transform = make_const_runtime_rotation_transform(shift=2)\n",
    "rotated_fe12_probs_r2, rotated_fe12_mean_dist_r2 = predict_decode_and_measure('../models/ignored/cnnT_pre30ep_FE_x12_rotated_30ep.pt')\n",
    "print(len(rotated_fe12_probs_r2))\n",
    "print(rotated_fe12_mean_dist_r2)\n",
    "real_val_set.transform = lambda x: x"
   ]
  },
  {
   "cell_type": "code",
   "execution_count": 89,
   "metadata": {},
   "outputs": [
    {
     "name": "stderr",
     "output_type": "stream",
     "text": [
      "100%|██████████| 5000/5000 [04:54<00:00, 16.98it/s]\n",
      "100%|██████████| 5000/5000 [00:00<?, ?it/s]"
     ]
    },
    {
     "name": "stdout",
     "output_type": "stream",
     "text": [
      "0.263\n"
     ]
    },
    {
     "name": "stderr",
     "output_type": "stream",
     "text": [
      "\n"
     ]
    }
   ],
   "source": [
    "average_probs_of_best_statx4_and_rotated_x12 = torch.mean(torch.stack([\n",
    "    torch.stack(stat_fe4_20ep_probs), \n",
    "    torch.stack(stat_fe4_30ep_probs),\n",
    "    torch.stack(rotated_fe12_probs_r0),\n",
    "    torch.stack(rotated_fe12_probs_r3)]), dim=0)\n",
    "\n",
    "_decoded_average_of_best_statx4_and_rotated_x12 = decode_probs_to_messages(average_probs_of_best_statx4_and_rotated_x12, beam_size=10)\n",
    "_mean_dist_of_best_statx4_and_rotated_x12 = calculate_mean_distance(_decoded_average_of_best_statx4_and_rotated_x12, [m for f, m in real_val_set])\n",
    "print(_mean_dist_of_best_statx4_and_rotated_x12)"
   ]
  },
  {
   "cell_type": "code",
   "execution_count": 90,
   "metadata": {},
   "outputs": [
    {
     "name": "stderr",
     "output_type": "stream",
     "text": [
      "100%|██████████| 5000/5000 [06:01<00:00, 13.84it/s]\n",
      "100%|██████████| 5000/5000 [00:00<00:00, 2562189.37it/s]"
     ]
    },
    {
     "name": "stdout",
     "output_type": "stream",
     "text": [
      "0.2614\n"
     ]
    },
    {
     "name": "stderr",
     "output_type": "stream",
     "text": [
      "\n"
     ]
    }
   ],
   "source": [
    "average_probs_of_best_statx4_and_rotated_x12_and_rotated_x4 = torch.mean(torch.stack([\n",
    "    torch.stack(stat_fe4_20ep_probs), \n",
    "    torch.stack(stat_fe4_30ep_probs),\n",
    "    torch.stack(rotated_fe12_probs_r0),\n",
    "    torch.stack(rotated_fe12_probs_r3),\n",
    "    torch.stack(rotated_fe4_probs_r1),\n",
    "    torch.stack(rotated_fe4_probs_r2)]), dim=0)\n",
    "\n",
    "_decoded_average_of_best_statx4_and_rotated_x12_and_rotated_x4 = decode_probs_to_messages(average_probs_of_best_statx4_and_rotated_x12_and_rotated_x4, beam_size=10)\n",
    "_mean_dist_of_best_statx4_and_rotated_x12_and_rotated_x4 = calculate_mean_distance(_decoded_average_of_best_statx4_and_rotated_x12_and_rotated_x4, [m for f, m in real_val_set])\n",
    "print(_mean_dist_of_best_statx4_and_rotated_x12_and_rotated_x4)"
   ]
  },
  {
   "cell_type": "code",
   "execution_count": 93,
   "metadata": {},
   "outputs": [
    {
     "name": "stderr",
     "output_type": "stream",
     "text": [
      "100%|██████████| 5000/5000 [07:00<00:00, 11.90it/s]\n",
      "100%|██████████| 5000/5000 [00:00<?, ?it/s]"
     ]
    },
    {
     "name": "stdout",
     "output_type": "stream",
     "text": [
      "0.2622\n"
     ]
    },
    {
     "name": "stderr",
     "output_type": "stream",
     "text": [
      "\n"
     ]
    }
   ],
   "source": [
    "average_probs_of_best_statx4_and_rotated_x12_only = torch.mean(torch.stack([\n",
    "    torch.stack(stat_fe4_20ep_probs), \n",
    "    torch.stack(stat_fe4_30ep_probs),\n",
    "    torch.stack(rotated_fe12_probs_r0),\n",
    "    torch.stack(rotated_fe12_probs_r3),\n",
    "    torch.stack(rotated_fe12_probs_r1),\n",
    "    torch.stack(rotated_fe12_probs_r2)]), dim=0)\n",
    "\n",
    "_decoded_average_of_best_statx4_and_rotated_x12_only = decode_probs_to_messages(average_probs_of_best_statx4_and_rotated_x12_only, beam_size=10)\n",
    "_mean_dist_of_best_statx4_and_rotated_x12_only = calculate_mean_distance(_decoded_average_of_best_statx4_and_rotated_x12_only, [m for f, m in real_val_set])\n",
    "print(_mean_dist_of_best_statx4_and_rotated_x12_only)"
   ]
  },
  {
   "cell_type": "code",
   "execution_count": null,
   "metadata": {},
   "outputs": [],
   "source": []
  },
  {
   "cell_type": "markdown",
   "metadata": {},
   "source": [
    "# predicting a submission"
   ]
  },
  {
   "cell_type": "code",
   "execution_count": 43,
   "metadata": {},
   "outputs": [
    {
     "name": "stderr",
     "output_type": "stream",
     "text": [
      "100%|██████████| 5000/5000 [00:59<00:00, 83.92it/s]"
     ]
    },
    {
     "name": "stdout",
     "output_type": "stream",
     "text": [
      "5000\n"
     ]
    },
    {
     "name": "stderr",
     "output_type": "stream",
     "text": [
      "\n"
     ]
    }
   ],
   "source": [
    "test_set = read_dataset_from_files(audio_dir, \n",
    "                                       filenames = test_df['id'], \n",
    "                                       labels=['' for i in range(5000)],\n",
    "                                       mel_spec_transform=make_mel_feature_extraction_transform(4))\n",
    "print(len(test_set))"
   ]
  },
  {
   "cell_type": "markdown",
   "metadata": {},
   "source": [
    "for this submission i will use ensemble of models and a bit of test time augmentation"
   ]
  },
  {
   "cell_type": "code",
   "execution_count": 94,
   "metadata": {},
   "outputs": [
    {
     "name": "stderr",
     "output_type": "stream",
     "text": [
      "100%|██████████| 5000/5000 [01:00<00:00, 82.91it/s]\n",
      "100%|██████████| 5000/5000 [00:57<00:00, 87.14it/s]\n",
      "100%|██████████| 5000/5000 [01:09<00:00, 71.89it/s] \n",
      "100%|██████████| 5000/5000 [01:31<00:00, 54.69it/s]\n",
      "100%|██████████| 5000/5000 [01:22<00:00, 60.94it/s]\n",
      "100%|██████████| 5000/5000 [00:59<00:00, 83.91it/s] \n"
     ]
    }
   ],
   "source": [
    "test_probs_list = []\n",
    "\n",
    "test_set.transform = lambda x: x\n",
    "model = load_cnnT_model('../models/ignored/cnnT_pre30ep_FE_x4_30ep.pt')     # last checkpoint of stationary model\n",
    "test_probs_list.append(generate_probs(model, [f for f, m in test_set]))\n",
    "\n",
    "model = load_cnnT_model('../models/ignored/cnnT_pre30ep_FE_x4_20ep.pt')     # previous checkpoint of stationary model\n",
    "test_probs_list.append(generate_probs(model, [f for f, m in test_set]))\n",
    "\n",
    "\n",
    "model = load_cnnT_model('../models/ignored/cnnT_pre30ep_FE_x12_rotated_30ep.pt')  # rotatable model trained on 12 x 30k data points\n",
    "test_set.transform = make_const_runtime_rotation_transform(shift=0) # actually this is just no rotation\n",
    "test_probs_list.append(generate_probs(model, [f for f, m in test_set]))\n",
    "\n",
    "test_set.transform = make_const_runtime_rotation_transform(shift=3)     # rotated 1 cell down\n",
    "test_probs_list.append(generate_probs(model, [f for f, m in test_set]))     # using the same model here - so this is test time augs\n",
    "\n",
    "model = load_cnnT_model('../models/ignored/cnnT_pre30ep_FE_x4_rotated_30ep.pt')     # rotatable model trained on 4 x 30k data\n",
    "test_set.transform = make_const_runtime_rotation_transform(shift=1)     # different rotation\n",
    "test_probs_list.append(generate_probs(model, [f for f, m in test_set]))\n",
    "\n",
    "test_set.transform = make_const_runtime_rotation_transform(shift=2)\n",
    "test_probs_list.append(generate_probs(model, [f for f, m in test_set]))\n",
    "\n",
    "test_set.transform = lambda x: x       # restore"
   ]
  },
  {
   "cell_type": "code",
   "execution_count": 98,
   "metadata": {},
   "outputs": [
    {
     "name": "stdout",
     "output_type": "stream",
     "text": [
      "5000\n",
      "torch.Size([45, 32])\n",
      "torch.Size([45, 188])\n"
     ]
    }
   ],
   "source": [
    "submission_probs = []\n",
    "for i in range(len(test_probs_list[0])):\n",
    "    submission_probs.append(torch.mean(torch.stack([p[i] for p in test_probs_list], dim=0), dim=0))\n",
    "\n",
    "print(len(submission_probs))\n",
    "print(submission_probs[0].shape)\n",
    "print(submission_probs[-1].shape)"
   ]
  },
  {
   "cell_type": "code",
   "execution_count": 99,
   "metadata": {},
   "outputs": [
    {
     "name": "stderr",
     "output_type": "stream",
     "text": [
      "100%|██████████| 5000/5000 [05:40<00:00, 14.67it/s]"
     ]
    },
    {
     "name": "stdout",
     "output_type": "stream",
     "text": [
      "5000\n"
     ]
    },
    {
     "name": "stderr",
     "output_type": "stream",
     "text": [
      "\n"
     ]
    }
   ],
   "source": [
    "test_decoded_list = decode_probs_to_messages(submission_probs, beam_size=10)\n",
    "print(len(test_decoded_list))"
   ]
  },
  {
   "cell_type": "code",
   "execution_count": 102,
   "metadata": {},
   "outputs": [
    {
     "data": {
      "text/html": [
       "<div>\n",
       "<style scoped>\n",
       "    .dataframe tbody tr th:only-of-type {\n",
       "        vertical-align: middle;\n",
       "    }\n",
       "\n",
       "    .dataframe tbody tr th {\n",
       "        vertical-align: top;\n",
       "    }\n",
       "\n",
       "    .dataframe thead th {\n",
       "        text-align: right;\n",
       "    }\n",
       "</style>\n",
       "<table border=\"1\" class=\"dataframe\">\n",
       "  <thead>\n",
       "    <tr style=\"text-align: right;\">\n",
       "      <th></th>\n",
       "      <th>id</th>\n",
       "      <th>message</th>\n",
       "    </tr>\n",
       "  </thead>\n",
       "  <tbody>\n",
       "    <tr>\n",
       "      <th>0</th>\n",
       "      <td>30001.opus</td>\n",
       "      <td>ЯЮ6ЛИТЖБШ</td>\n",
       "    </tr>\n",
       "    <tr>\n",
       "      <th>1</th>\n",
       "      <td>30002.opus</td>\n",
       "      <td>КЩ В9Ю 9</td>\n",
       "    </tr>\n",
       "    <tr>\n",
       "      <th>2</th>\n",
       "      <td>30003.opus</td>\n",
       "      <td>Ы65Ф61Я</td>\n",
       "    </tr>\n",
       "    <tr>\n",
       "      <th>3</th>\n",
       "      <td>30004.opus</td>\n",
       "      <td>ЖЖНЖ9РЫНЦ3</td>\n",
       "    </tr>\n",
       "    <tr>\n",
       "      <th>4</th>\n",
       "      <td>30005.opus</td>\n",
       "      <td>ЕЯФ4ЮЧЬ</td>\n",
       "    </tr>\n",
       "  </tbody>\n",
       "</table>\n",
       "</div>"
      ],
      "text/plain": [
       "           id     message\n",
       "0  30001.opus   ЯЮ6ЛИТЖБШ\n",
       "1  30002.opus    КЩ В9Ю 9\n",
       "2  30003.opus     Ы65Ф61Я\n",
       "3  30004.opus  ЖЖНЖ9РЫНЦ3\n",
       "4  30005.opus     ЕЯФ4ЮЧЬ"
      ]
     },
     "execution_count": 102,
     "metadata": {},
     "output_type": "execute_result"
    }
   ],
   "source": [
    "submission_df = pd.DataFrame({'id': test_df['id'], 'message': test_decoded_list})\n",
    "submission_df.head()"
   ]
  },
  {
   "cell_type": "code",
   "execution_count": 106,
   "metadata": {},
   "outputs": [
    {
     "data": {
      "text/html": [
       "<div>\n",
       "<style scoped>\n",
       "    .dataframe tbody tr th:only-of-type {\n",
       "        vertical-align: middle;\n",
       "    }\n",
       "\n",
       "    .dataframe tbody tr th {\n",
       "        vertical-align: top;\n",
       "    }\n",
       "\n",
       "    .dataframe thead th {\n",
       "        text-align: right;\n",
       "    }\n",
       "</style>\n",
       "<table border=\"1\" class=\"dataframe\">\n",
       "  <thead>\n",
       "    <tr style=\"text-align: right;\">\n",
       "      <th></th>\n",
       "      <th>id</th>\n",
       "      <th>message</th>\n",
       "    </tr>\n",
       "  </thead>\n",
       "  <tbody>\n",
       "    <tr>\n",
       "      <th>4995</th>\n",
       "      <td>34996.opus</td>\n",
       "      <td>ОРСКС ИЛ ДАСДП ЬСОЕМУАТИ ЕНБАЛ КНРТЕАЛШ ВДМУНЕ...</td>\n",
       "    </tr>\n",
       "    <tr>\n",
       "      <th>4996</th>\n",
       "      <td>34997.opus</td>\n",
       "      <td>ОИСЧТИ СЕЬКНДМЕП ЮН ДНИМ ОЬНОМЕТЫПАЛБ ЖТЫАСР</td>\n",
       "    </tr>\n",
       "    <tr>\n",
       "      <th>4997</th>\n",
       "      <td>34998.opus</td>\n",
       "      <td>ТОЫМ ДЛ ЬСЧТЫНТЕТ ДТКАГЕПОЦ ВСИСБ НН</td>\n",
       "    </tr>\n",
       "    <tr>\n",
       "      <th>4998</th>\n",
       "      <td>34999.opus</td>\n",
       "      <td>ОДТЕ ОСЫАЯН ВНКМЕ ЧМЮАП РНЧВСИГ</td>\n",
       "    </tr>\n",
       "    <tr>\n",
       "      <th>4999</th>\n",
       "      <td>35000.opus</td>\n",
       "      <td>РСАТЯ ЬТКТВНЖМ</td>\n",
       "    </tr>\n",
       "  </tbody>\n",
       "</table>\n",
       "</div>"
      ],
      "text/plain": [
       "              id                                            message\n",
       "4995  34996.opus  ОРСКС ИЛ ДАСДП ЬСОЕМУАТИ ЕНБАЛ КНРТЕАЛШ ВДМУНЕ...\n",
       "4996  34997.opus       ОИСЧТИ СЕЬКНДМЕП ЮН ДНИМ ОЬНОМЕТЫПАЛБ ЖТЫАСР\n",
       "4997  34998.opus               ТОЫМ ДЛ ЬСЧТЫНТЕТ ДТКАГЕПОЦ ВСИСБ НН\n",
       "4998  34999.opus                    ОДТЕ ОСЫАЯН ВНКМЕ ЧМЮАП РНЧВСИГ\n",
       "4999  35000.opus                                     РСАТЯ ЬТКТВНЖМ"
      ]
     },
     "execution_count": 106,
     "metadata": {},
     "output_type": "execute_result"
    }
   ],
   "source": [
    "submission_df.tail()"
   ]
  },
  {
   "cell_type": "markdown",
   "metadata": {},
   "source": [
    "## star decoding\n",
    "\n",
    "подробнее историю расшифровки можно посмотреть в star_task.ipynb\n",
    "\n",
    "сигнал был считан в полуручном режиме - специально обученная модель предсказывала сообщение, а потом я руками проверял и справлял неточности\n",
    "\n",
    "хотя похоже модель даже лучше справляется (что меня немного удивляет - это же трансформер не обученный на таких длинных последовательностях)"
   ]
  },
  {
   "cell_type": "code",
   "execution_count": 107,
   "metadata": {},
   "outputs": [],
   "source": [
    "actual_morse = [''] * 17\n",
    "idx = 0\n",
    "actual_morse[idx] = '-.. .- -- .. -. .- -- - / -.. --- - .. / .-. ... -.-- ... .- -- -.-. ..'\n",
    "idx = 1\n",
    "actual_morse[idx] = '.. .-.. / -..- ... .-- . -.. - -.- ---. .-- -. - .. / .-.- -- -.. -- -.-- -- ..-- -. .-.- -- -.-. / ..-- - .. -.-- -- -..- - -.- - ---. -- -.-- -. / -.. - -.-- -- .-. --. --.. / . .--. .. --.'\n",
    "idx = 2\n",
    "actual_morse[idx] = '.- -. .... / .-- ... --- . --. -..- / .-. / .-- -.- - -.. .- -- .. / -. -.- ---- -- -.. -. .. / --. . -.- -. ...- - .-'\n",
    "idx = 3\n",
    "actual_morse[idx] = '.. .-.. / -.. .- ... -.. .--. / -..- ... --- . -- ..- -. - .. / .. --. .-- -.- ... --- . .--. / -..- -.- ... .... -.-- ... ..- ... / .... -. ..- / ..-- -. / .... -. .... -. ..- ... ..'\n",
    "idx = 4\n",
    "actual_morse[idx] = '. - -..- - -.- .--. / -.. ... .-.- -. -.- -- -.-- --- -.-. / .. -- -.-'\n",
    "idx = 5\n",
    "actual_morse[idx] = '-.- -. --- -..- -.- -- / ... --- . -. -.-- -- --- .--. / -..- ... ..-- -. .-- --'\n",
    "idx = 6\n",
    "actual_morse[idx] = '.. .-.. / -..- ... --- . -. -.. -- -.-- -- / .--- -.-- -. ..- ... / .--- -.-- -- ---. .- - ..- ... / -..- -.- - -.. .-.. .... - / -.-- -- ...- .- .-.. ---- / -. .-.. ..- ... .-- / -- / ---. - -.-- -. .- -- -...'\n",
    "idx = 7\n",
    "actual_morse[idx] = '-- .-.. / -.. .- ... -.. .--. / --- ... ..-- .-- -. -.-- -- / -. ..-- .--- --. .-. --. / . - -.-- - ..- -.- -. --.- -.'\n",
    "idx = 8\n",
    "actual_morse[idx] = '.- ... / .- - / .. ... ---. - .. / -.- -.- ...- -. . .--. --- -.-. / ..-- -. /  -. .--- --- ... -.-- --.. . .- --. --.. / -.. - -.- .- ... --- . .--. / --- -- .. -.. ... -.-- ... ....'\n",
    "idx = 9\n",
    "actual_morse[idx] = '- --- -.-- -- / -.. .-.. / --- -.-- .-.. .... -- . - / --.-- . ... / -..- ... --- -.-- -. ... -- - / . ... / ... . .-. -.-- -. ... -- - / . ... / ... . .-. -.-- -- .-. .- -- . - --- .--.'\n",
    "idx = 10\n",
    "actual_morse[idx] = '.- -. / ...- -. --- . ... . - / -..- - -.- - .-- -. ...- -- / --. -.. - -.-- -- ...- - .- .- ... -... / .- -. / --... ..... / .-. -- -.-- ... .-.- -- .-. -.-- ... -..'\n",
    "idx = 11\n",
    "actual_morse[idx] = '--- -.. -.-. ..-- .--. / -..- ... .-- .-- - -.- ---. -- -.. -. - . --- -.-. / -.. -.- --. ...- .- --. --.. / .- - --. . ... .. -- .. .-.. .. -- / -.-- -. -.-- .--. .-.- -. .. -- / .- -. .... -- ---- / ... -..- - -.- -. . ... -.- ... -..'\n",
    "idx = 12\n",
    "actual_morse[idx] = '--- .-. ... -.- ... / .. .-.. / -.. .- ... -.. .--. / -..- ... --- . -- ..- .- - .. / . -. -... .- .-.. / -.- -. .-. - . .- .-.. ---- / .-- -.. -- ..- -. . - -.-- - -...'\n",
    "idx = 13\n",
    "actual_morse[idx] = '--- .. ... ---. - .. / ... . -..- -.- -. -.. -- . .--. / ..-- -. / -.. -. .. -- / --- -..- -. --- -- . - -.-- .--. .- .-.. -... -... / ...- - -.-- .- ... .-.'\n",
    "idx = 14\n",
    "actual_morse[idx] = '- --- -.-- -- / -.. .-.. / -..- ... ---. - -.-- -. - . - / -.. - -.- .- --. . .--. --- -.-. / .-- ... .. ... -... / -. -.'\n",
    "idx = 15\n",
    "actual_morse[idx] = '--- -.. - . / --- ... -.-- .- .-.- -. / .-- -. -.- -- . / ---. -- ..-- .- .--. / .-. -. ---. .-- ... .. --.'\n",
    "idx = 16\n",
    "actual_morse[idx] = '.-. ... .- - .-.- / -..- - -.- - .-- -. ...- --'"
   ]
  },
  {
   "cell_type": "code",
   "execution_count": 108,
   "metadata": {},
   "outputs": [],
   "source": [
    "full_text = ' '.join([decode_from_morse(m) for m in actual_morse])"
   ]
  },
  {
   "cell_type": "code",
   "execution_count": 109,
   "metadata": {},
   "outputs": [],
   "source": [
    "def replace_with_map(mapping, text):\n",
    "    result = []\n",
    "    for ch in text:\n",
    "        if ch in mapping:\n",
    "            result.append(mapping[ch])\n",
    "        else:\n",
    "            result.append(ch)\n",
    "    return ''.join(result)\n",
    "\n",
    "def make_map(keys, vals):\n",
    "    mapping = dict()\n",
    "    for k, v in zip(keys, vals):\n",
    "        mapping[k] = v\n",
    "    return mapping"
   ]
  },
  {
   "cell_type": "code",
   "execution_count": 110,
   "metadata": {},
   "outputs": [
    {
     "data": {
      "text/plain": [
       "'ВНИМАНИЕ ВСЕМ КОЛОНИЯМ МЫ ПОДТВЕРЖДАЕМ ЦИВИЛИЗАЦИЯ ЗЕМЛИПЕРЕЖИЛА ВЕЛИКУЮ ТЬМУ НАШ ДОСТУП К ДРЕВНИМ АРХИВАМ УТРАЧЕН МЫ ВНОВЬ ПОСТИГАЕМ МУДРОСТЬ ПРОШЛОГО ШАГ ЗА ШАШАГОМ ТЕПЕРЬ ВОЦАРИЛСЯ МИР РАСПРИ ОСТАЛИСЬ ПОЗАДИ МЫ ПОСТАВИЛИ БЛАГО БЛИЖНЕГО ПРЕВЫШЕ ЛИЧНЫХ АЫГОД И ЖЕЛАНИЙ ИЫ ВНОВЬ СОЗДАЛИ АЗБУКУ ТЕЛЕГРАФА НО НЕ МОЖЕМ РРЧАТЬСЯ ЗА АБСОЛЮТНУЮ ВЕРНОСТЬ СИМВОЛОШ ЕСЛИ ВЫ СЛЫШИТЕ #ТО ПОСЛАОИЕ ТО ОТКЛАОИЕ ТО ОТКЛИКНИТЕСЬ НА ЧАСТОТЕ ПЕРЕДАЧИ УВЕЛИЧЕННОЙ НА 75 КИЛОЦИКЛОВ СВЯЗЬ ПОДДЕРЖИВАЕТСЯ ВРУЧНУЮ НЕУТОМИМЫМИ ЛАЛЬЦАМИ НАШИХ ОПЕРАТОРОВ СКОРО МЫ ВНОВЬ ПОСТИГНЕМ ТАЙНЫ РАКЕТНЫХ ДВИГАТЕЛЕЙ СМОЖЕМ ОТПРАВИТЬ ЗА ВАМИ СПАСИТЕЛЬНЫЙЙ ЧЕЛНОК ЕСЛИ ВЫ ПОЖЕЛАЕТЕ ВЕРНУТЬСЯ ДОМОЙ АА СВЕТ СОЛНЦА ДАРИТ ЖИЗНЬ КАЖДОМУ КОНЕЦ ПЕРЕДАЧИ'"
      ]
     },
     "execution_count": 110,
     "metadata": {},
     "output_type": "execute_result"
    }
   ],
   "source": [
    "# from collections import Counter\n",
    "\n",
    "# cyphered_most_common = [k for k, v in Counter(text).most_common()]\n",
    "# reference_most_common = [k for k, v in Counter(reference_text).most_common()]\n",
    "\n",
    "# # print(list(Counter(text).most_common()))\n",
    "# # print(list(Counter(reference_text).most_common()))\n",
    "\n",
    "# reference_map = dict()\n",
    "# for c, r in zip(cyphered_most_common, reference_most_common):\n",
    "#     reference_map[c] = r\n",
    "\n",
    "true_map = {\n",
    "    '7': '7',\n",
    "    '5': '5',\n",
    "    'Л': 'Ы',\n",
    "    'П': 'Ь',\n",
    "    'Ч': 'Ж',\n",
    "    'С': 'О',\n",
    "    'Ы': 'Л',\n",
    "    'Й': 'Б',\n",
    "    'У': 'Г',\n",
    "    'Р': 'К',\n",
    "    'Ц': 'Я',\n",
    "    'Я': 'Ц',\n",
    "    'Ю': 'З',\n",
    "    'К': 'Р',\n",
    "    'Е': 'Т',\n",
    "    'Ь': 'П',\n",
    "    'Ш': 'Х',\n",
    "    'В': 'Д',\n",
    "    'Г': 'У',\n",
    "    'Х': 'Ш',\n",
    "    'З': 'Ю',\n",
    "    'Ж': 'Ч',\n",
    "    'Щ': 'Ф',\n",
    "    'Б': 'Й',\n",
    "    **make_map('ДАМИНАМТ ДОТИ', 'ВНИМАНИЕ ВСЕМ'),\n",
    "}\n",
    "\n",
    "# to_lower_map = dict()\n",
    "# for c in cyphered_most_common:\n",
    "#     to_lower_map[c] = c.lower()\n",
    "\n",
    "replace_with_map({**true_map}, full_text)"
   ]
  },
  {
   "cell_type": "code",
   "execution_count": 114,
   "metadata": {},
   "outputs": [
    {
     "name": "stdout",
     "output_type": "stream",
     "text": [
      "automatic:  ВНИМАНИЕ ВСЕМ КОЛ НИЯ МЫ ПОДТВЕРЖДАЕМ ЦИВИЛИЗАЦИЯ ЗЕМЛИ ПЕРЕЖИЛА ВЕЛИКУЮ ТЬМУ НАШ ДОСТУП К ДРЕВНИМ АРХИВАМ УТРАЧЕН МЫ ВНОВЬ ПОСТИГАЕМ МУДРОСТЬ ПРОШЛОГО ШАГ ЗА ШАГОМ ТЕПЕРЬ ВОЦАРИЛСЯ МИР РАСПРИ ОСТАЛИСЬ ПОЗАДИ МЫ ПОСТАВИЛИ БЛАГО БЛИЖНЕГО ПРЕВЫШЕ ЛИЧНЫХ ВЫГОД И ЖЕЛАНИЙ МЫ ВНОВЬ СОЗДАЛИ АЗБУКУ ТЕЛЕГРАФА НО НЕ МОЖЕМ РУЧАТЬСЯ ЗА АБСОЛЮТЪЮ ВЕРНОСТЬ СИМВОЛОВ СЛИВЫ СЛЫШИТЕ #ТО ПОСЛАИЕ ТОТКЛКНИТЕСЬ НА ЧАСТОТЕ ПЕРЕДАЧИ УВЕЛИЧЕННОЙ НА 75 КИЛОЦИКЛОВ СВЯЗЬ ПОДДЕРЖИВАЕТСЯ ВРУЧНУЮ НЕУТОМИМЫМИ ПАЛЬЦАМИ НАШИХ ОПЕРАТОРОВ СКОРО МЫ ВНОВЬ ПОСТИГНЕМ ТАЙНЫ РАКЕТНЫХ ДВИГАТЕЛЕЙ СМОЖЕМ ОТПРАВИТЬ ЗА ВАМИ СПАСИТЕЛЬНЫЙ ЧЕЛНОК ЕСЛИ ВЫ ПОЖЕЛАЕТЕ ВЕРНУТЬСЯ ДОМОЙ АА СВЕТ СОЛНЦА ДАРИТ ЖИЗНЬ КАЖДОМУ КОНЕЦ ПЕРЕДАЧИ\n",
      "by hand:    ВНИМАНИЕ ВСЕМ КОЛОНИЯМ МЫ ПОДТВЕРЖДАЕМ ЦИВИЛИЗАЦИЯ ЗЕМЛИПЕРЕЖИЛА ВЕЛИКУЮ ТЬМУ НАШ ДОСТУП К ДРЕВНИМ АРХИВАМ УТРАЧЕН МЫ ВНОВЬ ПОСТИГАЕМ МУДРОСТЬ ПРОШЛОГО ШАГ ЗА ШАШАГОМ ТЕПЕРЬ ВОЦАРИЛСЯ МИР РАСПРИ ОСТАЛИСЬ ПОЗАДИ МЫ ПОСТАВИЛИ БЛАГО БЛИЖНЕГО ПРЕВЫШЕ ЛИЧНЫХ АЫГОД И ЖЕЛАНИЙ ИЫ ВНОВЬ СОЗДАЛИ АЗБУКУ ТЕЛЕГРАФА НО НЕ МОЖЕМ РРЧАТЬСЯ ЗА АБСОЛЮТНУЮ ВЕРНОСТЬ СИМВОЛОШ ЕСЛИ ВЫ СЛЫШИТЕ #ТО ПОСЛАОИЕ ТО ОТКЛАОИЕ ТО ОТКЛИКНИТЕСЬ НА ЧАСТОТЕ ПЕРЕДАЧИ УВЕЛИЧЕННОЙ НА 75 КИЛОЦИКЛОВ СВЯЗЬ ПОДДЕРЖИВАЕТСЯ ВРУЧНУЮ НЕУТОМИМЫМИ ЛАЛЬЦАМИ НАШИХ ОПЕРАТОРОВ СКОРО МЫ ВНОВЬ ПОСТИГНЕМ ТАЙНЫ РАКЕТНЫХ ДВИГАТЕЛЕЙ СМОЖЕМ ОТПРАВИТЬ ЗА ВАМИ СПАСИТЕЛЬНЫЙЙ ЧЕЛНОК ЕСЛИ ВЫ ПОЖЕЛАЕТЕ ВЕРНУТЬСЯ ДОМОЙ АА СВЕТ СОЛНЦА ДАРИТ ЖИЗНЬ КАЖДОМУ КОНЕЦ ПЕРЕДАЧИ\n"
     ]
    }
   ],
   "source": [
    "model_full_text_decoded = ' '.join(test_decoded_list[-17:])\n",
    "print('automatic: ', replace_with_map(true_map, model_full_text_decoded))\n",
    "print('by hand:   ', replace_with_map({**true_map}, full_text))"
   ]
  },
  {
   "cell_type": "markdown",
   "metadata": {},
   "source": [
    "сделаю на предсказаниях модели"
   ]
  },
  {
   "cell_type": "code",
   "execution_count": 115,
   "metadata": {},
   "outputs": [],
   "source": [
    "# submission_file = '../submission.csv'\n",
    "# submission = pd.read_csv(submission_file)\n",
    "\n",
    "for i in range(17):\n",
    "    message = test_decoded_list[-17 + i]\n",
    "    submission_df.iloc[-17 + i, 1] = replace_with_map(true_map, message)\n",
    "# submission.to_csv('../decoded_submission.csv', index=False)"
   ]
  },
  {
   "cell_type": "code",
   "execution_count": 116,
   "metadata": {},
   "outputs": [],
   "source": [
    "submission_df.to_csv('../submission.csv', index=False)"
   ]
  },
  {
   "cell_type": "code",
   "execution_count": null,
   "metadata": {},
   "outputs": [],
   "source": []
  }
 ],
 "metadata": {
  "kernelspec": {
   "display_name": ".venv",
   "language": "python",
   "name": "python3"
  },
  "language_info": {
   "codemirror_mode": {
    "name": "ipython",
    "version": 3
   },
   "file_extension": ".py",
   "mimetype": "text/x-python",
   "name": "python",
   "nbconvert_exporter": "python",
   "pygments_lexer": "ipython3",
   "version": "3.11.3"
  }
 },
 "nbformat": 4,
 "nbformat_minor": 2
}
