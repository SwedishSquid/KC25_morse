{
 "cells": [
  {
   "cell_type": "code",
   "execution_count": 1,
   "metadata": {},
   "outputs": [],
   "source": [
    "import numpy as np\n",
    "import pandas as pd\n",
    "import torch\n",
    "import torch.nn as nn\n",
    "import Levenshtein\n",
    "import librosa\n",
    "import matplotlib.pyplot as plt\n",
    "import MorseCodePy as mcp\n",
    "from pathlib import Path\n",
    "from tqdm import tqdm\n",
    "import torch.nn.functional as F\n",
    "import re"
   ]
  },
  {
   "cell_type": "code",
   "execution_count": 2,
   "metadata": {},
   "outputs": [],
   "source": [
    "class MorseDataset(torch.utils.data.Dataset):\n",
    "    def __init__(self, audio_dir, csv_path, transform=None, label_transform=None):\n",
    "        if transform == None:\n",
    "            transform = lambda x, y: (x, y)\n",
    "        if label_transform == None:\n",
    "            label_transform = lambda x: x\n",
    "        self.audio_dir = audio_dir\n",
    "        self.df = pd.read_csv(csv_path)\n",
    "        self.transform = transform\n",
    "        self.label_transform = label_transform\n",
    "        pass\n",
    "\n",
    "    def __len__(self):\n",
    "        return self.df.shape[0]\n",
    "    \n",
    "    def __getitem__(self, index):\n",
    "        record = self.df.iloc[index]\n",
    "        signal, sr = librosa.load(Path(self.audio_dir, record['id']), sr=None)\n",
    "        label = record['message']\n",
    "        return self.transform(signal, sr), self.label_transform(label)\n"
   ]
  },
  {
   "cell_type": "markdown",
   "metadata": {},
   "source": [
    "## feature engineering"
   ]
  },
  {
   "cell_type": "code",
   "execution_count": 3,
   "metadata": {},
   "outputs": [],
   "source": [
    "def negative_entropy(spectrogram: np.ndarray, min_temp=0, max_temp=5, out_channels=64):\n",
    "    # spectrogram.shape = [C, N]\n",
    "    temperature = np.linspace(min_temp, max_temp, out_channels)[None, None, :]\n",
    "    exp = np.exp((spectrogram - np.max(spectrogram, axis=0))[:, :, None] / (np.e ** temperature))\n",
    "    probs = exp / np.sum(exp, axis=0)\n",
    "    entropy = np.transpose(-np.sum(probs * np.log(probs + 1e-8), axis=0), axes=(1, 0))\n",
    "    return -entropy"
   ]
  },
  {
   "cell_type": "markdown",
   "metadata": {},
   "source": [
    "### text utility"
   ]
  },
  {
   "cell_type": "code",
   "execution_count": 4,
   "metadata": {},
   "outputs": [],
   "source": [
    "def encode_to_morse(text: str, remove_separator_pad=False):\n",
    "    encoded = mcp.encode(text, language='russian')\n",
    "    sharp_code = '--.--'    # #\n",
    "    hard_code = '.--.-.'\n",
    "    common_hard_code = '--.--'  # Ъ\n",
    "    encoded = encoded.replace(common_hard_code, hard_code)\n",
    "    encoded = encoded.replace('*', sharp_code)\n",
    "\n",
    "    if remove_separator_pad:\n",
    "        encoded = encoded.replace('/ ', '/')\n",
    "        encoded = encoded.replace(' /', '/')\n",
    "    return encoded"
   ]
  },
  {
   "cell_type": "code",
   "execution_count": 5,
   "metadata": {},
   "outputs": [],
   "source": [
    "def decode_from_morse(morse: str, separator_pads_removed=False):\n",
    "    sharp_code = '--.--'    # #\n",
    "    hard_code = '.--.-.'\n",
    "    common_hard_code = '--.--'  # Ъ\n",
    "    # # -> ? -> #\n",
    "    question_mark_code = '..--..'   # ?\n",
    "    code = morse.replace(sharp_code, question_mark_code)\n",
    "    code = code.replace(hard_code, common_hard_code)\n",
    "    if separator_pads_removed:\n",
    "        code = code.replace('/', ' / ').strip(' ')\n",
    "    text = mcp.decode(code, language='russian')\n",
    "    text = text.replace('?', '#').upper()\n",
    "    return text"
   ]
  },
  {
   "cell_type": "code",
   "execution_count": 6,
   "metadata": {},
   "outputs": [],
   "source": [
    "class Vectorizer:\n",
    "    def __init__(self):\n",
    "        self.text_to_nums = {\n",
    "            ' ': 0,\n",
    "            '.': 1,\n",
    "            '-': 2,\n",
    "            '/': 3,\n",
    "            }\n",
    "        self.nums_to_text = dict([(v, k) for k, v in self.text_to_nums.items()])\n",
    "        pass\n",
    "\n",
    "    def to_tensor(self, text: str):\n",
    "        return torch.tensor([self.text_to_nums[ch] for ch in text])\n",
    "    \n",
    "    def from_tensor(self, tensor: torch.Tensor):\n",
    "        assert tensor.ndim == 1\n",
    "        return ''.join([self.nums_to_text[num.item()] for num in tensor])"
   ]
  },
  {
   "cell_type": "markdown",
   "metadata": {},
   "source": [
    "### engage!"
   ]
  },
  {
   "cell_type": "code",
   "execution_count": 7,
   "metadata": {},
   "outputs": [],
   "source": [
    "def audio_transform(signal: np.ndarray, sr: int):\n",
    "    n_fft = 512\n",
    "    # D = librosa.stft(signal, n_fft=n_fft)\n",
    "    # spectrogram = np.abs(D)\n",
    "    # return spectrogram\n",
    "    melspectrogram = librosa.feature.melspectrogram(y=signal, sr = sr,\n",
    "\t\t\t\t\t\t\t\t\t\t\t\tn_mels = 64, n_fft=n_fft, hop_length=n_fft // 4)\n",
    "    return torch.as_tensor(melspectrogram / np.max(melspectrogram))\n",
    "    # neg_entropy = negative_entropy(spectrogram, out_channels=64)\n",
    "    # arr = neg_entropy.transpose((1, 0))\n",
    "    # # [N, C]\n",
    "    # return torch.as_tensor(arr)\n",
    "\n",
    "\n",
    "vec_maker = Vectorizer()\n",
    "\n",
    "\n",
    "def text_transform(text: str):\n",
    "    encoded = encode_to_morse(text)\n",
    "    return vec_maker.to_tensor(encoded) + 1 # for CTC loss\n",
    "\n",
    "\n",
    "def batch_text_transform(texts: list[str], pad_value = 1):\n",
    "    vecs = []\n",
    "    for t in texts:\n",
    "        vecs.append(text_transform(t))\n",
    "    lengths = torch.tensor([len(v) for v in vecs])\n",
    "    desired_length = torch.max(lengths)\n",
    "    vecs = [F.pad(v, (0, desired_length - len(v)), value=pad_value) for v in vecs]\n",
    "    batch = torch.stack(vecs, dim=0)\n",
    "    return batch, lengths"
   ]
  },
  {
   "cell_type": "code",
   "execution_count": 8,
   "metadata": {},
   "outputs": [],
   "source": [
    "full_train_dataset = MorseDataset('morse_dataset', 'train.csv', transform=audio_transform)"
   ]
  },
  {
   "cell_type": "code",
   "execution_count": 9,
   "metadata": {},
   "outputs": [
    {
     "name": "stdout",
     "output_type": "stream",
     "text": [
      "torch.Size([64, 501])\n",
      "8Й82ЩЬН\n"
     ]
    },
    {
     "data": {
      "image/png": "[encoded data removed]",
      "text/plain": [
       "<Figure size 640x480 with 1 Axes>"
      ]
     },
     "metadata": {},
     "output_type": "display_data"
    }
   ],
   "source": [
    "tmp_features, tmp_label = full_train_dataset[6239]\n",
    "plt.imshow(tmp_features)\n",
    "print(tmp_features.shape)\n",
    "print(tmp_label)"
   ]
  },
  {
   "cell_type": "code",
   "execution_count": 10,
   "metadata": {},
   "outputs": [
    {
     "name": "stderr",
     "output_type": "stream",
     "text": [
      "100%|██████████| 6000/6000 [02:12<00:00, 45.40it/s]\n",
      "100%|██████████| 6000/6000 [00:59<00:00, 100.90it/s]\n"
     ]
    }
   ],
   "source": [
    "full_train_features = [full_train_dataset[i][0] for i in tqdm(range(6000))]\n",
    "full_train_labels = [full_train_dataset[i][1] for i in tqdm(range(6000))]"
   ]
  },
  {
   "cell_type": "code",
   "execution_count": 11,
   "metadata": {},
   "outputs": [
    {
     "data": {
      "text/plain": [
       "['03ЩУЫЛПИГХ', 'ЪЛТ0ДС6А3Г', '5ЭКЫБЗХЯН', 'ЖЫЦОИ68КФ']"
      ]
     },
     "execution_count": 11,
     "metadata": {},
     "output_type": "execute_result"
    }
   ],
   "source": [
    "full_train_labels[:4]"
   ]
  },
  {
   "cell_type": "code",
   "execution_count": 12,
   "metadata": {},
   "outputs": [
    {
     "data": {
      "text/plain": [
       "torch.int64"
      ]
     },
     "execution_count": 12,
     "metadata": {},
     "output_type": "execute_result"
    }
   ],
   "source": [
    "batch_text_transform(full_train_labels[:5])[1].dtype"
   ]
  },
  {
   "cell_type": "code",
   "execution_count": 13,
   "metadata": {},
   "outputs": [],
   "source": [
    "class ListDataset(torch.utils.data.Dataset):\n",
    "    def __init__(self, features: list, labels: list):\n",
    "        self.features = features\n",
    "        self.labels = labels\n",
    "        assert len(features) == len(labels)\n",
    "        pass\n",
    "\n",
    "    def __len__(self):\n",
    "        return len(self.features)\n",
    "    \n",
    "    def __getitem__(self, index):\n",
    "        return self.features[index], self.labels[index]"
   ]
  },
  {
   "cell_type": "code",
   "execution_count": 14,
   "metadata": {},
   "outputs": [
    {
     "name": "stdout",
     "output_type": "stream",
     "text": [
      "(5000,) (1000,)\n"
     ]
    }
   ],
   "source": [
    "from sklearn.model_selection import train_test_split\n",
    "\n",
    "precomputed_full_train_dataset = ListDataset(full_train_features, full_train_labels)\n",
    "train_index, test_index = train_test_split(np.arange(len(precomputed_full_train_dataset)), test_size=1/6, shuffle=True, \n",
    "                                           random_state=42)\n",
    "print(train_index.shape, test_index.shape)\n",
    "trainset = torch.utils.data.Subset(precomputed_full_train_dataset, train_index)\n",
    "testset = torch.utils.data.Subset(precomputed_full_train_dataset, test_index)"
   ]
  },
  {
   "cell_type": "code",
   "execution_count": 15,
   "metadata": {},
   "outputs": [
    {
     "data": {
      "text/plain": [
       "tensor(1.)"
      ]
     },
     "execution_count": 15,
     "metadata": {},
     "output_type": "execute_result"
    }
   ],
   "source": [
    "torch.max(trainset[200][0])"
   ]
  },
  {
   "cell_type": "code",
   "execution_count": 16,
   "metadata": {},
   "outputs": [],
   "source": [
    "class SimpleConvModel(nn.Module):\n",
    "    def __init__(self, input_size=64, inner_size=16, output_size=5):\n",
    "        super().__init__()\n",
    "        self.estimator = nn.Sequential(\n",
    "            nn.Conv1d(input_size, inner_size, kernel_size=3, padding=1),\n",
    "            nn.ReLU(),\n",
    "            nn.BatchNorm1d(inner_size),\n",
    "            nn.Conv1d(inner_size, inner_size, kernel_size=3, padding=1),\n",
    "            nn.ReLU(),\n",
    "            nn.BatchNorm1d(inner_size),\n",
    "            nn.MaxPool1d(2, 2),\n",
    "            nn.Conv1d(inner_size, inner_size, kernel_size=3, padding=1),\n",
    "            nn.ReLU(),\n",
    "            nn.BatchNorm1d(inner_size),\n",
    "            nn.Conv1d(inner_size, output_size, kernel_size=3),\n",
    "        )\n",
    "        pass\n",
    "\n",
    "    def forward(self, x):\n",
    "        out = self.estimator(x)\n",
    "        return out"
   ]
  },
  {
   "cell_type": "code",
   "execution_count": 17,
   "metadata": {},
   "outputs": [
    {
     "data": {
      "text/plain": [
       "torch.Size([248, 1, 5])"
      ]
     },
     "execution_count": 17,
     "metadata": {},
     "output_type": "execute_result"
    }
   ],
   "source": [
    "SimpleConvModel()(trainset[0][0][None]).transpose(0, 2).transpose(1, 2).shape"
   ]
  },
  {
   "cell_type": "code",
   "execution_count": 18,
   "metadata": {},
   "outputs": [
    {
     "data": {
      "text/plain": [
       "torch.Size([1, 5, 248])"
      ]
     },
     "execution_count": 18,
     "metadata": {},
     "output_type": "execute_result"
    }
   ],
   "source": [
    "SimpleConvModel()(trainset[0][0][None]).shape"
   ]
  },
  {
   "cell_type": "code",
   "execution_count": 19,
   "metadata": {},
   "outputs": [
    {
     "data": {
      "text/plain": [
       "'cpu'"
      ]
     },
     "execution_count": 19,
     "metadata": {},
     "output_type": "execute_result"
    }
   ],
   "source": [
    "device = 0 if torch.cuda.is_available() else 'cpu'\n",
    "device"
   ]
  },
  {
   "cell_type": "code",
   "execution_count": 20,
   "metadata": {},
   "outputs": [
    {
     "name": "stderr",
     "output_type": "stream",
     "text": [
      "100%|██████████| 157/157 [00:05<00:00, 27.69it/s]\n",
      "100%|██████████| 32/32 [00:00<00:00, 58.70it/s]\n"
     ]
    },
    {
     "name": "stdout",
     "output_type": "stream",
     "text": [
      "train loss = 2.583728790283203; test loss = 1.562569260597229\n"
     ]
    },
    {
     "name": "stderr",
     "output_type": "stream",
     "text": [
      "100%|██████████| 157/157 [00:05<00:00, 26.64it/s]\n",
      "100%|██████████| 32/32 [00:00<00:00, 54.61it/s]\n"
     ]
    },
    {
     "name": "stdout",
     "output_type": "stream",
     "text": [
      "train loss = 1.4709872007369995; test loss = 1.352103590965271\n"
     ]
    },
    {
     "name": "stderr",
     "output_type": "stream",
     "text": [
      "100%|██████████| 157/157 [00:05<00:00, 27.16it/s]\n",
      "100%|██████████| 32/32 [00:00<00:00, 54.06it/s]\n"
     ]
    },
    {
     "name": "stdout",
     "output_type": "stream",
     "text": [
      "train loss = 1.3230925798416138; test loss = 1.2634018659591675\n"
     ]
    },
    {
     "name": "stderr",
     "output_type": "stream",
     "text": [
      "100%|██████████| 157/157 [00:05<00:00, 28.19it/s]\n",
      "100%|██████████| 32/32 [00:00<00:00, 58.21it/s]\n"
     ]
    },
    {
     "name": "stdout",
     "output_type": "stream",
     "text": [
      "train loss = 1.2349824905395508; test loss = 1.1696659326553345\n"
     ]
    },
    {
     "name": "stderr",
     "output_type": "stream",
     "text": [
      "100%|██████████| 157/157 [00:05<00:00, 27.93it/s]\n",
      "100%|██████████| 32/32 [00:00<00:00, 54.32it/s]\n"
     ]
    },
    {
     "name": "stdout",
     "output_type": "stream",
     "text": [
      "train loss = 0.9602881669998169; test loss = 0.7504833340644836\n"
     ]
    },
    {
     "name": "stderr",
     "output_type": "stream",
     "text": [
      "100%|██████████| 157/157 [00:05<00:00, 27.80it/s]\n",
      "100%|██████████| 32/32 [00:00<00:00, 59.14it/s]\n"
     ]
    },
    {
     "name": "stdout",
     "output_type": "stream",
     "text": [
      "train loss = 0.5882001519203186; test loss = 0.4657215476036072\n"
     ]
    },
    {
     "name": "stderr",
     "output_type": "stream",
     "text": [
      "100%|██████████| 157/157 [00:05<00:00, 27.90it/s]\n",
      "100%|██████████| 32/32 [00:00<00:00, 53.20it/s]\n"
     ]
    },
    {
     "name": "stdout",
     "output_type": "stream",
     "text": [
      "train loss = 0.39710381627082825; test loss = 0.3678207993507385\n"
     ]
    },
    {
     "name": "stderr",
     "output_type": "stream",
     "text": [
      "100%|██████████| 157/157 [00:05<00:00, 28.41it/s]\n",
      "100%|██████████| 32/32 [00:00<00:00, 57.46it/s]\n"
     ]
    },
    {
     "name": "stdout",
     "output_type": "stream",
     "text": [
      "train loss = 0.33524051308631897; test loss = 0.3246566355228424\n"
     ]
    },
    {
     "name": "stderr",
     "output_type": "stream",
     "text": [
      "100%|██████████| 157/157 [00:05<00:00, 27.90it/s]\n",
      "100%|██████████| 32/32 [00:00<00:00, 54.56it/s]\n"
     ]
    },
    {
     "name": "stdout",
     "output_type": "stream",
     "text": [
      "train loss = 0.3048650026321411; test loss = 0.30464860796928406\n"
     ]
    },
    {
     "name": "stderr",
     "output_type": "stream",
     "text": [
      "100%|██████████| 157/157 [00:05<00:00, 27.71it/s]\n",
      "100%|██████████| 32/32 [00:00<00:00, 59.33it/s]\n"
     ]
    },
    {
     "name": "stdout",
     "output_type": "stream",
     "text": [
      "train loss = 0.288223534822464; test loss = 0.30373167991638184\n"
     ]
    },
    {
     "name": "stderr",
     "output_type": "stream",
     "text": [
      "100%|██████████| 157/157 [00:05<00:00, 27.87it/s]\n",
      "100%|██████████| 32/32 [00:00<00:00, 56.29it/s]\n"
     ]
    },
    {
     "name": "stdout",
     "output_type": "stream",
     "text": [
      "train loss = 0.2776762843132019; test loss = 0.28079304099082947\n"
     ]
    },
    {
     "name": "stderr",
     "output_type": "stream",
     "text": [
      "100%|██████████| 157/157 [00:05<00:00, 28.65it/s]\n",
      "100%|██████████| 32/32 [00:00<00:00, 59.25it/s]\n"
     ]
    },
    {
     "name": "stdout",
     "output_type": "stream",
     "text": [
      "train loss = 0.2676286995410919; test loss = 0.2749152183532715\n"
     ]
    },
    {
     "name": "stderr",
     "output_type": "stream",
     "text": [
      "100%|██████████| 157/157 [00:05<00:00, 28.05it/s]\n",
      "100%|██████████| 32/32 [00:00<00:00, 57.60it/s]\n"
     ]
    },
    {
     "name": "stdout",
     "output_type": "stream",
     "text": [
      "train loss = 0.26162582635879517; test loss = 0.26849016547203064\n"
     ]
    },
    {
     "name": "stderr",
     "output_type": "stream",
     "text": [
      "100%|██████████| 157/157 [00:05<00:00, 28.17it/s]\n",
      "100%|██████████| 32/32 [00:00<00:00, 56.86it/s]\n"
     ]
    },
    {
     "name": "stdout",
     "output_type": "stream",
     "text": [
      "train loss = 0.2549312114715576; test loss = 0.2621269226074219\n"
     ]
    },
    {
     "name": "stderr",
     "output_type": "stream",
     "text": [
      "100%|██████████| 157/157 [00:05<00:00, 28.22it/s]\n",
      "100%|██████████| 32/32 [00:00<00:00, 59.34it/s]"
     ]
    },
    {
     "name": "stdout",
     "output_type": "stream",
     "text": [
      "train loss = 0.24829764664173126; test loss = 0.255923867225647\n"
     ]
    },
    {
     "name": "stderr",
     "output_type": "stream",
     "text": [
      "\n"
     ]
    }
   ],
   "source": [
    "model = SimpleConvModel().to(device)\n",
    "optimizer = torch.optim.AdamW(model.parameters(), lr=1e-3)\n",
    "ctc_loss = nn.CTCLoss()\n",
    "\n",
    "\n",
    "train_loader = torch.utils.data.DataLoader(trainset, batch_size=32, shuffle=True)\n",
    "test_loader = torch.utils.data.DataLoader(testset, batch_size=32, shuffle=False)\n",
    "\n",
    "train_loss_history = []\n",
    "test_loss_history = []\n",
    "for epoch in range(15):\n",
    "    model.train()\n",
    "    train_loss_buffer = []\n",
    "    for features, labels in tqdm(train_loader):\n",
    "        features = features.to(device)\n",
    "        targets, target_lengths = batch_text_transform(labels)\n",
    "        targets, target_lengths = targets.to(device), target_lengths.to(torch.int32).to(device)\n",
    "        outs = model(features).transpose(0, 2).transpose(1, 2)\n",
    "        inputs = F.log_softmax(outs, dim=2)\n",
    "        input_lengths = torch.full(size=(inputs.shape[1],), fill_value=inputs.shape[0], dtype=torch.int32).to(device)\n",
    "        loss = ctc_loss(inputs, targets, input_lengths, target_lengths)\n",
    "        loss.backward()\n",
    "        optimizer.step()\n",
    "        optimizer.zero_grad()\n",
    "        train_loss_buffer.append(loss.detach())\n",
    "    \n",
    "    model.eval()\n",
    "    test_loss_buffer = []\n",
    "    with torch.no_grad():\n",
    "        for features, labels in tqdm(test_loader):\n",
    "            features = features.to(device)\n",
    "            targets, target_lengths = batch_text_transform(labels)\n",
    "            targets, target_lengths = targets.to(device), target_lengths.to(torch.int32).to(device)\n",
    "            outs = model(features).transpose(0, 2).transpose(1, 2)\n",
    "            inputs = F.log_softmax(outs, dim=2)\n",
    "            input_lengths = torch.full(size=(inputs.shape[1],), fill_value=inputs.shape[0], dtype=torch.int32).to(device)\n",
    "            loss = ctc_loss(inputs, targets, input_lengths, target_lengths)\n",
    "            test_loss_buffer.append(loss.detach())\n",
    "    # print(train_loss_buffer)\n",
    "    train_loss_value = torch.mean(torch.stack(train_loss_buffer)).item()\n",
    "    test_loss_value = torch.mean(torch.stack(test_loss_buffer)).item()\n",
    "    print(f'train loss = {train_loss_value}; test loss = {test_loss_value}')\n",
    "    train_loss_history.append(train_loss_value)\n",
    "    test_loss_history.append(test_loss_value)"
   ]
  },
  {
   "cell_type": "code",
   "execution_count": 21,
   "metadata": {},
   "outputs": [
    {
     "data": {
      "text/plain": [
       "Text(0, 0.5, 'value')"
      ]
     },
     "execution_count": 21,
     "metadata": {},
     "output_type": "execute_result"
    },
    {
     "data": {
      "image/png": "[encoded data removed]",
      "text/plain": [
       "<Figure size 640x480 with 1 Axes>"
      ]
     },
     "metadata": {},
     "output_type": "display_data"
    }
   ],
   "source": [
    "plt.plot(train_loss_history)\n",
    "plt.plot(test_loss_history)\n",
    "plt.legend(['train loss', 'test loss'])\n",
    "plt.xlabel('epoch')\n",
    "plt.ylabel('value')"
   ]
  },
  {
   "cell_type": "code",
   "execution_count": 22,
   "metadata": {},
   "outputs": [
    {
     "name": "stdout",
     "output_type": "stream",
     "text": [
      "1 ЫУ9В torch.Size([64, 501])\n"
     ]
    }
   ],
   "source": [
    "features, labels = testset[996]\n",
    "print(labels, features.shape)"
   ]
  },
  {
   "cell_type": "code",
   "execution_count": 23,
   "metadata": {},
   "outputs": [],
   "source": [
    "def map_to_string(tensor: torch.Tensor):\n",
    "    assert tensor.ndim == 1\n",
    "    result = []\n",
    "    the_map = ['$', ' ', '.', '-', '/']\n",
    "    for i in tensor:\n",
    "        result.append(the_map[i])\n",
    "    return ''.join(result)\n",
    "\n",
    "\n",
    "def prettify_ctc_string(ctc_string):\n",
    "    text = ctc_string\n",
    "    text = re.sub('-+', '-', text)\n",
    "    text = re.sub(' +', ' ', text)\n",
    "    text = re.sub('/+', '/', text)\n",
    "    text = re.sub('\\.+', '.', text)\n",
    "    text = re.sub('\\$+', '', text)\n",
    "    text = text.strip()\n",
    "    return text"
   ]
  },
  {
   "cell_type": "code",
   "execution_count": 24,
   "metadata": {},
   "outputs": [],
   "source": [
    "def greedy_ctc_sample(probs: torch.Tensor):\n",
    "    # [C, T]\n",
    "    assert probs.ndim == 2\n",
    "    sampled_tensor = torch.argmax(probs, dim=0)\n",
    "    return sampled_tensor"
   ]
  },
  {
   "cell_type": "code",
   "execution_count": 25,
   "metadata": {},
   "outputs": [],
   "source": [
    "# stolen from https://sid2697.github.io/Blog_Sid/algorithm/2019/11/04/Beam-search.html\n",
    "\n",
    "class ShortCTCSampler:\n",
    "    @staticmethod\n",
    "    def beam_search_decoder(probability_matrix, beam_width):\n",
    "        \"\"\"\n",
    "        This method is used to get the most probable candidates using beam search decoding algorithm\n",
    "        probability_matrix: A numpy array of shape (batch_size, number_of_classes)\n",
    "        beam_width: int denoting beam size\n",
    "        \"\"\"\n",
    "        sequences = [[list(), 1.0]]     # Initializing an empty list for storing sequences and scores\n",
    "        # iterating through all the steps in the sequence\n",
    "        for row in probability_matrix:\n",
    "            all_candidates = list()\n",
    "            # expand each current candidate\n",
    "            for i in range(len(sequences)):\n",
    "                seq, score = sequences[i]   # Getting score and individual sequence\n",
    "                for j in range(len(row)):\n",
    "                    # getting score for indiviual class (character)\n",
    "                    candidate = [seq + [j], (score * row[j])]\n",
    "                    all_candidates.append(candidate)\n",
    "            # arrange all candidates by score\n",
    "            ordered = sorted(all_candidates, key=lambda tup:tup[1], reverse=True)\n",
    "            # select the best candidates\n",
    "            sequences = ordered[:beam_width]\n",
    "        return sequences\n",
    "\n",
    "    @staticmethod\n",
    "    def sample(probs: torch.Tensor, return_prob = False, beam_size=10):\n",
    "        # [C, T]\n",
    "        assert probs.ndim == 2\n",
    "        beam_out = ShortCTCSampler.beam_search_decoder(probs.transpose(1, 0), beam_size)\n",
    "        sampled_tensor = torch.tensor(beam_out[0][0])\n",
    "        if return_prob:\n",
    "            return sampled_tensor, beam_out[0][1]\n",
    "        return sampled_tensor\n",
    "    \n",
    "    @staticmethod\n",
    "    def sample_morse(probs: torch.Tensor, beam_size=10):\n",
    "        return prettify_ctc_string(map_to_string(ShortCTCSampler.sample(probs, beam_size=beam_size)))"
   ]
  },
  {
   "cell_type": "code",
   "execution_count": 26,
   "metadata": {},
   "outputs": [],
   "source": [
    "\"\"\"\n",
    "Author: Awni Hannun\n",
    "This is an example CTC decoder written in Python. The code is\n",
    "intended to be a simple example and is not designed to be\n",
    "especially efficient.\n",
    "The algorithm is a prefix beam search for a model trained\n",
    "with the CTC loss function.\n",
    "For more details checkout either of these references:\n",
    "  https://distill.pub/2017/ctc/#inference\n",
    "  https://arxiv.org/abs/1408.2873\n",
    "\"\"\"\n",
    "\n",
    "import numpy as np\n",
    "import math\n",
    "import collections\n",
    "\n",
    "NEG_INF = -float(\"inf\")\n",
    "\n",
    "class LongCTCSampler:\n",
    "  @staticmethod\n",
    "  def make_new_beam():\n",
    "    fn = lambda : (NEG_INF, NEG_INF)\n",
    "    return collections.defaultdict(fn)\n",
    "\n",
    "  @staticmethod\n",
    "  def logsumexp(*args):\n",
    "    \"\"\"\n",
    "    Stable log sum exp.\n",
    "    \"\"\"\n",
    "    if all(a == NEG_INF for a in args):\n",
    "        return NEG_INF\n",
    "    a_max = max(args)\n",
    "    lsp = math.log(sum(math.exp(a - a_max)\n",
    "                        for a in args))\n",
    "    return a_max + lsp\n",
    "\n",
    "  @staticmethod\n",
    "  def decode(probs, beam_size=100, blank=0):\n",
    "    \"\"\"\n",
    "    Performs inference for the given output probabilities.\n",
    "    Arguments:\n",
    "        probs: The output probabilities (e.g. post-softmax) for each\n",
    "          time step. Should be an array of shape (time x output dim).\n",
    "        beam_size (int): Size of the beam to use during inference.\n",
    "        blank (int): Index of the CTC blank label.\n",
    "    Returns the output label sequence and the corresponding negative\n",
    "    log-likelihood estimated by the decoder.\n",
    "    \"\"\"\n",
    "    T, S = probs.shape\n",
    "    probs = np.log(probs)\n",
    "\n",
    "    # Elements in the beam are (prefix, (p_blank, p_no_blank))\n",
    "    # Initialize the beam with the empty sequence, a probability of\n",
    "    # 1 for ending in blank and zero for ending in non-blank\n",
    "    # (in log space).\n",
    "    beam = [(tuple(), (0.0, NEG_INF))]\n",
    "\n",
    "    for t in range(T): # Loop over time\n",
    "\n",
    "      # A default dictionary to store the next step candidates.\n",
    "      next_beam = LongCTCSampler.make_new_beam()\n",
    "\n",
    "      for s in range(S): # Loop over vocab\n",
    "        p = probs[t, s]\n",
    "\n",
    "        # The variables p_b and p_nb are respectively the\n",
    "        # probabilities for the prefix given that it ends in a\n",
    "        # blank and does not end in a blank at this time step.\n",
    "        for prefix, (p_b, p_nb) in beam: # Loop over beam\n",
    "\n",
    "          # If we propose a blank the prefix doesn't change.\n",
    "          # Only the probability of ending in blank gets updated.\n",
    "          if s == blank:\n",
    "            n_p_b, n_p_nb = next_beam[prefix]\n",
    "            n_p_b = LongCTCSampler.logsumexp(n_p_b, p_b + p, p_nb + p)\n",
    "            next_beam[prefix] = (n_p_b, n_p_nb)\n",
    "            continue\n",
    "\n",
    "          # Extend the prefix by the new character s and add it to\n",
    "          # the beam. Only the probability of not ending in blank\n",
    "          # gets updated.\n",
    "          end_t = prefix[-1] if prefix else None\n",
    "          n_prefix = prefix + (s,)\n",
    "          n_p_b, n_p_nb = next_beam[n_prefix]\n",
    "          if s != end_t:\n",
    "            n_p_nb = LongCTCSampler.logsumexp(n_p_nb, p_b + p, p_nb + p)\n",
    "          else:\n",
    "            # We don't include the previous probability of not ending\n",
    "            # in blank (p_nb) if s is repeated at the end. The CTC\n",
    "            # algorithm merges characters not separated by a blank.\n",
    "            n_p_nb = LongCTCSampler.logsumexp(n_p_nb, p_b + p)\n",
    "            \n",
    "          # *NB* this would be a good place to include an LM score.\n",
    "          next_beam[n_prefix] = (n_p_b, n_p_nb)\n",
    "\n",
    "          # If s is repeated at the end we also update the unchanged\n",
    "          # prefix. This is the merging case.\n",
    "          if s == end_t:\n",
    "            n_p_b, n_p_nb = next_beam[prefix]\n",
    "            n_p_nb = LongCTCSampler.logsumexp(n_p_nb, p_nb + p)\n",
    "            next_beam[prefix] = (n_p_b, n_p_nb)\n",
    "\n",
    "      # Sort and trim the beam before moving on to the\n",
    "      # next time-step.\n",
    "      beam = sorted(next_beam.items(),\n",
    "              key=lambda x : LongCTCSampler.logsumexp(*x[1]),\n",
    "              reverse=True)\n",
    "      beam = beam[:beam_size]\n",
    "\n",
    "    best = beam[0]\n",
    "    return best[0], -LongCTCSampler.logsumexp(*best[1])\n",
    "  \n",
    "  @staticmethod\n",
    "  def sample(probs: torch.Tensor, beam_size=100):\n",
    "    # probs.shape = [C, T]\n",
    "    sequence, likelihood = LongCTCSampler.decode(np.asarray(probs.transpose(1, 0)), beam_size=beam_size)\n",
    "    return sequence, likelihood\n",
    "  \n",
    "  @staticmethod\n",
    "  def sample_in_morse(probs: torch.Tensor, beam_size=100, return_prob=False):\n",
    "    sequence, likelihood = LongCTCSampler.sample(probs, beam_size=beam_size)\n",
    "    morse = map_to_string(torch.tensor(sequence))\n",
    "    morse = morse.strip(' /')\n",
    "    if return_prob:\n",
    "      return morse, likelihood\n",
    "    return morse"
   ]
  },
  {
   "cell_type": "code",
   "execution_count": 27,
   "metadata": {},
   "outputs": [],
   "source": [
    "model.eval()\n",
    "with torch.no_grad():\n",
    "    outs = model(features[None].to(device))\n",
    "    probs = F.softmax(outs.squeeze(), dim=0)"
   ]
  },
  {
   "cell_type": "code",
   "execution_count": 28,
   "metadata": {},
   "outputs": [],
   "source": [
    "greedy_alg_string = prettify_ctc_string(map_to_string(greedy_ctc_sample(probs)))\n",
    "short_alg_string = ShortCTCSampler.sample_morse(probs, beam_size=100)\n",
    "long_alg_string = LongCTCSampler.sample_in_morse(probs, beam_size=100)"
   ]
  },
  {
   "cell_type": "code",
   "execution_count": 29,
   "metadata": {},
   "outputs": [
    {
     "name": "stdout",
     "output_type": "stream",
     "text": [
      "gtrue  \".---- / -.-- ..- ----. .--\"  ->  1 ЫУ9В\n",
      "\n",
      "greedy \".---- -.-- ..- ----..--\"    ->  1ЫУ*\n",
      "short  \".---- -.-- ..- ----..--\" ->  1ЫУ*\n",
      "long   \".---- -.-- ..- ----. .--\"  ->  1ЫУ9В\n"
     ]
    }
   ],
   "source": [
    "print(f'gtrue  \"{encode_to_morse(labels)}\"  ->  {labels}')\n",
    "print()\n",
    "print(f'greedy \"{greedy_alg_string}\"    ->  {decode_from_morse(greedy_alg_string)}')\n",
    "print(f'short  \"{short_alg_string}\" ->  {decode_from_morse(short_alg_string)}')\n",
    "print(f'long   \"{long_alg_string}\"  ->  {decode_from_morse(long_alg_string)}')"
   ]
  },
  {
   "cell_type": "code",
   "execution_count": 30,
   "metadata": {},
   "outputs": [],
   "source": [
    "def inference_with_different_samplers(index: int):\n",
    "    features, labels = testset[index]\n",
    "    model.eval()\n",
    "    with torch.no_grad():\n",
    "        outs = model(features[None].to(device))\n",
    "        probs = F.softmax(outs.squeeze(), dim=0)\n",
    "    greedy_alg_string = prettify_ctc_string(map_to_string(greedy_ctc_sample(probs)))\n",
    "    short_alg_string = ShortCTCSampler.sample_morse(probs, beam_size=100)\n",
    "    long_alg_string = LongCTCSampler.sample_in_morse(probs, beam_size=100)\n",
    "    print(f'gtrue  \"{encode_to_morse(labels)}\"  ->  {labels}')\n",
    "    print()\n",
    "    print(f'greedy \"{greedy_alg_string}\"    ->  {decode_from_morse(greedy_alg_string)}')\n",
    "    print(f'short  \"{short_alg_string}\" ->  {decode_from_morse(short_alg_string)}')\n",
    "    print(f'long   \"{long_alg_string}\"  ->  {decode_from_morse(long_alg_string)}')"
   ]
  },
  {
   "cell_type": "code",
   "execution_count": 31,
   "metadata": {},
   "outputs": [
    {
     "name": "stdout",
     "output_type": "stream",
     "text": [
      "gtrue  \"----- ....- ----. -.-. ...-- - / .... ..---\"  ->  049Ц3Т Х2\n",
      "\n",
      "greedy \"----- ....- ----.-.-. ...-- -.... ----\"    ->  04*36Ш\n",
      "short  \"----- ....- ----.-.-. ...-- -.... ----\" ->  04*36Ш\n",
      "long   \"----- ....- ----.-.-. ...-- - .... ----\"  ->  04*3ТХШ\n"
     ]
    }
   ],
   "source": [
    "inference_with_different_samplers(0)"
   ]
  },
  {
   "cell_type": "code",
   "execution_count": 32,
   "metadata": {},
   "outputs": [
    {
     "name": "stdout",
     "output_type": "stream",
     "text": [
      "gtrue  \"....- .-. ---- ..-.. ..--- -. . / --.. -....\"  ->  4РШЭ2НЕ З6\n",
      "\n",
      "greedy \"....- .-. ---- ..-.. ..----. .--.. -....\"    ->  4РШЭ**6\n",
      "short  \"....- .-. ---- ..-.. ..----. .--.. -....\" ->  4РШЭ**6\n",
      "long   \"....- .-. ---- ..-.. ..----. .--.. -....\"  ->  4РШЭ**6\n"
     ]
    }
   ],
   "source": [
    "inference_with_different_samplers(1)"
   ]
  },
  {
   "cell_type": "code",
   "execution_count": 33,
   "metadata": {},
   "outputs": [
    {
     "name": "stdout",
     "output_type": "stream",
     "text": [
      "gtrue  \"...- --. -. .--. --.. ..--\"  ->  ЖГНПЗЮ\n",
      "\n",
      "greedy \"...---. -. .--. --.. ..--\"    ->  *НПЗЮ\n",
      "short  \"...---. -. .--. --.. ..--\" ->  *НПЗЮ\n",
      "long   \"...---. -. .--. --.. ..--\"  ->  *НПЗЮ\n"
     ]
    }
   ],
   "source": [
    "inference_with_different_samplers(2)"
   ]
  },
  {
   "cell_type": "code",
   "execution_count": 34,
   "metadata": {},
   "outputs": [
    {
     "name": "stdout",
     "output_type": "stream",
     "text": [
      "gtrue  \"..-.. --... ... / .--. -.-- ... ... -- ----.\"  ->  Э7С ПЫССМ9\n",
      "\n",
      "greedy \"..-.. --... ... .--.-- ... ... -- ----.\"    ->  Э7С*ССМ9\n",
      "short  \"..-.. --... ... .--.-- ... ... -- ----.\" ->  Э7С*ССМ9\n",
      "long   \"..-.. --... ... .--.--- ... ... -- ----.\"  ->  Э7С*ССМ9\n"
     ]
    }
   ],
   "source": [
    "inference_with_different_samplers(123)"
   ]
  },
  {
   "cell_type": "code",
   "execution_count": 35,
   "metadata": {},
   "outputs": [
    {
     "name": "stdout",
     "output_type": "stream",
     "text": [
      "gtrue  \".-.. ....- - / -. / . . ---. ----- / --..\"  ->  Л4Т Н ЕЕЧ0 З\n",
      "\n",
      "greedy \".-......- --.. . ---. ----- -.-..\"    ->  *ЗЕЧ0*\n",
      "short  \".-......- --.. . ---. ----- -.-..\" ->  *ЗЕЧ0*\n",
      "long   \".--.....- - -.. . ---. ----- --..\"  ->  *ТДЕЧ0З\n"
     ]
    }
   ],
   "source": [
    "inference_with_different_samplers(33)"
   ]
  },
  {
   "cell_type": "code",
   "execution_count": 36,
   "metadata": {},
   "outputs": [
    {
     "name": "stdout",
     "output_type": "stream",
     "text": [
      "gtrue  \"- -... .--.-. -... --.-- ..-- -.-\"  ->  ТБЪБ#ЮК\n",
      "\n",
      "greedy \"- -... .--.-. -... --.-- ..-- -.-\"    ->  ТБЪБ#ЮК\n",
      "short  \"- -... .--.-. -... --.-- ..-- -.-\" ->  ТБЪБ#ЮК\n",
      "long   \"- -... .--.-. -... --.-- ..-- -.-\"  ->  ТБЪБ#ЮК\n"
     ]
    }
   ],
   "source": [
    "inference_with_different_samplers(882)"
   ]
  },
  {
   "cell_type": "code",
   "execution_count": 37,
   "metadata": {},
   "outputs": [
    {
     "name": "stdout",
     "output_type": "stream",
     "text": [
      "gtrue  \"..--- - --.. -.- .--.-. ---.\"  ->  2ТЗКЪЧ\n",
      "\n",
      "greedy \"-- ---.. -.- .--.-. ---.\"    ->  М8КЪЧ\n",
      "short  \"-- ---.. -.- .--.-. ---.\" ->  М8КЪЧ\n",
      "long   \".--- ---.. -.- .--.-. ---.\"  ->  Й8КЪЧ\n"
     ]
    }
   ],
   "source": [
    "inference_with_different_samplers(82)"
   ]
  },
  {
   "cell_type": "code",
   "execution_count": 38,
   "metadata": {},
   "outputs": [
    {
     "name": "stdout",
     "output_type": "stream",
     "text": [
      "gtrue  \"-.-. -.. -..- ..-.. ..-.. --.- .-- ....- .....\"  ->  ЦДЬЭЭЩВ45\n",
      "\n",
      "greedy \"-.-. -.. -..- ..-.. ..-.. --.- .-- ....- .....\"    ->  ЦДЬЭЭЩВ45\n",
      "short  \"-.-. -.. -..- ..-.. ..-.. --.- .-- ....- .....\" ->  ЦДЬЭЭЩВ45\n",
      "long   \"-.-. -.. -..- ..-.. ..-.. --.- .-- ....- .....\"  ->  ЦДЬЭЭЩВ45\n"
     ]
    }
   ],
   "source": [
    "inference_with_different_samplers(42)"
   ]
  },
  {
   "cell_type": "code",
   "execution_count": 39,
   "metadata": {},
   "outputs": [
    {
     "name": "stdout",
     "output_type": "stream",
     "text": [
      "gtrue  \"...- ---. ----- -- ..-.. --. --.- ...- .-.\"  ->  ЖЧ0МЭГЩЖР\n",
      "\n",
      "greedy \"...- ---. ----- -- ..-.. --. --.- ...- .-.\"    ->  ЖЧ0МЭГЩЖР\n",
      "short  \"...- ---. ----- -- ..-.. --. --.- ...- .-.\" ->  ЖЧ0МЭГЩЖР\n",
      "long   \"...- ---. ----- -- ..-.. --. --.- ...- .-.\"  ->  ЖЧ0МЭГЩЖР\n"
     ]
    }
   ],
   "source": [
    "inference_with_different_samplers(743)"
   ]
  },
  {
   "cell_type": "code",
   "execution_count": 40,
   "metadata": {},
   "outputs": [
    {
     "name": "stdout",
     "output_type": "stream",
     "text": [
      "gtrue  \"-.-. --.- --.-- ... .-- -.-. ---.\"  ->  ЦЩ#СВЦЧ\n",
      "\n",
      "greedy \"-.-. --.- --.-- ... .-- -.-. ---.\"    ->  ЦЩ#СВЦЧ\n",
      "short  \"-.-. --.- --.-- ... .-- -.-. ---.\" ->  ЦЩ#СВЦЧ\n",
      "long   \"-.-. --.- --.-- ... .-- -.-. ---.\"  ->  ЦЩ#СВЦЧ\n"
     ]
    }
   ],
   "source": [
    "inference_with_different_samplers(999)"
   ]
  },
  {
   "cell_type": "code",
   "execution_count": 41,
   "metadata": {},
   "outputs": [
    {
     "data": {
      "text/plain": [
       "3"
      ]
     },
     "execution_count": 41,
     "metadata": {},
     "output_type": "execute_result"
    }
   ],
   "source": [
    "Levenshtein.distance('hahaha', 'heah')"
   ]
  },
  {
   "cell_type": "code",
   "execution_count": 42,
   "metadata": {},
   "outputs": [
    {
     "name": "stderr",
     "output_type": "stream",
     "text": [
      "100%|██████████| 1000/1000 [01:08<00:00, 14.66it/s]\n"
     ]
    }
   ],
   "source": [
    "with torch.no_grad():\n",
    "    distance_buffer = []\n",
    "    for features, labels in tqdm(testset):\n",
    "        features = features.to(device)\n",
    "        outs = model(features[None]).squeeze().to('cpu')\n",
    "        probs = F.softmax(outs, dim=0)\n",
    "        morse = LongCTCSampler.sample_in_morse(probs, beam_size=10)\n",
    "        decoded_message = decode_from_morse(morse)\n",
    "        dist = Levenshtein.distance(decoded_message, labels)\n",
    "        distance_buffer.append(dist)\n",
    "    mean_dist = np.mean(distance_buffer)"
   ]
  },
  {
   "cell_type": "code",
   "execution_count": 43,
   "metadata": {},
   "outputs": [
    {
     "data": {
      "text/plain": [
       "np.float64(2.442)"
      ]
     },
     "execution_count": 43,
     "metadata": {},
     "output_type": "execute_result"
    }
   ],
   "source": [
    "mean_dist"
   ]
  },
  {
   "cell_type": "markdown",
   "metadata": {},
   "source": [
    "## make baseline submission"
   ]
  },
  {
   "cell_type": "code",
   "execution_count": 44,
   "metadata": {},
   "outputs": [],
   "source": [
    "def load_audio_in_memory(audio_dir, filenames, transform=lambda x, y: x):\n",
    "    records = []\n",
    "    for name in tqdm(filenames):\n",
    "        signal, sr = librosa.load(Path(audio_dir, name), sr=None)\n",
    "        records.append(transform(signal, sr))\n",
    "    return records"
   ]
  },
  {
   "cell_type": "code",
   "execution_count": 45,
   "metadata": {},
   "outputs": [
    {
     "data": {
      "text/html": [
       "<div>\n",
       "<style scoped>\n",
       "    .dataframe tbody tr th:only-of-type {\n",
       "        vertical-align: middle;\n",
       "    }\n",
       "\n",
       "    .dataframe tbody tr th {\n",
       "        vertical-align: top;\n",
       "    }\n",
       "\n",
       "    .dataframe thead th {\n",
       "        text-align: right;\n",
       "    }\n",
       "</style>\n",
       "<table border=\"1\" class=\"dataframe\">\n",
       "  <thead>\n",
       "    <tr style=\"text-align: right;\">\n",
       "      <th></th>\n",
       "      <th>id</th>\n",
       "    </tr>\n",
       "  </thead>\n",
       "  <tbody>\n",
       "    <tr>\n",
       "      <th>0</th>\n",
       "      <td>30001.opus</td>\n",
       "    </tr>\n",
       "    <tr>\n",
       "      <th>1</th>\n",
       "      <td>30002.opus</td>\n",
       "    </tr>\n",
       "    <tr>\n",
       "      <th>2</th>\n",
       "      <td>30003.opus</td>\n",
       "    </tr>\n",
       "    <tr>\n",
       "      <th>3</th>\n",
       "      <td>30004.opus</td>\n",
       "    </tr>\n",
       "    <tr>\n",
       "      <th>4</th>\n",
       "      <td>30005.opus</td>\n",
       "    </tr>\n",
       "  </tbody>\n",
       "</table>\n",
       "</div>"
      ],
      "text/plain": [
       "           id\n",
       "0  30001.opus\n",
       "1  30002.opus\n",
       "2  30003.opus\n",
       "3  30004.opus\n",
       "4  30005.opus"
      ]
     },
     "execution_count": 45,
     "metadata": {},
     "output_type": "execute_result"
    }
   ],
   "source": [
    "test_df = pd.read_csv('test.csv')\n",
    "test_df.head()"
   ]
  },
  {
   "cell_type": "code",
   "execution_count": 46,
   "metadata": {},
   "outputs": [
    {
     "name": "stderr",
     "output_type": "stream",
     "text": [
      "100%|██████████| 5000/5000 [00:54<00:00, 92.20it/s] \n"
     ]
    }
   ],
   "source": [
    "test_features = load_audio_in_memory('morse_dataset', test_df['id'], transform=audio_transform)"
   ]
  },
  {
   "cell_type": "code",
   "execution_count": 47,
   "metadata": {},
   "outputs": [
    {
     "data": {
      "image/png": "[encoded data removed]",
      "text/plain": [
       "<Figure size 640x480 with 1 Axes>"
      ]
     },
     "metadata": {},
     "output_type": "display_data"
    },
    {
     "name": "stdout",
     "output_type": "stream",
     "text": [
      ".-.- ..-- -.... .-.. .. - ...- -... ----.\n"
     ]
    }
   ],
   "source": [
    "features = test_features[0]\n",
    "plt.imshow(features)\n",
    "plt.show()\n",
    "model.eval()\n",
    "with torch.no_grad():\n",
    "    outs = model(features[None].to(device))\n",
    "    probs = F.softmax(outs.squeeze(), dim=0)\n",
    "long_alg_string = LongCTCSampler.sample_in_morse(probs, beam_size=100)\n",
    "print(long_alg_string)"
   ]
  },
  {
   "cell_type": "code",
   "execution_count": 48,
   "metadata": {},
   "outputs": [
    {
     "name": "stderr",
     "output_type": "stream",
     "text": [
      " 38%|███▊      | 1887/5000 [02:11<03:37, 14.34it/s]\n"
     ]
    },
    {
     "ename": "KeyboardInterrupt",
     "evalue": "",
     "output_type": "error",
     "traceback": [
      "\u001b[31m---------------------------------------------------------------------------\u001b[39m",
      "\u001b[31mKeyboardInterrupt\u001b[39m                         Traceback (most recent call last)",
      "\u001b[36mCell\u001b[39m\u001b[36m \u001b[39m\u001b[32mIn[48]\u001b[39m\u001b[32m, line 7\u001b[39m\n\u001b[32m      5\u001b[39m     outs = model(features[\u001b[38;5;28;01mNone\u001b[39;00m].to(device))\n\u001b[32m      6\u001b[39m     probs = F.softmax(outs.squeeze(), dim=\u001b[32m0\u001b[39m)\n\u001b[32m----> \u001b[39m\u001b[32m7\u001b[39m long_alg_string = \u001b[43mLongCTCSampler\u001b[49m\u001b[43m.\u001b[49m\u001b[43msample_in_morse\u001b[49m\u001b[43m(\u001b[49m\u001b[43mprobs\u001b[49m\u001b[43m,\u001b[49m\u001b[43m \u001b[49m\u001b[43mbeam_size\u001b[49m\u001b[43m=\u001b[49m\u001b[32;43m10\u001b[39;49m\u001b[43m)\u001b[49m\n\u001b[32m      8\u001b[39m decoded = decode_from_morse(long_alg_string)\n\u001b[32m      9\u001b[39m decoded_list.append(decoded)\n",
      "\u001b[36mCell\u001b[39m\u001b[36m \u001b[39m\u001b[32mIn[26]\u001b[39m\u001b[32m, line 121\u001b[39m, in \u001b[36mLongCTCSampler.sample_in_morse\u001b[39m\u001b[34m(probs, beam_size, return_prob)\u001b[39m\n\u001b[32m    119\u001b[39m \u001b[38;5;129m@staticmethod\u001b[39m\n\u001b[32m    120\u001b[39m \u001b[38;5;28;01mdef\u001b[39;00m\u001b[38;5;250m \u001b[39m\u001b[34msample_in_morse\u001b[39m(probs: torch.Tensor, beam_size=\u001b[32m100\u001b[39m, return_prob=\u001b[38;5;28;01mFalse\u001b[39;00m):\n\u001b[32m--> \u001b[39m\u001b[32m121\u001b[39m   sequence, likelihood = \u001b[43mLongCTCSampler\u001b[49m\u001b[43m.\u001b[49m\u001b[43msample\u001b[49m\u001b[43m(\u001b[49m\u001b[43mprobs\u001b[49m\u001b[43m,\u001b[49m\u001b[43m \u001b[49m\u001b[43mbeam_size\u001b[49m\u001b[43m=\u001b[49m\u001b[43mbeam_size\u001b[49m\u001b[43m)\u001b[49m\n\u001b[32m    122\u001b[39m   morse = map_to_string(torch.tensor(sequence))\n\u001b[32m    123\u001b[39m   morse = morse.strip(\u001b[33m'\u001b[39m\u001b[33m /\u001b[39m\u001b[33m'\u001b[39m)\n",
      "\u001b[36mCell\u001b[39m\u001b[36m \u001b[39m\u001b[32mIn[26]\u001b[39m\u001b[32m, line 116\u001b[39m, in \u001b[36mLongCTCSampler.sample\u001b[39m\u001b[34m(probs, beam_size)\u001b[39m\n\u001b[32m    113\u001b[39m \u001b[38;5;129m@staticmethod\u001b[39m\n\u001b[32m    114\u001b[39m \u001b[38;5;28;01mdef\u001b[39;00m\u001b[38;5;250m \u001b[39m\u001b[34msample\u001b[39m(probs: torch.Tensor, beam_size=\u001b[32m100\u001b[39m):\n\u001b[32m    115\u001b[39m   \u001b[38;5;66;03m# probs.shape = [C, T]\u001b[39;00m\n\u001b[32m--> \u001b[39m\u001b[32m116\u001b[39m   sequence, likelihood = \u001b[43mLongCTCSampler\u001b[49m\u001b[43m.\u001b[49m\u001b[43mdecode\u001b[49m\u001b[43m(\u001b[49m\u001b[43mnp\u001b[49m\u001b[43m.\u001b[49m\u001b[43masarray\u001b[49m\u001b[43m(\u001b[49m\u001b[43mprobs\u001b[49m\u001b[43m.\u001b[49m\u001b[43mtranspose\u001b[49m\u001b[43m(\u001b[49m\u001b[32;43m1\u001b[39;49m\u001b[43m,\u001b[49m\u001b[43m \u001b[49m\u001b[32;43m0\u001b[39;49m\u001b[43m)\u001b[49m\u001b[43m)\u001b[49m\u001b[43m,\u001b[49m\u001b[43m \u001b[49m\u001b[43mbeam_size\u001b[49m\u001b[43m=\u001b[49m\u001b[43mbeam_size\u001b[49m\u001b[43m)\u001b[49m\n\u001b[32m    117\u001b[39m   \u001b[38;5;28;01mreturn\u001b[39;00m sequence, likelihood\n",
      "\u001b[36mCell\u001b[39m\u001b[36m \u001b[39m\u001b[32mIn[26]\u001b[39m\u001b[32m, line 105\u001b[39m, in \u001b[36mLongCTCSampler.decode\u001b[39m\u001b[34m(probs, beam_size, blank)\u001b[39m\n\u001b[32m    101\u001b[39m         next_beam[prefix] = (n_p_b, n_p_nb)\n\u001b[32m    103\u001b[39m   \u001b[38;5;66;03m# Sort and trim the beam before moving on to the\u001b[39;00m\n\u001b[32m    104\u001b[39m   \u001b[38;5;66;03m# next time-step.\u001b[39;00m\n\u001b[32m--> \u001b[39m\u001b[32m105\u001b[39m   beam = \u001b[38;5;28msorted\u001b[39m(next_beam.items(),\n\u001b[32m    106\u001b[39m           key=\u001b[38;5;28;01mlambda\u001b[39;00m x : LongCTCSampler.logsumexp(*x[\u001b[32m1\u001b[39m]),\n\u001b[32m    107\u001b[39m           reverse=\u001b[38;5;28;01mTrue\u001b[39;00m)\n\u001b[32m    108\u001b[39m   beam = beam[:beam_size]\n\u001b[32m    110\u001b[39m best = beam[\u001b[32m0\u001b[39m]\n",
      "\u001b[36mCell\u001b[39m\u001b[36m \u001b[39m\u001b[32mIn[26]\u001b[39m\u001b[32m, line 106\u001b[39m, in \u001b[36mLongCTCSampler.decode.<locals>.<lambda>\u001b[39m\u001b[34m(x)\u001b[39m\n\u001b[32m    101\u001b[39m         next_beam[prefix] = (n_p_b, n_p_nb)\n\u001b[32m    103\u001b[39m   \u001b[38;5;66;03m# Sort and trim the beam before moving on to the\u001b[39;00m\n\u001b[32m    104\u001b[39m   \u001b[38;5;66;03m# next time-step.\u001b[39;00m\n\u001b[32m    105\u001b[39m   beam = \u001b[38;5;28msorted\u001b[39m(next_beam.items(),\n\u001b[32m--> \u001b[39m\u001b[32m106\u001b[39m           key=\u001b[38;5;28;01mlambda\u001b[39;00m x : \u001b[43mLongCTCSampler\u001b[49m\u001b[43m.\u001b[49m\u001b[43mlogsumexp\u001b[49m\u001b[43m(\u001b[49m\u001b[43m*\u001b[49m\u001b[43mx\u001b[49m\u001b[43m[\u001b[49m\u001b[32;43m1\u001b[39;49m\u001b[43m]\u001b[49m\u001b[43m)\u001b[49m,\n\u001b[32m    107\u001b[39m           reverse=\u001b[38;5;28;01mTrue\u001b[39;00m)\n\u001b[32m    108\u001b[39m   beam = beam[:beam_size]\n\u001b[32m    110\u001b[39m best = beam[\u001b[32m0\u001b[39m]\n",
      "\u001b[36mCell\u001b[39m\u001b[36m \u001b[39m\u001b[32mIn[26]\u001b[39m\u001b[32m, line 30\u001b[39m, in \u001b[36mLongCTCSampler.logsumexp\u001b[39m\u001b[34m(*args)\u001b[39m\n\u001b[32m     25\u001b[39m \u001b[38;5;129m@staticmethod\u001b[39m\n\u001b[32m     26\u001b[39m \u001b[38;5;28;01mdef\u001b[39;00m\u001b[38;5;250m \u001b[39m\u001b[34mlogsumexp\u001b[39m(*args):\n\u001b[32m     27\u001b[39m \u001b[38;5;250m  \u001b[39m\u001b[33;03m\"\"\"\u001b[39;00m\n\u001b[32m     28\u001b[39m \u001b[33;03m  Stable log sum exp.\u001b[39;00m\n\u001b[32m     29\u001b[39m \u001b[33;03m  \"\"\"\u001b[39;00m\n\u001b[32m---> \u001b[39m\u001b[32m30\u001b[39m   \u001b[38;5;28;01mif\u001b[39;00m \u001b[38;5;28mall\u001b[39m(a == NEG_INF \u001b[38;5;28;01mfor\u001b[39;00m a \u001b[38;5;129;01min\u001b[39;00m args):\n\u001b[32m     31\u001b[39m       \u001b[38;5;28;01mreturn\u001b[39;00m NEG_INF\n\u001b[32m     32\u001b[39m   a_max = \u001b[38;5;28mmax\u001b[39m(args)\n",
      "\u001b[36mCell\u001b[39m\u001b[36m \u001b[39m\u001b[32mIn[26]\u001b[39m\u001b[32m, line 30\u001b[39m, in \u001b[36m<genexpr>\u001b[39m\u001b[34m(.0)\u001b[39m\n\u001b[32m     25\u001b[39m \u001b[38;5;129m@staticmethod\u001b[39m\n\u001b[32m     26\u001b[39m \u001b[38;5;28;01mdef\u001b[39;00m\u001b[38;5;250m \u001b[39m\u001b[34mlogsumexp\u001b[39m(*args):\n\u001b[32m     27\u001b[39m \u001b[38;5;250m  \u001b[39m\u001b[33;03m\"\"\"\u001b[39;00m\n\u001b[32m     28\u001b[39m \u001b[33;03m  Stable log sum exp.\u001b[39;00m\n\u001b[32m     29\u001b[39m \u001b[33;03m  \"\"\"\u001b[39;00m\n\u001b[32m---> \u001b[39m\u001b[32m30\u001b[39m   \u001b[38;5;28;01mif\u001b[39;00m \u001b[38;5;28mall\u001b[39m(a == NEG_INF \u001b[38;5;28;01mfor\u001b[39;00m a \u001b[38;5;129;01min\u001b[39;00m args):\n\u001b[32m     31\u001b[39m       \u001b[38;5;28;01mreturn\u001b[39;00m NEG_INF\n\u001b[32m     32\u001b[39m   a_max = \u001b[38;5;28mmax\u001b[39m(args)\n",
      "\u001b[31mKeyboardInterrupt\u001b[39m: "
     ]
    }
   ],
   "source": [
    "decoded_list = []\n",
    "model.eval()\n",
    "for features in tqdm(test_features):\n",
    "    with torch.no_grad():\n",
    "        outs = model(features[None].to(device))\n",
    "        probs = F.softmax(outs.squeeze(), dim=0)\n",
    "    long_alg_string = LongCTCSampler.sample_in_morse(probs, beam_size=10)\n",
    "    decoded = decode_from_morse(long_alg_string)\n",
    "    decoded_list.append(decoded)\n",
    "    # print(long_alg_string)"
   ]
  },
  {
   "cell_type": "code",
   "execution_count": null,
   "metadata": {},
   "outputs": [
    {
     "data": {
      "text/html": [
       "<div>\n",
       "<style scoped>\n",
       "    .dataframe tbody tr th:only-of-type {\n",
       "        vertical-align: middle;\n",
       "    }\n",
       "\n",
       "    .dataframe tbody tr th {\n",
       "        vertical-align: top;\n",
       "    }\n",
       "\n",
       "    .dataframe thead th {\n",
       "        text-align: right;\n",
       "    }\n",
       "</style>\n",
       "<table border=\"1\" class=\"dataframe\">\n",
       "  <thead>\n",
       "    <tr style=\"text-align: right;\">\n",
       "      <th></th>\n",
       "      <th>id</th>\n",
       "      <th>message</th>\n",
       "    </tr>\n",
       "  </thead>\n",
       "  <tbody>\n",
       "    <tr>\n",
       "      <th>0</th>\n",
       "      <td>30001.opus</td>\n",
       "      <td>ЯЮ6ЛИТЖБШ</td>\n",
       "    </tr>\n",
       "    <tr>\n",
       "      <th>1</th>\n",
       "      <td>30002.opus</td>\n",
       "      <td>КЩВ9Ю9</td>\n",
       "    </tr>\n",
       "    <tr>\n",
       "      <th>2</th>\n",
       "      <td>30003.opus</td>\n",
       "      <td>Ы65Ф61Я</td>\n",
       "    </tr>\n",
       "    <tr>\n",
       "      <th>3</th>\n",
       "      <td>30004.opus</td>\n",
       "      <td>ЖЖНЖ9РЫНЦ3</td>\n",
       "    </tr>\n",
       "    <tr>\n",
       "      <th>4</th>\n",
       "      <td>30005.opus</td>\n",
       "      <td>ЕЯФ4ЮЧЬ</td>\n",
       "    </tr>\n",
       "  </tbody>\n",
       "</table>\n",
       "</div>"
      ],
      "text/plain": [
       "           id     message\n",
       "0  30001.opus   ЯЮ6ЛИТЖБШ\n",
       "1  30002.opus      КЩВ9Ю9\n",
       "2  30003.opus     Ы65Ф61Я\n",
       "3  30004.opus  ЖЖНЖ9РЫНЦ3\n",
       "4  30005.opus     ЕЯФ4ЮЧЬ"
      ]
     },
     "execution_count": 314,
     "metadata": {},
     "output_type": "execute_result"
    }
   ],
   "source": [
    "submission_df = pd.DataFrame({'id': test_df['id'], 'message': decoded_list})\n",
    "submission_df.head()"
   ]
  },
  {
   "cell_type": "code",
   "execution_count": null,
   "metadata": {},
   "outputs": [
    {
     "data": {
      "text/html": [
       "<div>\n",
       "<style scoped>\n",
       "    .dataframe tbody tr th:only-of-type {\n",
       "        vertical-align: middle;\n",
       "    }\n",
       "\n",
       "    .dataframe tbody tr th {\n",
       "        vertical-align: top;\n",
       "    }\n",
       "\n",
       "    .dataframe thead th {\n",
       "        text-align: right;\n",
       "    }\n",
       "</style>\n",
       "<table border=\"1\" class=\"dataframe\">\n",
       "  <thead>\n",
       "    <tr style=\"text-align: right;\">\n",
       "      <th></th>\n",
       "      <th>id</th>\n",
       "      <th>message</th>\n",
       "    </tr>\n",
       "  </thead>\n",
       "  <tbody>\n",
       "    <tr>\n",
       "      <th>4980</th>\n",
       "      <td>34981.opus</td>\n",
       "      <td>ЛМИТ8ЕНБПУ</td>\n",
       "    </tr>\n",
       "    <tr>\n",
       "      <th>4981</th>\n",
       "      <td>34982.opus</td>\n",
       "      <td>ЦОИБСГМ8</td>\n",
       "    </tr>\n",
       "    <tr>\n",
       "      <th>4982</th>\n",
       "      <td>34983.opus</td>\n",
       "      <td>5УМ0АО*</td>\n",
       "    </tr>\n",
       "    <tr>\n",
       "      <th>4983</th>\n",
       "      <td>34984.opus</td>\n",
       "      <td>ДАМАМТОТ**МК</td>\n",
       "    </tr>\n",
       "    <tr>\n",
       "      <th>4984</th>\n",
       "      <td>34985.opus</td>\n",
       "      <td>*СВЕДТ#НТИЯМОМЮНЯММТИЫМ*МЫНШРГЗЕВ</td>\n",
       "    </tr>\n",
       "    <tr>\n",
       "      <th>4985</th>\n",
       "      <td>34986.opus</td>\n",
       "      <td>ТНХВЙЕГ*ВЫДАМИНКШ8НИ*НЖТТ</td>\n",
       "    </tr>\n",
       "    <tr>\n",
       "      <th>4986</th>\n",
       "      <td>34987.opus</td>\n",
       "      <td>ИЛНАСДПЬСОЕМУНТИЕГВКСОЕПЬКС*СУСХНУЮНХНУХ</td>\n",
       "    </tr>\n",
       "    <tr>\n",
       "      <th>4987</th>\n",
       "      <td>34988.opus</td>\n",
       "      <td>ЕТЬТКПДСЯНКМЫОЦИМК</td>\n",
       "    </tr>\n",
       "    <tr>\n",
       "      <th>4988</th>\n",
       "      <td>34989.opus</td>\n",
       "      <td>*ЬКМСО*МОПЬ*М</td>\n",
       "    </tr>\n",
       "    <tr>\n",
       "      <th>4989</th>\n",
       "      <td>34990.opus</td>\n",
       "      <td>ИЛЬСОЕНДМЫМЙЫНУСЙЫМЧАТУСЬКТДЛХТЫМЖАЛЙДЛУСВМЧТЫ...</td>\n",
       "    </tr>\n",
       "    <tr>\n",
       "      <th>4990</th>\n",
       "      <td>34991.opus</td>\n",
       "      <td>ЛДА*СЮ*М*ГР*ТУК*Н</td>\n",
       "    </tr>\n",
       "    <tr>\n",
       "      <th>4991</th>\n",
       "      <td>34992.opus</td>\n",
       "      <td>АСМИПТИГЖП*УН*С8ЕАЗТКАЮЕПММИ!И</td>\n",
       "    </tr>\n",
       "    <tr>\n",
       "      <th>4992</th>\n",
       "      <td>34993.opus</td>\n",
       "      <td>ОЫДЛЫЛТЕТ7ЬМЫМТЕСРЫНАМЕТП</td>\n",
       "    </tr>\n",
       "    <tr>\n",
       "      <th>4993</th>\n",
       "      <td>34994.opus</td>\n",
       "      <td>АНФОЕ*ТМВН3Г*МУААСКН*РЫС1Р*</td>\n",
       "    </tr>\n",
       "    <tr>\n",
       "      <th>4994</th>\n",
       "      <td>34995.opus</td>\n",
       "      <td>ОД,П*ВВТ*МДМЙЦЩГЖЧЗАЧЕСИМ&amp;МЬ#П*МАЫШ*ТКНЕКСД</td>\n",
       "    </tr>\n",
       "    <tr>\n",
       "      <th>4995</th>\n",
       "      <td>34996.opus</td>\n",
       "      <td>ОРСКСИЛДАСДПЬСОЕМУАТИЕНБАЛКНРТЕАЛШВДМУНЕТЫТБ</td>\n",
       "    </tr>\n",
       "    <tr>\n",
       "      <th>4996</th>\n",
       "      <td>34997.opus</td>\n",
       "      <td>СЧТИСЕЬМПЮНДНИМТНОМЕТЫ*УТЫАСР</td>\n",
       "    </tr>\n",
       "    <tr>\n",
       "      <th>4997</th>\n",
       "      <td>34998.opus</td>\n",
       "      <td>Т*МЗЬЧТ*ТЕТМКАГПОГВ5БГ</td>\n",
       "    </tr>\n",
       "    <tr>\n",
       "      <th>4998</th>\n",
       "      <td>34999.opus</td>\n",
       "      <td>ОДТЕ*АЯОНКМЕМЮА*ЧВГ</td>\n",
       "    </tr>\n",
       "    <tr>\n",
       "      <th>4999</th>\n",
       "      <td>35000.opus</td>\n",
       "      <td>*ЬТКТВН</td>\n",
       "    </tr>\n",
       "  </tbody>\n",
       "</table>\n",
       "</div>"
      ],
      "text/plain": [
       "              id                                            message\n",
       "4980  34981.opus                                         ЛМИТ8ЕНБПУ\n",
       "4981  34982.opus                                           ЦОИБСГМ8\n",
       "4982  34983.opus                                            5УМ0АО*\n",
       "4983  34984.opus                                       ДАМАМТОТ**МК\n",
       "4984  34985.opus                  *СВЕДТ#НТИЯМОМЮНЯММТИЫМ*МЫНШРГЗЕВ\n",
       "4985  34986.opus                          ТНХВЙЕГ*ВЫДАМИНКШ8НИ*НЖТТ\n",
       "4986  34987.opus           ИЛНАСДПЬСОЕМУНТИЕГВКСОЕПЬКС*СУСХНУЮНХНУХ\n",
       "4987  34988.opus                                 ЕТЬТКПДСЯНКМЫОЦИМК\n",
       "4988  34989.opus                                      *ЬКМСО*МОПЬ*М\n",
       "4989  34990.opus  ИЛЬСОЕНДМЫМЙЫНУСЙЫМЧАТУСЬКТДЛХТЫМЖАЛЙДЛУСВМЧТЫ...\n",
       "4990  34991.opus                                  ЛДА*СЮ*М*ГР*ТУК*Н\n",
       "4991  34992.opus                     АСМИПТИГЖП*УН*С8ЕАЗТКАЮЕПММИ!И\n",
       "4992  34993.opus                          ОЫДЛЫЛТЕТ7ЬМЫМТЕСРЫНАМЕТП\n",
       "4993  34994.opus                        АНФОЕ*ТМВН3Г*МУААСКН*РЫС1Р*\n",
       "4994  34995.opus        ОД,П*ВВТ*МДМЙЦЩГЖЧЗАЧЕСИМ&МЬ#П*МАЫШ*ТКНЕКСД\n",
       "4995  34996.opus       ОРСКСИЛДАСДПЬСОЕМУАТИЕНБАЛКНРТЕАЛШВДМУНЕТЫТБ\n",
       "4996  34997.opus                      СЧТИСЕЬМПЮНДНИМТНОМЕТЫ*УТЫАСР\n",
       "4997  34998.opus                             Т*МЗЬЧТ*ТЕТМКАГПОГВ5БГ\n",
       "4998  34999.opus                                ОДТЕ*АЯОНКМЕМЮА*ЧВГ\n",
       "4999  35000.opus                                            *ЬТКТВН"
      ]
     },
     "execution_count": 317,
     "metadata": {},
     "output_type": "execute_result"
    }
   ],
   "source": [
    "submission_df.tail(20)"
   ]
  },
  {
   "cell_type": "code",
   "execution_count": 49,
   "metadata": {},
   "outputs": [
    {
     "data": {
      "text/plain": [
       "<matplotlib.image.AxesImage at 0x24b716d2a90>"
      ]
     },
     "execution_count": 49,
     "metadata": {},
     "output_type": "execute_result"
    },
    {
     "data": {
      "image/png": "[encoded data removed]",
      "text/plain": [
       "<Figure size 640x480 with 1 Axes>"
      ]
     },
     "metadata": {},
     "output_type": "display_data"
    }
   ],
   "source": [
    "plt.imshow(test_features[4999], aspect=40)"
   ]
  },
  {
   "cell_type": "code",
   "execution_count": null,
   "metadata": {},
   "outputs": [],
   "source": [
    "submission_df.to_csv('baseline_submission.csv', index=False)"
   ]
  },
  {
   "cell_type": "code",
   "execution_count": 50,
   "metadata": {},
   "outputs": [
    {
     "name": "stdout",
     "output_type": "stream",
     "text": [
      "8000\n",
      "-0.9999999982923303 1.7076697119930862e-09\n"
     ]
    },
    {
     "data": {
      "text/plain": [
       "<matplotlib.image.AxesImage at 0x24b9c66ff10>"
      ]
     },
     "execution_count": 50,
     "metadata": {},
     "output_type": "execute_result"
    },
    {
     "data": {
      "image/png": "[encoded data removed]",
      "text/plain": [
       "<Figure size 640x480 with 1 Axes>"
      ]
     },
     "metadata": {},
     "output_type": "display_data"
    }
   ],
   "source": [
    "n_fft = 512\n",
    "filename = '34985.opus'\n",
    "signal, sr = librosa.load(f'morse_dataset/{filename}', sr=None)\n",
    "print(sr)\n",
    "D = librosa.stft(signal, n_fft=n_fft)\n",
    "spectrogram = np.abs(D)\n",
    "# plt.imshow(spectrogram, aspect=10)\n",
    "nent = negative_entropy(spectrogram, max_temp=5)\n",
    "nent = nent / -(np.min(nent) - np.max(nent))\n",
    "print(np.min(nent), np.max(nent))\n",
    "plt.imshow(nent[:, :], aspect=10)"
   ]
  },
  {
   "cell_type": "code",
   "execution_count": 51,
   "metadata": {},
   "outputs": [
    {
     "name": "stdout",
     "output_type": "stream",
     "text": [
      "-..-..- ... .-- . -.. ------. .-- -. - ...-.- ------.-- -- ..-- -. .-.- ----.-- - .. -.-- ---..----- ---. -- -.-- -.-.--- -- .-. --. --... .----\n"
     ]
    },
    {
     "data": {
      "image/png": "[encoded data removed]",
      "text/plain": [
       "<Figure size 640x480 with 1 Axes>"
      ]
     },
     "metadata": {},
     "output_type": "display_data"
    }
   ],
   "source": [
    "features = audio_transform(signal, sr)\n",
    "plt.imshow(features[:, :600], aspect=10)\n",
    "with torch.no_grad():\n",
    "    outs = model(features[None].to(device))\n",
    "    probs = F.softmax(outs.squeeze(), dim=0)\n",
    "    message = LongCTCSampler.sample_in_morse(probs)\n",
    "print(message)"
   ]
  },
  {
   "cell_type": "code",
   "execution_count": null,
   "metadata": {},
   "outputs": [],
   "source": []
  }
 ],
 "metadata": {
  "kernelspec": {
   "display_name": ".venv",
   "language": "python",
   "name": "python3"
  },
  "language_info": {
   "codemirror_mode": {
    "name": "ipython",
    "version": 3
   },
   "file_extension": ".py",
   "mimetype": "text/x-python",
   "name": "python",
   "nbconvert_exporter": "python",
   "pygments_lexer": "ipython3",
   "version": "3.11.3"
  }
 },
 "nbformat": 4,
 "nbformat_minor": 2
}
