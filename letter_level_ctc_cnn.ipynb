{
 "cells": [
  {
   "cell_type": "code",
   "execution_count": 1,
   "metadata": {},
   "outputs": [],
   "source": [
    "import numpy as np\n",
    "import pandas as pd\n",
    "import torch\n",
    "import torch.nn as nn\n",
    "import Levenshtein\n",
    "import librosa\n",
    "import matplotlib.pyplot as plt\n",
    "import MorseCodePy as mcp\n",
    "from pathlib import Path\n",
    "from tqdm import tqdm\n",
    "import torch.nn.functional as F\n",
    "import re"
   ]
  },
  {
   "cell_type": "markdown",
   "metadata": {},
   "source": [
    "## data"
   ]
  },
  {
   "cell_type": "code",
   "execution_count": 2,
   "metadata": {},
   "outputs": [],
   "source": [
    "class ListDataset(torch.utils.data.Dataset):\n",
    "    def __init__(self, features: list, labels: list, transform = lambda x: x):\n",
    "        self.features = features\n",
    "        self.labels = labels\n",
    "        assert len(features) == len(labels)\n",
    "        self.transform = transform\n",
    "        pass\n",
    "\n",
    "    def __len__(self):\n",
    "        return len(self.features)\n",
    "    \n",
    "    def __getitem__(self, index):\n",
    "        return self.transform(self.features[index]), self.labels[index]"
   ]
  },
  {
   "cell_type": "code",
   "execution_count": 3,
   "metadata": {},
   "outputs": [],
   "source": [
    "rng = np.random.default_rng()\n",
    "\n",
    "def rotation_transform(tensor: torch.Tensor):\n",
    "    threshold = rng.integers(0, tensor.shape[0])\n",
    "    result = torch.concat([tensor[threshold:], tensor[:threshold]], dim=0)\n",
    "    return result"
   ]
  },
  {
   "cell_type": "code",
   "execution_count": 8,
   "metadata": {},
   "outputs": [
    {
     "data": {
      "text/plain": [
       "35000"
      ]
     },
     "execution_count": 8,
     "metadata": {},
     "output_type": "execute_result"
    }
   ],
   "source": [
    "full_train_df = pd.read_csv('train.csv')\n",
    "test_df = pd.read_csv('test.csv')\n",
    "all_filenames = (list(train_df['id']) + list(test_df['id']))\n",
    "len(all_filenames)"
   ]
  },
  {
   "cell_type": "code",
   "execution_count": null,
   "metadata": {},
   "outputs": [
    {
     "name": "stderr",
     "output_type": "stream",
     "text": [
      "100%|██████████| 35000/35000 [12:18<00:00, 47.41it/s]\n"
     ]
    }
   ],
   "source": [
    "# n_fft = 512\n",
    "# n_channels = 64\n",
    "\n",
    "# audio_dir = 'morse_dataset'\n",
    "# dir_to_save = dir_to_save = f'data/melspec_nfft{n_fft}_nc{n_channels}'\n",
    "# Path(dir_to_save).mkdir(exist_ok=True)\n",
    "\n",
    "# all_features = []\n",
    "\n",
    "# for name in tqdm(all_filenames):\n",
    "#     signal, sr = librosa.load(Path(audio_dir, name), sr=None)\n",
    "#     melspectrogram = librosa.feature.melspectrogram(y=signal, sr = sr,\n",
    "# \t\t\t\t\t\t\t\t\t\t\t\tn_mels = n_channels, n_fft=n_fft, hop_length=n_fft // 4)\n",
    "    \n",
    "#     melspectrogram = torch.as_tensor(melspectrogram, dtype=torch.float32)\n",
    "#     torch.save(melspectrogram, Path(dir_to_save, Path(name).with_suffix('.pt')))\n",
    "#     # all_features.append(melspectrogram)\n",
    "\n",
    "# # len(all_features)"
   ]
  },
  {
   "cell_type": "code",
   "execution_count": null,
   "metadata": {},
   "outputs": [
    {
     "data": {
      "text/plain": [
       "<matplotlib.image.AxesImage at 0x22a610260d0>"
      ]
     },
     "execution_count": 9,
     "metadata": {},
     "output_type": "execute_result"
    },
    {
     "data": {
      "image/png": "[encoded data removed]",
      "text/plain": [
       "<Figure size 640x480 with 1 Axes>"
      ]
     },
     "metadata": {},
     "output_type": "display_data"
    }
   ],
   "source": [
    "# plt.imshow(torch.load(Path(dir_to_save, '1.pt'), weights_only=True))"
   ]
  },
  {
   "cell_type": "code",
   "execution_count": 10,
   "metadata": {},
   "outputs": [],
   "source": [
    "def load_tensors(dir_path, filenames):\n",
    "    for name in filenames:\n",
    "        path = Path(dir_path, name)\n",
    "        yield torch.load(path, weights_only=True)"
   ]
  },
  {
   "cell_type": "code",
   "execution_count": null,
   "metadata": {},
   "outputs": [],
   "source": [
    "def filenames_to_torch(filenames):\n",
    "    for name in filenames:\n",
    "        yield Path(name).with_suffix('.pt')\n",
    "\n",
    "# full_train_features = list(tqdm(load_tensors('/kaggle/input/kc25-melspec-data/melspec_nfft512_nc64', filenames_to_torch(full_train_df['id']))))\n",
    "# full_train_labels = list(full_train_df['message'])\n",
    "# len(full_train_features)"
   ]
  },
  {
   "cell_type": "code",
   "execution_count": 25,
   "metadata": {},
   "outputs": [
    {
     "name": "stdout",
     "output_type": "stream",
     "text": [
      "(25000,) (5000,)\n"
     ]
    },
    {
     "name": "stderr",
     "output_type": "stream",
     "text": [
      "0it [00:00, ?it/s]"
     ]
    },
    {
     "name": "stderr",
     "output_type": "stream",
     "text": [
      "5000it [00:02, 1756.27it/s]"
     ]
    },
    {
     "name": "stdout",
     "output_type": "stream",
     "text": [
      "5000\n"
     ]
    },
    {
     "name": "stderr",
     "output_type": "stream",
     "text": [
      "\n"
     ]
    }
   ],
   "source": [
    "from sklearn.model_selection import train_test_split\n",
    "\n",
    "# pftds_with_augs = ListDataset(full_train_features, full_train_labels, transform=rotation_transform)\n",
    "# pftds_no_augs = ListDataset(full_train_features, full_train_labels)\n",
    "\n",
    "# precomputed_full_train_dataset = ListDataset(full_train_features, full_train_labels)\n",
    "train_index, val_index = train_test_split(np.arange(full_train_df.shape[0]), test_size=1/6, shuffle=True, \n",
    "                                           random_state=42)\n",
    "print(train_index.shape, val_index.shape)\n",
    "val_features = list(tqdm(load_tensors('data/melspec_nfft512_nc64', filenames_to_torch(list(full_train_df.iloc[val_index]['id'])))))\n",
    "val_labels = list(full_train_df.iloc[val_index]['message'])\n",
    "# trainset = torch.utils.data.Subset(pftds_with_augs, train_index)\n",
    "valset = ListDataset(val_features, val_labels)\n",
    "print(len(valset))"
   ]
  },
  {
   "cell_type": "markdown",
   "metadata": {},
   "source": [
    "## model"
   ]
  },
  {
   "cell_type": "code",
   "execution_count": null,
   "metadata": {},
   "outputs": [],
   "source": [
    "class ResBlock(nn.Module):\n",
    "        def __init__(self, size, p_dropout):\n",
    "            super().__init__()\n",
    "            self.cell = nn.Sequential(\n",
    "                nn.Conv1d(size, size, kernel_size=3, padding=1),\n",
    "                nn.ReLU(),\n",
    "                nn.BatchNorm1d(size),\n",
    "                nn.Dropout(p=p_dropout),\n",
    "                nn.Conv1d(size, size, kernel_size=3, padding=1),\n",
    "                nn.ReLU(),\n",
    "                nn.BatchNorm1d(size),\n",
    "                nn.Dropout(p=p_dropout),\n",
    "            )\n",
    "            self.activation = nn.ReLU()\n",
    "            pass\n",
    "\n",
    "        def forward(self, x):\n",
    "            return self.activation(x + self.cell(x))\n",
    "        pass\n",
    "\n",
    "\n",
    "class MySomething(nn.Module):\n",
    "    def __init__(self, n_pooled_blocks = 3, n_head_blocks = 2, pooled_blocks_thickness=1, input_size = 64, inner_size = 64, output_size = 5, p_dropout = 0.1):\n",
    "        super().__init__()\n",
    "        self.estimator = nn.Sequential(\n",
    "            nn.Conv1d(input_size, inner_size, kernel_size=3),\n",
    "            nn.ReLU(),\n",
    "            nn.BatchNorm1d(inner_size),\n",
    "            nn.Dropout(),\n",
    "            *[\n",
    "                 nn.Sequential(\n",
    "                    *[ResBlock(inner_size, p_dropout) for i_ in range(pooled_blocks_thickness)],\n",
    "                    nn.MaxPool1d(kernel_size=2, stride=2),\n",
    "                    ) for _ in range(n_pooled_blocks)\n",
    "            ],\n",
    "            *[ResBlock(inner_size, p_dropout) for _ in range(n_head_blocks)],\n",
    "            nn.Conv1d(inner_size, output_size, kernel_size=3),\n",
    "        )\n",
    "        pass\n",
    "\n",
    "    def forward(self, x):\n",
    "        return self.estimator(x)"
   ]
  },
  {
   "cell_type": "code",
   "execution_count": 28,
   "metadata": {},
   "outputs": [
    {
     "data": {
      "text/html": [
       "<div>\n",
       "<style scoped>\n",
       "    .dataframe tbody tr th:only-of-type {\n",
       "        vertical-align: middle;\n",
       "    }\n",
       "\n",
       "    .dataframe tbody tr th {\n",
       "        vertical-align: top;\n",
       "    }\n",
       "\n",
       "    .dataframe thead th {\n",
       "        text-align: right;\n",
       "    }\n",
       "</style>\n",
       "<table border=\"1\" class=\"dataframe\">\n",
       "  <thead>\n",
       "    <tr style=\"text-align: right;\">\n",
       "      <th></th>\n",
       "      <th>id</th>\n",
       "      <th>message</th>\n",
       "    </tr>\n",
       "  </thead>\n",
       "  <tbody>\n",
       "    <tr>\n",
       "      <th>0</th>\n",
       "      <td>1.opus</td>\n",
       "      <td>03ЩУЫЛПИГХ</td>\n",
       "    </tr>\n",
       "    <tr>\n",
       "      <th>1</th>\n",
       "      <td>2.opus</td>\n",
       "      <td>ЪЛТ0ДС6А3Г</td>\n",
       "    </tr>\n",
       "    <tr>\n",
       "      <th>2</th>\n",
       "      <td>3.opus</td>\n",
       "      <td>5ЭКЫБЗХЯН</td>\n",
       "    </tr>\n",
       "    <tr>\n",
       "      <th>3</th>\n",
       "      <td>4.opus</td>\n",
       "      <td>ЖЫЦОИ68КФ</td>\n",
       "    </tr>\n",
       "    <tr>\n",
       "      <th>4</th>\n",
       "      <td>5.opus</td>\n",
       "      <td>32Ю7МЫ ЗЛ</td>\n",
       "    </tr>\n",
       "  </tbody>\n",
       "</table>\n",
       "</div>"
      ],
      "text/plain": [
       "       id     message\n",
       "0  1.opus  03ЩУЫЛПИГХ\n",
       "1  2.opus  ЪЛТ0ДС6А3Г\n",
       "2  3.opus   5ЭКЫБЗХЯН\n",
       "3  4.opus   ЖЫЦОИ68КФ\n",
       "4  5.opus   32Ю7МЫ ЗЛ"
      ]
     },
     "execution_count": 28,
     "metadata": {},
     "output_type": "execute_result"
    }
   ],
   "source": [
    "train_df = pd.read_csv('train.csv')\n",
    "train_df.head()"
   ]
  },
  {
   "cell_type": "code",
   "execution_count": 29,
   "metadata": {},
   "outputs": [
    {
     "name": "stdout",
     "output_type": "stream",
     "text": [
      "[' ', '#', '0', '1', '2', '3', '4', '5', '6', '7', '8', '9', 'А', 'Б', 'В', 'Г', 'Д', 'Е', 'Ж', 'З', 'И', 'Й', 'К', 'Л', 'М', 'Н', 'О', 'П', 'Р', 'С', 'Т', 'У', 'Ф', 'Х', 'Ц', 'Ч', 'Ш', 'Щ', 'Ъ', 'Ы', 'Ь', 'Э', 'Ю', 'Я']\n",
      "44\n",
      "{' ': 0, '#': 1, '0': 2, '1': 3, '2': 4, '3': 5, '4': 6, '5': 7, '6': 8, '7': 9, '8': 10, '9': 11, 'А': 12, 'Б': 13, 'В': 14, 'Г': 15, 'Д': 16, 'Е': 17, 'Ж': 18, 'З': 19, 'И': 20, 'Й': 21, 'К': 22, 'Л': 23, 'М': 24, 'Н': 25, 'О': 26, 'П': 27, 'Р': 28, 'С': 29, 'Т': 30, 'У': 31, 'Ф': 32, 'Х': 33, 'Ц': 34, 'Ч': 35, 'Ш': 36, 'Щ': 37, 'Ъ': 38, 'Ы': 39, 'Ь': 40, 'Э': 41, 'Ю': 42, 'Я': 43}\n"
     ]
    }
   ],
   "source": [
    "index_to_letter = sorted(set(''.join(train_df['message'])))\n",
    "print(index_to_letter)\n",
    "letter_to_index = dict([(letter, i) for i, letter in enumerate(index_to_letter)])\n",
    "dictionary_size = len(index_to_letter)\n",
    "print(dictionary_size)\n",
    "print(letter_to_index)"
   ]
  },
  {
   "cell_type": "code",
   "execution_count": 30,
   "metadata": {},
   "outputs": [],
   "source": [
    "class Vectorizer:\n",
    "    def __init__(self):\n",
    "        self.text_to_nums = letter_to_index\n",
    "        self.nums_to_text = index_to_letter\n",
    "        pass\n",
    "\n",
    "    def to_tensor(self, text: str):\n",
    "        return torch.tensor([self.text_to_nums[ch] for ch in text])\n",
    "    \n",
    "    def from_tensor(self, tensor: torch.Tensor):\n",
    "        assert tensor.ndim == 1\n",
    "        return ''.join([self.nums_to_text[num.item()] for num in tensor])"
   ]
  },
  {
   "cell_type": "code",
   "execution_count": 31,
   "metadata": {},
   "outputs": [],
   "source": [
    "vec_maker = Vectorizer()\n",
    "\n",
    "def text_transform(text: str):\n",
    "    return vec_maker.to_tensor(text) + 1 # for CTC loss\n",
    "\n",
    "def batch_text_transform(texts: list[str], pad_value = 0):\n",
    "    vecs = []\n",
    "    for t in texts:\n",
    "        vecs.append(text_transform(t))\n",
    "    lengths = torch.tensor([len(v) for v in vecs])\n",
    "    desired_length = torch.max(lengths)\n",
    "    vecs = [F.pad(v, (0, desired_length - len(v)), value=pad_value) for v in vecs]\n",
    "    batch = torch.stack(vecs, dim=0)\n",
    "    return batch, lengths"
   ]
  },
  {
   "cell_type": "code",
   "execution_count": 32,
   "metadata": {},
   "outputs": [
    {
     "data": {
      "text/plain": [
       "(tensor([[14, 22, 15, 25, 37, 23, 31,  1, 13,  3,  4],\n",
       "         [24, 14, 19, 44, 19, 25, 36, 16, 18, 16,  0]]),\n",
       " tensor([11, 10]))"
      ]
     },
     "execution_count": 32,
     "metadata": {},
     "output_type": "execute_result"
    }
   ],
   "source": [
    "batch_text_transform([train_df['message'][384], train_df['message'][545]])"
   ]
  },
  {
   "cell_type": "code",
   "execution_count": 39,
   "metadata": {},
   "outputs": [],
   "source": [
    "\"\"\"\n",
    "Author: Awni Hannun\n",
    "This is an example CTC decoder written in Python. The code is\n",
    "intended to be a simple example and is not designed to be\n",
    "especially efficient.\n",
    "The algorithm is a prefix beam search for a model trained\n",
    "with the CTC loss function.\n",
    "For more details checkout either of these references:\n",
    "  https://distill.pub/2017/ctc/#inference\n",
    "  https://arxiv.org/abs/1408.2873\n",
    "\"\"\"\n",
    "\n",
    "import numpy as np\n",
    "import math\n",
    "import collections\n",
    "\n",
    "NEG_INF = -float(\"inf\")\n",
    "\n",
    "class LongCTCSampler:\n",
    "  @staticmethod\n",
    "  def make_new_beam():\n",
    "    fn = lambda : (NEG_INF, NEG_INF)\n",
    "    return collections.defaultdict(fn)\n",
    "\n",
    "  @staticmethod\n",
    "  def logsumexp(*args):\n",
    "    \"\"\"\n",
    "    Stable log sum exp.\n",
    "    \"\"\"\n",
    "    if all(a == NEG_INF for a in args):\n",
    "        return NEG_INF\n",
    "    a_max = max(args)\n",
    "    lsp = math.log(sum(math.exp(a - a_max)\n",
    "                        for a in args))\n",
    "    return a_max + lsp\n",
    "\n",
    "  @staticmethod\n",
    "  def decode(probs, beam_size=100, blank=0):\n",
    "    \"\"\"\n",
    "    Performs inference for the given output probabilities.\n",
    "    Arguments:\n",
    "        probs: The output probabilities (e.g. post-softmax) for each\n",
    "          time step. Should be an array of shape (time x output dim).\n",
    "        beam_size (int): Size of the beam to use during inference.\n",
    "        blank (int): Index of the CTC blank label.\n",
    "    Returns the output label sequence and the corresponding negative\n",
    "    log-likelihood estimated by the decoder.\n",
    "    \"\"\"\n",
    "    T, S = probs.shape\n",
    "    probs = np.log(probs)\n",
    "\n",
    "    # Elements in the beam are (prefix, (p_blank, p_no_blank))\n",
    "    # Initialize the beam with the empty sequence, a probability of\n",
    "    # 1 for ending in blank and zero for ending in non-blank\n",
    "    # (in log space).\n",
    "    beam = [(tuple(), (0.0, NEG_INF))]\n",
    "\n",
    "    for t in range(T): # Loop over time\n",
    "\n",
    "      # A default dictionary to store the next step candidates.\n",
    "      next_beam = LongCTCSampler.make_new_beam()\n",
    "\n",
    "      for s in range(S): # Loop over vocab\n",
    "        p = probs[t, s]\n",
    "\n",
    "        # The variables p_b and p_nb are respectively the\n",
    "        # probabilities for the prefix given that it ends in a\n",
    "        # blank and does not end in a blank at this time step.\n",
    "        for prefix, (p_b, p_nb) in beam: # Loop over beam\n",
    "\n",
    "          # If we propose a blank the prefix doesn't change.\n",
    "          # Only the probability of ending in blank gets updated.\n",
    "          if s == blank:\n",
    "            n_p_b, n_p_nb = next_beam[prefix]\n",
    "            n_p_b = LongCTCSampler.logsumexp(n_p_b, p_b + p, p_nb + p)\n",
    "            next_beam[prefix] = (n_p_b, n_p_nb)\n",
    "            continue\n",
    "\n",
    "          # Extend the prefix by the new character s and add it to\n",
    "          # the beam. Only the probability of not ending in blank\n",
    "          # gets updated.\n",
    "          end_t = prefix[-1] if prefix else None\n",
    "          n_prefix = prefix + (s,)\n",
    "          n_p_b, n_p_nb = next_beam[n_prefix]\n",
    "          if s != end_t:\n",
    "            n_p_nb = LongCTCSampler.logsumexp(n_p_nb, p_b + p, p_nb + p)\n",
    "          else:\n",
    "            # We don't include the previous probability of not ending\n",
    "            # in blank (p_nb) if s is repeated at the end. The CTC\n",
    "            # algorithm merges characters not separated by a blank.\n",
    "            n_p_nb = LongCTCSampler.logsumexp(n_p_nb, p_b + p)\n",
    "            \n",
    "          # *NB* this would be a good place to include an LM score.\n",
    "          next_beam[n_prefix] = (n_p_b, n_p_nb)\n",
    "\n",
    "          # If s is repeated at the end we also update the unchanged\n",
    "          # prefix. This is the merging case.\n",
    "          if s == end_t:\n",
    "            n_p_b, n_p_nb = next_beam[prefix]\n",
    "            n_p_nb = LongCTCSampler.logsumexp(n_p_nb, p_nb + p)\n",
    "            next_beam[prefix] = (n_p_b, n_p_nb)\n",
    "\n",
    "      # Sort and trim the beam before moving on to the\n",
    "      # next time-step.\n",
    "      beam = sorted(next_beam.items(),\n",
    "              key=lambda x : LongCTCSampler.logsumexp(*x[1]),\n",
    "              reverse=True)\n",
    "      beam = beam[:beam_size]\n",
    "\n",
    "    best = beam[0]\n",
    "    return best[0], -LongCTCSampler.logsumexp(*best[1])\n",
    "  \n",
    "  @staticmethod\n",
    "  def sample(probs: torch.Tensor, beam_size=100):\n",
    "    # probs.shape = [C, T]\n",
    "    sequence, likelihood = LongCTCSampler.decode(np.asarray(probs.transpose(1, 0)), beam_size=beam_size)\n",
    "    return sequence, likelihood\n",
    "  \n",
    "  @staticmethod\n",
    "  def sample_in_morse(probs: torch.Tensor, beam_size=100, return_prob=False):\n",
    "    sequence, likelihood = LongCTCSampler.sample(probs, beam_size=beam_size)\n",
    "    morse = map_to_string(torch.tensor(sequence))\n",
    "    morse = morse.strip(' /')\n",
    "    if return_prob:\n",
    "      return morse, likelihood\n",
    "    return morse"
   ]
  },
  {
   "cell_type": "code",
   "execution_count": 35,
   "metadata": {},
   "outputs": [
    {
     "data": {
      "text/plain": [
       "'cpu'"
      ]
     },
     "execution_count": 35,
     "metadata": {},
     "output_type": "execute_result"
    }
   ],
   "source": [
    "device = 0 if torch.cuda.is_available() else 'cpu'\n",
    "device"
   ]
  },
  {
   "cell_type": "code",
   "execution_count": 38,
   "metadata": {},
   "outputs": [
    {
     "data": {
      "text/plain": [
       "<All keys matched successfully>"
      ]
     },
     "execution_count": 38,
     "metadata": {},
     "output_type": "execute_result"
    }
   ],
   "source": [
    "n_epochs = 30\n",
    "\n",
    "\n",
    "n_pooled_blocks = 4\n",
    "n_head_blocks = 2\n",
    "batch_size = 128\n",
    "lr = 0.005\n",
    "# n_blocks = 12\n",
    "inner_size = 64\n",
    "# exp_gamma = 0.8\n",
    "step_gamma = 0.359\n",
    "p_dropout = 0.165\n",
    "\n",
    "model = MySomething(n_pooled_blocks = n_pooled_blocks, n_head_blocks = n_head_blocks,\n",
    "                    input_size = 64, inner_size = inner_size, output_size = dictionary_size + 1,\n",
    "                    p_dropout = p_dropout).to(device)\n",
    "model.load_state_dict(torch.load('models/cnn_ctc/best_params_retrained_30ep.pt', weights_only=True, map_location=torch.device('cpu')))"
   ]
  },
  {
   "cell_type": "code",
   "execution_count": 40,
   "metadata": {},
   "outputs": [
    {
     "name": "stdout",
     "output_type": "stream",
     "text": [
      "У5БП Ю9В\n"
     ]
    },
    {
     "data": {
      "image/png": "[encoded data removed]",
      "text/plain": [
       "<Figure size 640x480 with 1 Axes>"
      ]
     },
     "metadata": {},
     "output_type": "display_data"
    },
    {
     "name": "stdout",
     "output_type": "stream",
     "text": [
      "(32, 8, 14, 28, 1, 43, 12, 15)\n",
      "У5БП Ю9В\n"
     ]
    }
   ],
   "source": [
    "model.eval()\n",
    "with torch.no_grad():\n",
    "    features, labels = valset[392]\n",
    "    print(labels)\n",
    "    plt.imshow(features)\n",
    "    plt.show()\n",
    "    features = features.to(device)\n",
    "    outs = model(features[None]).squeeze().to('cpu')\n",
    "    probs = F.softmax(outs, dim=0)\n",
    "    seqs, likelihood = LongCTCSampler.sample(probs, beam_size=10)\n",
    "    print(seqs)\n",
    "    text = vec_maker.from_tensor(torch.tensor(seqs) - 1)\n",
    "    print(text)\n",
    "    "
   ]
  },
  {
   "cell_type": "code",
   "execution_count": 41,
   "metadata": {},
   "outputs": [
    {
     "name": "stderr",
     "output_type": "stream",
     "text": [
      "100%|██████████| 1000/1000 [01:27<00:00, 11.40it/s]\n"
     ]
    },
    {
     "data": {
      "text/plain": [
       "np.float64(0.511)"
      ]
     },
     "execution_count": 41,
     "metadata": {},
     "output_type": "execute_result"
    }
   ],
   "source": [
    "model.eval()\n",
    "with torch.no_grad():\n",
    "    distance_buffer = []\n",
    "    for features, labels in tqdm([valset[i] for i in range(1000)]):\n",
    "        features = features.to(device)\n",
    "        outs = model(features[None]).squeeze().to('cpu')\n",
    "        probs = F.softmax(outs, dim=0)\n",
    "        seqs, likelihood = LongCTCSampler.sample(probs, beam_size=10)\n",
    "        text = vec_maker.from_tensor(torch.tensor(seqs) - 1)\n",
    "        decoded_message = text\n",
    "        dist = Levenshtein.distance(decoded_message, labels)\n",
    "        distance_buffer.append(dist)\n",
    "    mean_dist = np.mean(distance_buffer)\n",
    "mean_dist"
   ]
  },
  {
   "cell_type": "code",
   "execution_count": 43,
   "metadata": {},
   "outputs": [
    {
     "name": "stderr",
     "output_type": "stream",
     "text": [
      "100%|██████████| 1000/1000 [02:51<00:00,  5.82it/s]\n"
     ]
    },
    {
     "data": {
      "text/plain": [
       "np.float64(0.511)"
      ]
     },
     "execution_count": 43,
     "metadata": {},
     "output_type": "execute_result"
    }
   ],
   "source": [
    "model.eval()\n",
    "with torch.no_grad():\n",
    "    distance_buffer = []\n",
    "    for features, labels in tqdm([valset[i] for i in range(1000)]):\n",
    "        features = features.to(device)\n",
    "        outs = model(features[None]).squeeze().to('cpu')\n",
    "        probs = F.softmax(outs, dim=0)\n",
    "        seqs, likelihood = LongCTCSampler.sample(probs, beam_size=20)\n",
    "        text = vec_maker.from_tensor(torch.tensor(seqs) - 1)\n",
    "        decoded_message = text\n",
    "        dist = Levenshtein.distance(decoded_message, labels)\n",
    "        distance_buffer.append(dist)\n",
    "    mean_dist = np.mean(distance_buffer)\n",
    "mean_dist"
   ]
  },
  {
   "cell_type": "code",
   "execution_count": 44,
   "metadata": {},
   "outputs": [
    {
     "name": "stderr",
     "output_type": "stream",
     "text": [
      "100%|██████████| 1000/1000 [00:42<00:00, 23.79it/s]\n"
     ]
    },
    {
     "data": {
      "text/plain": [
       "np.float64(0.513)"
      ]
     },
     "execution_count": 44,
     "metadata": {},
     "output_type": "execute_result"
    }
   ],
   "source": [
    "model.eval()\n",
    "with torch.no_grad():\n",
    "    distance_buffer = []\n",
    "    for features, labels in tqdm([valset[i] for i in range(1000)]):\n",
    "        features = features.to(device)\n",
    "        outs = model(features[None]).squeeze().to('cpu')\n",
    "        probs = F.softmax(outs, dim=0)\n",
    "        seqs, likelihood = LongCTCSampler.sample(probs, beam_size=5)\n",
    "        text = vec_maker.from_tensor(torch.tensor(seqs) - 1)\n",
    "        decoded_message = text\n",
    "        dist = Levenshtein.distance(decoded_message, labels)\n",
    "        distance_buffer.append(dist)\n",
    "    mean_dist = np.mean(distance_buffer)\n",
    "mean_dist"
   ]
  },
  {
   "cell_type": "code",
   "execution_count": 45,
   "metadata": {},
   "outputs": [
    {
     "name": "stderr",
     "output_type": "stream",
     "text": [
      "100%|██████████| 1000/1000 [00:24<00:00, 41.29it/s]\n"
     ]
    },
    {
     "data": {
      "text/plain": [
       "np.float64(0.513)"
      ]
     },
     "execution_count": 45,
     "metadata": {},
     "output_type": "execute_result"
    }
   ],
   "source": [
    "model.eval()\n",
    "with torch.no_grad():\n",
    "    distance_buffer = []\n",
    "    for features, labels in tqdm([valset[i] for i in range(1000)]):\n",
    "        features = features.to(device)\n",
    "        outs = model(features[None]).squeeze().to('cpu')\n",
    "        probs = F.softmax(outs, dim=0)\n",
    "        seqs, likelihood = LongCTCSampler.sample(probs, beam_size=3)\n",
    "        text = vec_maker.from_tensor(torch.tensor(seqs) - 1)\n",
    "        decoded_message = text\n",
    "        dist = Levenshtein.distance(decoded_message, labels)\n",
    "        distance_buffer.append(dist)\n",
    "    mean_dist = np.mean(distance_buffer)\n",
    "mean_dist"
   ]
  },
  {
   "cell_type": "code",
   "execution_count": null,
   "metadata": {},
   "outputs": [],
   "source": []
  }
 ],
 "metadata": {
  "kernelspec": {
   "display_name": ".venv",
   "language": "python",
   "name": "python3"
  },
  "language_info": {
   "codemirror_mode": {
    "name": "ipython",
    "version": 3
   },
   "file_extension": ".py",
   "mimetype": "text/x-python",
   "name": "python",
   "nbconvert_exporter": "python",
   "pygments_lexer": "ipython3",
   "version": "3.11.3"
  }
 },
 "nbformat": 4,
 "nbformat_minor": 2
}
