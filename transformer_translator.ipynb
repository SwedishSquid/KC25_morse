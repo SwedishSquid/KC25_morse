{
 "cells": [
  {
   "cell_type": "code",
   "execution_count": 1,
   "metadata": {},
   "outputs": [],
   "source": [
    "import numpy as np\n",
    "import pandas as pd\n",
    "import torch\n",
    "import torch.nn as nn\n",
    "import Levenshtein\n",
    "import librosa\n",
    "import matplotlib.pyplot as plt\n",
    "import MorseCodePy as mcp\n",
    "from pathlib import Path\n",
    "from tqdm import tqdm\n",
    "import torch.nn.functional as F\n",
    "import re"
   ]
  },
  {
   "cell_type": "code",
   "execution_count": 2,
   "metadata": {},
   "outputs": [
    {
     "data": {
      "text/plain": [
       "35000"
      ]
     },
     "execution_count": 2,
     "metadata": {},
     "output_type": "execute_result"
    }
   ],
   "source": [
    "full_train_df = pd.read_csv('train.csv')\n",
    "test_df = pd.read_csv('test.csv')\n",
    "all_filenames = (list(full_train_df['id']) + list(test_df['id']))\n",
    "len(all_filenames)"
   ]
  },
  {
   "cell_type": "code",
   "execution_count": 3,
   "metadata": {},
   "outputs": [],
   "source": [
    "dev_flag = True\n",
    "data_dir = 'data/melspec_nfft512_nc64'"
   ]
  },
  {
   "cell_type": "markdown",
   "metadata": {},
   "source": [
    "# text and tokens"
   ]
  },
  {
   "cell_type": "code",
   "execution_count": 4,
   "metadata": {},
   "outputs": [
    {
     "name": "stdout",
     "output_type": "stream",
     "text": [
      "st = $; et = %\n",
      "46\n",
      "['$', '%', ' ', '#', '0', '1', '2', '3', '4', '5', '6', '7', '8', '9', 'А', 'Б', 'В', 'Г', 'Д', 'Е', 'Ж', 'З', 'И', 'Й', 'К', 'Л', 'М', 'Н', 'О', 'П', 'Р', 'С', 'Т', 'У', 'Ф', 'Х', 'Ц', 'Ч', 'Ш', 'Щ', 'Ъ', 'Ы', 'Ь', 'Э', 'Ю', 'Я']\n",
      "{'$': 0, '%': 1, ' ': 2, '#': 3, '0': 4, '1': 5, '2': 6, '3': 7, '4': 8, '5': 9, '6': 10, '7': 11, '8': 12, '9': 13, 'А': 14, 'Б': 15, 'В': 16, 'Г': 17, 'Д': 18, 'Е': 19, 'Ж': 20, 'З': 21, 'И': 22, 'Й': 23, 'К': 24, 'Л': 25, 'М': 26, 'Н': 27, 'О': 28, 'П': 29, 'Р': 30, 'С': 31, 'Т': 32, 'У': 33, 'Ф': 34, 'Х': 35, 'Ц': 36, 'Ч': 37, 'Ш': 38, 'Щ': 39, 'Ъ': 40, 'Ы': 41, 'Ь': 42, 'Э': 43, 'Ю': 44, 'Я': 45}\n"
     ]
    }
   ],
   "source": [
    "# $ - start; % - end\n",
    "index_to_token = ['$', '%'] + sorted(set(''.join(full_train_df['message'])))\n",
    "start_token = index_to_token[0]\n",
    "end_token = index_to_token[1]\n",
    "print(f'st = {start_token}; et = {end_token}')\n",
    "token_to_index = dict([(token, i) for i, token in enumerate(index_to_token)])\n",
    "dictionary_size = len(index_to_token)\n",
    "print(dictionary_size)\n",
    "print(index_to_token)\n",
    "print(token_to_index)"
   ]
  },
  {
   "cell_type": "code",
   "execution_count": 5,
   "metadata": {},
   "outputs": [],
   "source": [
    "class Vectorizer:\n",
    "    def __init__(self):\n",
    "        self.text_to_nums = token_to_index\n",
    "        self.nums_to_text = index_to_token\n",
    "        pass\n",
    "\n",
    "    def to_tensor(self, text: str):\n",
    "        return torch.tensor([self.text_to_nums[ch] for ch in text])\n",
    "    \n",
    "    def from_tensor(self, tensor: torch.Tensor):\n",
    "        assert tensor.ndim == 1\n",
    "        return ''.join([self.nums_to_text[num.item()] for num in tensor])\n",
    "\n",
    "vec_maker = Vectorizer()\n",
    "\n",
    "def text_transform(text: str):\n",
    "    return vec_maker.to_tensor(text)\n",
    "\n",
    "def batch_text_transform(texts: list[str], pad_value = 1):\n",
    "    vecs = []\n",
    "    for t in texts:\n",
    "        vecs.append(text_transform(t))\n",
    "    lengths = torch.tensor([len(v) for v in vecs])\n",
    "    desired_length = torch.max(lengths)\n",
    "    vecs = [F.pad(v, (0, desired_length - len(v)), value=pad_value) for v in vecs]\n",
    "    batch = torch.stack(vecs, dim=0)\n",
    "    return batch, lengths"
   ]
  },
  {
   "cell_type": "markdown",
   "metadata": {},
   "source": [
    "## data"
   ]
  },
  {
   "cell_type": "code",
   "execution_count": 6,
   "metadata": {},
   "outputs": [],
   "source": [
    "class ListDataset(torch.utils.data.Dataset):\n",
    "    def __init__(self, features: list, labels: list, transform = lambda x: x):\n",
    "        self.features = features\n",
    "        self.labels = labels\n",
    "        assert len(features) == len(labels)\n",
    "        self.transform = transform\n",
    "        pass\n",
    "\n",
    "    def __len__(self):\n",
    "        return len(self.features)\n",
    "    \n",
    "    def __getitem__(self, index):\n",
    "        return self.transform(self.features[index]), self.labels[index]"
   ]
  },
  {
   "cell_type": "code",
   "execution_count": 7,
   "metadata": {},
   "outputs": [],
   "source": [
    "rng = np.random.default_rng()\n",
    "\n",
    "def rotation_transform(tensor: torch.Tensor):\n",
    "    threshold = rng.integers(0, tensor.shape[0])\n",
    "    result = torch.concat([tensor[threshold:], tensor[:threshold]], dim=0)\n",
    "    return result"
   ]
  },
  {
   "cell_type": "code",
   "execution_count": 8,
   "metadata": {},
   "outputs": [],
   "source": [
    "def load_tensors(dir_path, filenames):\n",
    "    for name in filenames:\n",
    "        path = Path(dir_path, name)\n",
    "        yield torch.load(path, weights_only=True)"
   ]
  },
  {
   "cell_type": "code",
   "execution_count": 9,
   "metadata": {},
   "outputs": [],
   "source": [
    "def filenames_to_torch(filenames):\n",
    "    for name in filenames:\n",
    "        yield Path(name).with_suffix('.pt')\n",
    "\n",
    "def add_special_tokens(texts: str):\n",
    "    for text in texts:\n",
    "        yield start_token + text + end_token"
   ]
  },
  {
   "cell_type": "code",
   "execution_count": 10,
   "metadata": {},
   "outputs": [
    {
     "name": "stdout",
     "output_type": "stream",
     "text": [
      "(3000,) (5000,)\n"
     ]
    },
    {
     "name": "stderr",
     "output_type": "stream",
     "text": [
      "3000it [00:03, 815.66it/s]\n",
      "5000it [00:05, 962.11it/s] \n"
     ]
    },
    {
     "name": "stdout",
     "output_type": "stream",
     "text": [
      "3000 5000\n",
      "$МЪА П0ЪЛ%\n"
     ]
    },
    {
     "data": {
      "image/png": "[encoded data removed]",
      "text/plain": [
       "<Figure size 640x480 with 1 Axes>"
      ]
     },
     "metadata": {},
     "output_type": "display_data"
    }
   ],
   "source": [
    "from sklearn.model_selection import train_test_split\n",
    "train_index, val_index = train_test_split(np.arange(full_train_df.shape[0]), test_size=1/6, shuffle=True, \n",
    "                                           random_state=42)\n",
    "if dev_flag:\n",
    "    train_index = train_index[:3000]    # to save memory\n",
    "\n",
    "print(train_index.shape, val_index.shape)\n",
    "\n",
    "train_features = list(tqdm(load_tensors(data_dir, filenames_to_torch(list(full_train_df.iloc[train_index]['id'])))))\n",
    "val_features = list(tqdm(load_tensors(data_dir, filenames_to_torch(list(full_train_df.iloc[val_index]['id'])))))\n",
    "train_labels = list(add_special_tokens(full_train_df.iloc[train_index]['message']))\n",
    "val_labels = list(add_special_tokens(full_train_df.iloc[val_index]['message']))\n",
    "\n",
    "assert len(train_features) == len(train_labels)\n",
    "assert len(val_features) == len(val_labels)\n",
    "\n",
    "trainset = ListDataset(train_features, train_labels, transform=rotation_transform)\n",
    "valset = ListDataset(val_features, val_labels)\n",
    "\n",
    "print(len(trainset), len(valset))\n",
    "plt.imshow(valset[0][0])\n",
    "print(valset[0][1])"
   ]
  },
  {
   "cell_type": "code",
   "execution_count": 11,
   "metadata": {},
   "outputs": [
    {
     "data": {
      "text/plain": [
       "(tensor([[ 0, 26, 40, 14,  2, 29,  4, 40, 25,  1,  1,  1,  1,  1,  1],\n",
       "         [ 0, 27,  9,  3, 20,  6, 31, 12, 24, 17,  1,  1,  1,  1,  1],\n",
       "         [ 0, 26, 42,  4, 44, 42,  2, 38, 37, 25, 27,  1,  1,  1,  1],\n",
       "         [ 0, 28, 17,  5,  2, 25, 19, 19, 15, 35, 22, 19, 39,  1,  1],\n",
       "         [ 0,  7, 20, 29,  6, 29, 22,  9, 41,  1,  1,  1,  1,  1,  1],\n",
       "         [ 0, 34,  2, 35, 32, 15, 40,  3, 25, 32, 26, 22, 30, 29,  1],\n",
       "         [ 0, 38,  8,  4, 37,  2, 41, 23, 16, 45, 17,  1,  1,  1,  1],\n",
       "         [ 0, 13,  2,  5, 16, 39, 35,  2, 40,  1,  1,  1,  1,  1,  1],\n",
       "         [ 0, 30, 44,  2, 21,  2, 17, 42, 28,  2, 18, 36,  1,  1,  1],\n",
       "         [ 0, 21,  2, 27, 19, 21, 31, 24, 14,  3, 27, 42, 33, 30,  1]]),\n",
       " tensor([10, 11, 12, 14, 10, 15, 12, 10, 13, 15]))"
      ]
     },
     "execution_count": 11,
     "metadata": {},
     "output_type": "execute_result"
    }
   ],
   "source": [
    "batch_text_transform(val_labels[:10])"
   ]
  },
  {
   "cell_type": "markdown",
   "metadata": {},
   "source": [
    "# model"
   ]
  },
  {
   "cell_type": "code",
   "execution_count": 12,
   "metadata": {},
   "outputs": [],
   "source": [
    "# from here https://github.com/pytorch/examples/blob/main/word_language_model/model.py\n",
    "import math\n",
    "\n",
    "\n",
    "class PositionalEncoding(nn.Module):\n",
    "    def __init__(self, d_model, max_len=5000):\n",
    "        super(PositionalEncoding, self).__init__()\n",
    "\n",
    "        pe = torch.zeros(max_len, d_model)\n",
    "        position = torch.arange(0, max_len, dtype=torch.float).unsqueeze(1)\n",
    "        div_term = torch.exp(torch.arange(0, d_model, 2).float() * (-math.log(10000.0) / d_model))\n",
    "        pe[:, 0::2] = torch.sin(position * div_term)\n",
    "        pe[:, 1::2] = torch.cos(position * div_term)\n",
    "        pe = pe.unsqueeze(0).transpose(0, 1)\n",
    "        self.register_buffer('pe', pe)  # how about to cuda? might be handled by model.to('cuda') though\n",
    "\n",
    "    def forward(self, x):\n",
    "        x = x + self.pe[:x.size(0), :]\n",
    "        return x"
   ]
  },
  {
   "cell_type": "code",
   "execution_count": 61,
   "metadata": {},
   "outputs": [],
   "source": [
    "N = 5   # batch\n",
    "S = 501\n",
    "T = 30 \n",
    "E = 64\n",
    "tgt = torch.ones((T, N, E), dtype=torch.long)\n",
    "memory = torch.ones((S, N, E))"
   ]
  },
  {
   "cell_type": "code",
   "execution_count": 62,
   "metadata": {},
   "outputs": [
    {
     "name": "stdout",
     "output_type": "stream",
     "text": [
      "torch.Size([30, 64])\n"
     ]
    },
    {
     "data": {
      "text/plain": [
       "<matplotlib.image.AxesImage at 0x1f263af3250>"
      ]
     },
     "execution_count": 62,
     "metadata": {},
     "output_type": "execute_result"
    },
    {
     "data": {
      "image/png": "[encoded data removed]",
      "text/plain": [
       "<Figure size 640x480 with 1 Axes>"
      ]
     },
     "metadata": {},
     "output_type": "display_data"
    }
   ],
   "source": [
    "out = PositionalEncoding(d_model=E)(torch.zeros(T, N, E))\n",
    "print(out[:, 0, :].shape)\n",
    "plt.imshow(out[:, 0, :])"
   ]
  },
  {
   "cell_type": "code",
   "execution_count": 63,
   "metadata": {},
   "outputs": [],
   "source": [
    "class TModel(nn.Module):\n",
    "    def __init__(self, n_embeddings: int, inner_dim: int, out_size: int, num_layers:int = 4):\n",
    "        super().__init__()\n",
    "        self.embedding = nn.Embedding(num_embeddings=n_embeddings, embedding_dim=inner_dim)\n",
    "        self.tgt_pos_encoding = PositionalEncoding(d_model=inner_dim)\n",
    "        self.memory_pos_encoding = PositionalEncoding(d_model=inner_dim)\n",
    "        self.decoder = nn.TransformerDecoder(\n",
    "            nn.TransformerDecoderLayer(d_model=inner_dim, nhead=8, dim_feedforward=128, dropout=0.1),\n",
    "            num_layers=num_layers)\n",
    "        self.head = nn.Sequential(\n",
    "            nn.ReLU(),\n",
    "            nn.Linear(inner_dim, out_size),\n",
    "            nn.LayerNorm(out_size),\n",
    "        )\n",
    "        pass\n",
    "\n",
    "    def _generate_square_subsequent_mask(self, sz):\n",
    "        return torch.log(torch.tril(torch.ones(sz,sz)))\n",
    "    \n",
    "    def forward(self, tgt: torch.Tensor, memory: torch.Tensor):\n",
    "        x = self.embedding(tgt)\n",
    "        x = self.tgt_pos_encoding(x)\n",
    "        memory = self.memory_pos_encoding(memory)\n",
    "        out = self.decoder(x, memory, tgt_mask=self._generate_square_subsequent_mask(tgt.shape[0]))   # todo: cache mask\n",
    "        out = self.head(out)\n",
    "        return out"
   ]
  },
  {
   "cell_type": "code",
   "execution_count": 64,
   "metadata": {},
   "outputs": [],
   "source": [
    "class FullTransformer(nn.Module):\n",
    "    def __init__(self, encoder: nn.Module, decoder: nn.Module):\n",
    "        super().__init__()\n",
    "        self.encoder = encoder\n",
    "        self.decoder = decoder\n",
    "        pass\n",
    "\n",
    "    def forward(self):\n",
    "        raise ValueError('not implemented')"
   ]
  },
  {
   "cell_type": "markdown",
   "metadata": {},
   "source": [
    "# train like"
   ]
  },
  {
   "cell_type": "code",
   "execution_count": 86,
   "metadata": {},
   "outputs": [],
   "source": [
    "def cross_entropy_loss(x: torch.Tensor, gt: torch.Tensor, seq_lengths: torch.Tensor):\n",
    "    probs = torch.softmax(x, dim=-1)\n",
    "    indexes = torch.arange(probs.shape[0]).unsqueeze(1)\n",
    "    mask = (indexes < seq_lengths)[:, :, None]\n",
    "    true_probs = F.one_hot(gt, dictionary_size)\n",
    "    token_loss = torch.sum(true_probs * torch.log(probs) * mask, dim=-1)\n",
    "    loss = -torch.mean(token_loss)\n",
    "    return loss"
   ]
  },
  {
   "cell_type": "code",
   "execution_count": 87,
   "metadata": {},
   "outputs": [],
   "source": [
    "class ResBlock(nn.Module):\n",
    "        def __init__(self, size, p_dropout):\n",
    "            super().__init__()\n",
    "            self.cell = nn.Sequential(\n",
    "                nn.Conv1d(size, size, kernel_size=3, padding=1),\n",
    "                nn.ReLU(),\n",
    "                nn.BatchNorm1d(size),\n",
    "                nn.Dropout(p=p_dropout),\n",
    "                nn.Conv1d(size, size, kernel_size=3, padding=1),\n",
    "                nn.ReLU(),\n",
    "                nn.BatchNorm1d(size),\n",
    "                nn.Dropout(p=p_dropout),\n",
    "            )\n",
    "            self.activation = nn.ReLU()\n",
    "            pass\n",
    "\n",
    "        def forward(self, x):\n",
    "            return self.activation(x + self.cell(x))\n",
    "        pass\n",
    "\n",
    "\n",
    "class MySomething(nn.Module):\n",
    "    def __init__(self, n_pooled_blocks = 3, n_head_blocks = 2, pooled_blocks_thickness=1, input_size = 64, inner_size = 64, output_size = 5, p_dropout = 0.1):\n",
    "        super().__init__()\n",
    "        self.estimator = nn.Sequential(\n",
    "            nn.Conv1d(input_size, inner_size, kernel_size=3),\n",
    "            nn.ReLU(),\n",
    "            nn.BatchNorm1d(inner_size),\n",
    "            nn.Dropout(),\n",
    "            *[\n",
    "                 nn.Sequential(\n",
    "                    *[ResBlock(inner_size, p_dropout) for i_ in range(pooled_blocks_thickness)],\n",
    "                    nn.MaxPool1d(kernel_size=2, stride=2),\n",
    "                    ) for _ in range(n_pooled_blocks)\n",
    "            ],\n",
    "            *[ResBlock(inner_size, p_dropout) for _ in range(n_head_blocks)],\n",
    "            nn.Conv1d(inner_size, output_size, kernel_size=3),\n",
    "        )\n",
    "        pass\n",
    "\n",
    "    def forward(self, x):\n",
    "        return self.estimator(x)"
   ]
  },
  {
   "cell_type": "code",
   "execution_count": 88,
   "metadata": {},
   "outputs": [],
   "source": [
    "class CNNSoundEncoder(nn.Module):\n",
    "    def __init__(self, encoder: nn.Module):\n",
    "        super().__init__()\n",
    "        self.encoder = encoder\n",
    "        pass\n",
    "\n",
    "    def forward(self, x: torch.Tensor):\n",
    "        assert x.ndim == 3\n",
    "        encoded = self.encoder(x)\n",
    "        encoded = encoded.transpose(0, 2).transpose(1, 2)\n",
    "        return encoded"
   ]
  },
  {
   "cell_type": "code",
   "execution_count": 89,
   "metadata": {},
   "outputs": [
    {
     "ename": "ValueError",
     "evalue": "dev flag is up!",
     "output_type": "error",
     "traceback": [
      "\u001b[31m---------------------------------------------------------------------------\u001b[39m",
      "\u001b[31mValueError\u001b[39m                                Traceback (most recent call last)",
      "\u001b[36mCell\u001b[39m\u001b[36m \u001b[39m\u001b[32mIn[89]\u001b[39m\u001b[32m, line 2\u001b[39m\n\u001b[32m      1\u001b[39m \u001b[38;5;28;01mif\u001b[39;00m dev_flag:\n\u001b[32m----> \u001b[39m\u001b[32m2\u001b[39m     \u001b[38;5;28;01mraise\u001b[39;00m \u001b[38;5;167;01mValueError\u001b[39;00m(\u001b[33m\"\u001b[39m\u001b[33mdev flag is up!\u001b[39m\u001b[33m\"\u001b[39m)\n",
      "\u001b[31mValueError\u001b[39m: dev flag is up!"
     ]
    }
   ],
   "source": [
    "if dev_flag:\n",
    "    raise ValueError(\"dev flag is up!\")"
   ]
  },
  {
   "cell_type": "code",
   "execution_count": 90,
   "metadata": {},
   "outputs": [],
   "source": [
    "n_pooled_blocks = 4\n",
    "n_head_blocks = 2\n",
    "inner_size = 64\n",
    "p_dropout = 0.165\n",
    "\n",
    "sound_model = MySomething(n_pooled_blocks = n_pooled_blocks, n_head_blocks = n_head_blocks,\n",
    "                    input_size = 64, inner_size = inner_size, output_size = 44 + 1,\n",
    "                    p_dropout = p_dropout).to('cpu')\n",
    "sound_model.load_state_dict(torch.load('models/cnn_ctc/best_params_retrained_30ep.pt', weights_only=True, map_location=torch.device('cpu')))\n",
    "\n",
    "decoder_model = TModel(n_embeddings=dictionary_size, inner_dim=64, out_size=dictionary_size)\n",
    "encoder_model = CNNSoundEncoder(sound_model.estimator[:-1])\n",
    "\n",
    "model = FullTransformer(encoder_model, decoder_model)"
   ]
  },
  {
   "cell_type": "code",
   "execution_count": 113,
   "metadata": {},
   "outputs": [
    {
     "name": "stderr",
     "output_type": "stream",
     "text": [
      "100%|██████████| 157/157 [00:19<00:00,  8.24it/s]\n"
     ]
    },
    {
     "name": "stdout",
     "output_type": "stream",
     "text": [
      "tensor(2.9152)\n"
     ]
    },
    {
     "name": "stderr",
     "output_type": "stream",
     "text": [
      "100%|██████████| 157/157 [00:19<00:00,  8.18it/s]\n"
     ]
    },
    {
     "name": "stdout",
     "output_type": "stream",
     "text": [
      "tensor(2.8972)\n"
     ]
    },
    {
     "name": "stderr",
     "output_type": "stream",
     "text": [
      "100%|██████████| 157/157 [00:18<00:00,  8.28it/s]\n"
     ]
    },
    {
     "name": "stdout",
     "output_type": "stream",
     "text": [
      "tensor(2.8868)\n"
     ]
    },
    {
     "name": "stderr",
     "output_type": "stream",
     "text": [
      "100%|██████████| 157/157 [00:18<00:00,  8.28it/s]\n"
     ]
    },
    {
     "name": "stdout",
     "output_type": "stream",
     "text": [
      "tensor(2.8883)\n"
     ]
    },
    {
     "name": "stderr",
     "output_type": "stream",
     "text": [
      "100%|██████████| 157/157 [00:19<00:00,  8.11it/s]"
     ]
    },
    {
     "name": "stdout",
     "output_type": "stream",
     "text": [
      "tensor(2.8746)\n"
     ]
    },
    {
     "name": "stderr",
     "output_type": "stream",
     "text": [
      "\n"
     ]
    }
   ],
   "source": [
    "optimizer = torch.optim.AdamW(model.parameters(), lr=0.0001)\n",
    "val_loader = torch.utils.data.DataLoader(valset, batch_size=32, shuffle=True)\n",
    "\n",
    "for epoch in range(5):\n",
    "    loss_buffer = []\n",
    "    for features, labels in tqdm(val_loader):\n",
    "        encoded = model.encoder(features)\n",
    "        targets, target_lengths = batch_text_transform(labels)\n",
    "        targets = targets.transpose(0, 1)\n",
    "        logits = model.decoder(targets, encoded)\n",
    "        loss = cross_entropy_loss(logits[:1], targets[1:], target_lengths - 1)\n",
    "        loss.backward()\n",
    "        optimizer.step()\n",
    "        optimizer.zero_grad()\n",
    "        loss_buffer.append(loss.detach())\n",
    "    print(torch.mean(torch.tensor(loss_buffer)))"
   ]
  },
  {
   "cell_type": "code",
   "execution_count": 114,
   "metadata": {},
   "outputs": [],
   "source": [
    "def greedy_sampling(transformer: FullTransformer, features: torch.Tensor, device, out_length = 20):\n",
    "    with torch.no_grad():\n",
    "        memory = transformer.encoder(features)\n",
    "        decoder_input, _ = batch_text_transform([start_token] * memory.shape[1])\n",
    "        decoder_input = decoder_input.transpose(0, 1).to(device)\n",
    "        for i in range(1, out_length):\n",
    "            logits = transformer.decoder(decoder_input, memory)\n",
    "            preds = torch.argmax(logits[[-1]], dim=-1)\n",
    "            next_input = torch.concat([decoder_input, preds], dim=0)\n",
    "            decoder_input = next_input\n",
    "        decoder_input = decoder_input.to('cpu')\n",
    "        sampled_text = [vec_maker.from_tensor(decoder_input[:, i]) for i in range(decoder_input.shape[1])]\n",
    "    return sampled_text"
   ]
  },
  {
   "cell_type": "code",
   "execution_count": 115,
   "metadata": {},
   "outputs": [
    {
     "data": {
      "text/plain": [
       "['$%%%%%%%%%%%%%%%%%%%',\n",
       " '$%%%%%%%%%%%%%%%%%%%',\n",
       " '$%%%%%%%%%%%%%%%%%%%',\n",
       " '$%%%%%%%%%%%%%%%%%%%',\n",
       " '$%%%%%%%%%%%%%%%%%%%',\n",
       " '$%%%%%%%%%%%%%%%%%%%',\n",
       " '$%%%%%%%%%%%%%%%%%%%',\n",
       " '$%%%%%%%%%%%%%%%%%%%',\n",
       " '$%%%%%%%%%%%%%%%%%%%',\n",
       " '$%%%%%%%%%%%%%%%%%%%']"
      ]
     },
     "execution_count": 115,
     "metadata": {},
     "output_type": "execute_result"
    }
   ],
   "source": [
    "features, gt_labels = next(iter(val_loader))\n",
    "greedy_sampling(transformer=model, features=features, device='cpu')[:10]"
   ]
  },
  {
   "cell_type": "code",
   "execution_count": 26,
   "metadata": {},
   "outputs": [
    {
     "data": {
      "text/plain": [
       "54"
      ]
     },
     "execution_count": 26,
     "metadata": {},
     "output_type": "execute_result"
    }
   ],
   "source": [
    "np.random.randint(0, 100)"
   ]
  }
 ],
 "metadata": {
  "kernelspec": {
   "display_name": ".venv",
   "language": "python",
   "name": "python3"
  },
  "language_info": {
   "codemirror_mode": {
    "name": "ipython",
    "version": 3
   },
   "file_extension": ".py",
   "mimetype": "text/x-python",
   "name": "python",
   "nbconvert_exporter": "python",
   "pygments_lexer": "ipython3",
   "version": "3.11.3"
  }
 },
 "nbformat": 4,
 "nbformat_minor": 2
}
